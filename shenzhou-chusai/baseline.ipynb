{
 "cells": [
  {
   "cell_type": "markdown",
   "metadata": {},
   "source": [
    "# 神州极客大赛  智能定价"
   ]
  },
  {
   "cell_type": "code",
   "execution_count": 1,
   "metadata": {},
   "outputs": [],
   "source": [
    "import pandas as pd\n",
    "import numpy as np\n",
    "import lightgbm as lgb\n",
    "import time\n",
    "from sklearn.preprocessing import LabelEncoder\n",
    "from sklearn.metrics import roc_auc_score as auc\n",
    "from sklearn.model_selection import StratifiedKFold,KFold\n",
    "\n",
    "\n",
    "# 导入需要的模块\n",
    "\n",
    "import matplotlib.pyplot as plt\n",
    "\n",
    "# 用来绘图的，封装了matplot\n",
    "# 要注意的是一旦导入了seaborn，\n",
    "# matplotlib的默认作图风格就会被覆盖成seaborn的格式\n",
    "import seaborn as sns       \n",
    "\n",
    "from scipy import stats\n",
    "from scipy.stats import  norm\n",
    "from sklearn.preprocessing import StandardScaler\n",
    "import warnings\n",
    "warnings.filterwarnings('ignore')\n",
    "%matplotlib inline  \n",
    "# 为了在jupyter notebook里作图，需要用到这个命令"
   ]
  },
  {
   "cell_type": "markdown",
   "metadata": {},
   "source": [
    "## EDA"
   ]
  },
  {
   "cell_type": "code",
   "execution_count": 2,
   "metadata": {},
   "outputs": [],
   "source": [
    "data_path = r'data/整车运输智能定价-初赛数据.xlsx'\n",
    "train_data = pd.read_excel(data_path,sheet_name='训练集')\n",
    "test_data = pd.read_excel(data_path,sheet_name='测试集')\n",
    "train_data.loc[:,\"index\"] = 0"
   ]
  },
  {
   "cell_type": "code",
   "execution_count": 3,
   "metadata": {},
   "outputs": [
    {
     "data": {
      "text/html": [
       "<div>\n",
       "<style scoped>\n",
       "    .dataframe tbody tr th:only-of-type {\n",
       "        vertical-align: middle;\n",
       "    }\n",
       "\n",
       "    .dataframe tbody tr th {\n",
       "        vertical-align: top;\n",
       "    }\n",
       "\n",
       "    .dataframe thead th {\n",
       "        text-align: right;\n",
       "    }\n",
       "</style>\n",
       "<table border=\"1\" class=\"dataframe\">\n",
       "  <thead>\n",
       "    <tr style=\"text-align: right;\">\n",
       "      <th></th>\n",
       "      <th>报价编号</th>\n",
       "      <th>距离km</th>\n",
       "      <th>车型</th>\n",
       "      <th>起始城市</th>\n",
       "      <th>目的城市</th>\n",
       "      <th>车长</th>\n",
       "      <th>车宽</th>\n",
       "      <th>车高</th>\n",
       "      <th>标准载重</th>\n",
       "      <th>车辆容积</th>\n",
       "      <th>货物类型</th>\n",
       "      <th>用车时间</th>\n",
       "      <th>货物特性</th>\n",
       "      <th>运输要求</th>\n",
       "      <th>备注</th>\n",
       "      <th>车价</th>\n",
       "      <th>index</th>\n",
       "    </tr>\n",
       "  </thead>\n",
       "  <tbody>\n",
       "    <tr>\n",
       "      <th>0</th>\n",
       "      <td>XJ2022041400009</td>\n",
       "      <td>559.18</td>\n",
       "      <td>微型面包车</td>\n",
       "      <td>陕西省</td>\n",
       "      <td>陕西省</td>\n",
       "      <td>1.8</td>\n",
       "      <td>1.3</td>\n",
       "      <td>1.1</td>\n",
       "      <td>0.5</td>\n",
       "      <td>1.6</td>\n",
       "      <td>一般货物</td>\n",
       "      <td>2022-04-15 10:00:00</td>\n",
       "      <td>NaN</td>\n",
       "      <td>NaN</td>\n",
       "      <td>货物共计18件，160公斤，库房内装车，按照客户要求货物卸到指定位置，返回单</td>\n",
       "      <td>77.78</td>\n",
       "      <td>0</td>\n",
       "    </tr>\n",
       "    <tr>\n",
       "      <th>1</th>\n",
       "      <td>2021102000011</td>\n",
       "      <td>67.17</td>\n",
       "      <td>7.6米厢车</td>\n",
       "      <td>重庆市</td>\n",
       "      <td>重庆市</td>\n",
       "      <td>7.6</td>\n",
       "      <td>2.3</td>\n",
       "      <td>2.5</td>\n",
       "      <td>9.8</td>\n",
       "      <td>34.0</td>\n",
       "      <td>高值货物</td>\n",
       "      <td>2021-10-20 14:44:08</td>\n",
       "      <td>NaN</td>\n",
       "      <td>NaN</td>\n",
       "      <td>NaN</td>\n",
       "      <td>81.48</td>\n",
       "      <td>0</td>\n",
       "    </tr>\n",
       "    <tr>\n",
       "      <th>2</th>\n",
       "      <td>2021111100008</td>\n",
       "      <td>548.07</td>\n",
       "      <td>4.2米厢车</td>\n",
       "      <td>济南市</td>\n",
       "      <td>田家庵区</td>\n",
       "      <td>4.2</td>\n",
       "      <td>1.8</td>\n",
       "      <td>1.8</td>\n",
       "      <td>3.0</td>\n",
       "      <td>12.0</td>\n",
       "      <td>高值货物</td>\n",
       "      <td>2021-11-11 17:21:54</td>\n",
       "      <td>NaN</td>\n",
       "      <td>NaN</td>\n",
       "      <td>项目要求使用9.6和4.2货车各1辆，约600公里。</td>\n",
       "      <td>74.07</td>\n",
       "      <td>0</td>\n",
       "    </tr>\n",
       "    <tr>\n",
       "      <th>3</th>\n",
       "      <td>XJ2022042000004</td>\n",
       "      <td>263.95</td>\n",
       "      <td>16.5米厢车</td>\n",
       "      <td>福州市</td>\n",
       "      <td>漳州市</td>\n",
       "      <td>16.5</td>\n",
       "      <td>2.5</td>\n",
       "      <td>2.8</td>\n",
       "      <td>28.0</td>\n",
       "      <td>100.0</td>\n",
       "      <td>超重货物</td>\n",
       "      <td>2022-04-20 13:57:00</td>\n",
       "      <td>NaN</td>\n",
       "      <td>NaN</td>\n",
       "      <td>NaN</td>\n",
       "      <td>129.63</td>\n",
       "      <td>0</td>\n",
       "    </tr>\n",
       "    <tr>\n",
       "      <th>4</th>\n",
       "      <td>2022012500017</td>\n",
       "      <td>175.97</td>\n",
       "      <td>高顶依维柯</td>\n",
       "      <td>上海市</td>\n",
       "      <td>浙江省</td>\n",
       "      <td>2.3</td>\n",
       "      <td>1.6</td>\n",
       "      <td>1.6</td>\n",
       "      <td>1.0</td>\n",
       "      <td>4.0</td>\n",
       "      <td>超重货物</td>\n",
       "      <td>2022-01-25 16:53:00</td>\n",
       "      <td>NaN</td>\n",
       "      <td>NaN</td>\n",
       "      <td>费用含装卸，一装两卸，单件货物比较大最好两个人送货，还要有手拉车，因为要上楼</td>\n",
       "      <td>62.52</td>\n",
       "      <td>0</td>\n",
       "    </tr>\n",
       "    <tr>\n",
       "      <th>...</th>\n",
       "      <td>...</td>\n",
       "      <td>...</td>\n",
       "      <td>...</td>\n",
       "      <td>...</td>\n",
       "      <td>...</td>\n",
       "      <td>...</td>\n",
       "      <td>...</td>\n",
       "      <td>...</td>\n",
       "      <td>...</td>\n",
       "      <td>...</td>\n",
       "      <td>...</td>\n",
       "      <td>...</td>\n",
       "      <td>...</td>\n",
       "      <td>...</td>\n",
       "      <td>...</td>\n",
       "      <td>...</td>\n",
       "      <td>...</td>\n",
       "    </tr>\n",
       "    <tr>\n",
       "      <th>2624</th>\n",
       "      <td>2021093000002</td>\n",
       "      <td>805.03</td>\n",
       "      <td>5.2米厢车</td>\n",
       "      <td>上海市</td>\n",
       "      <td>山东省</td>\n",
       "      <td>5.2</td>\n",
       "      <td>2.2</td>\n",
       "      <td>2.5</td>\n",
       "      <td>5.0</td>\n",
       "      <td>20.0</td>\n",
       "      <td>一般货物</td>\n",
       "      <td>2021-09-30 00:06:30</td>\n",
       "      <td>NaN</td>\n",
       "      <td>NaN</td>\n",
       "      <td>立即用车需求 提货直发 上海普陀真沃路348号-山东省济南市市中区白马山南路8号 国家粮食储...</td>\n",
       "      <td>118.52</td>\n",
       "      <td>0</td>\n",
       "    </tr>\n",
       "    <tr>\n",
       "      <th>2625</th>\n",
       "      <td>2022030400013</td>\n",
       "      <td>121.72</td>\n",
       "      <td>4.2米厢车</td>\n",
       "      <td>北京市</td>\n",
       "      <td>天津市</td>\n",
       "      <td>4.2</td>\n",
       "      <td>1.8</td>\n",
       "      <td>1.8</td>\n",
       "      <td>3.0</td>\n",
       "      <td>12.0</td>\n",
       "      <td>一般货物</td>\n",
       "      <td>2022-03-05 10:00:00</td>\n",
       "      <td>NaN</td>\n",
       "      <td>NaN</td>\n",
       "      <td>1、需要装卸，末端要按型号分货交接，末端需要逐台验收，交货等待时间约三小时。2、附件出仓单，...</td>\n",
       "      <td>29.63</td>\n",
       "      <td>0</td>\n",
       "    </tr>\n",
       "    <tr>\n",
       "      <th>2626</th>\n",
       "      <td>2021091600004</td>\n",
       "      <td>132.93</td>\n",
       "      <td>4.2米厢车</td>\n",
       "      <td>北京市</td>\n",
       "      <td>天津市</td>\n",
       "      <td>4.2</td>\n",
       "      <td>1.8</td>\n",
       "      <td>1.8</td>\n",
       "      <td>3.0</td>\n",
       "      <td>12.0</td>\n",
       "      <td>高值货物</td>\n",
       "      <td>2021-09-16 13:00:00</td>\n",
       "      <td>NaN</td>\n",
       "      <td>NaN</td>\n",
       "      <td>1、包车预约配送；2、需要装卸；3、需按照签收要求签回指定附件。电池SN: 05FPEP06...</td>\n",
       "      <td>28.89</td>\n",
       "      <td>0</td>\n",
       "    </tr>\n",
       "    <tr>\n",
       "      <th>2627</th>\n",
       "      <td>2021111800018</td>\n",
       "      <td>940.03</td>\n",
       "      <td>6.8米平板</td>\n",
       "      <td>宝鸡市</td>\n",
       "      <td>汶上县</td>\n",
       "      <td>6.8</td>\n",
       "      <td>2.0</td>\n",
       "      <td>NaN</td>\n",
       "      <td>9.0</td>\n",
       "      <td>35.0</td>\n",
       "      <td>一般货物</td>\n",
       "      <td>2021-11-19 23:59:58</td>\n",
       "      <td>NaN</td>\n",
       "      <td>需雨布,走高速,司机五证齐全</td>\n",
       "      <td>按时送达，回单签收寄回</td>\n",
       "      <td>185.19</td>\n",
       "      <td>0</td>\n",
       "    </tr>\n",
       "    <tr>\n",
       "      <th>2628</th>\n",
       "      <td>2022020900003</td>\n",
       "      <td>155.93</td>\n",
       "      <td>4.2米厢车</td>\n",
       "      <td>天津</td>\n",
       "      <td>北京</td>\n",
       "      <td>4.2</td>\n",
       "      <td>1.8</td>\n",
       "      <td>1.8</td>\n",
       "      <td>3.0</td>\n",
       "      <td>12.0</td>\n",
       "      <td>一般货物</td>\n",
       "      <td>2022-02-10 09:00:00</td>\n",
       "      <td>NaN</td>\n",
       "      <td>NaN</td>\n",
       "      <td>1、需要装卸，一装一卸2、需要48h内核酸检测阴性证明</td>\n",
       "      <td>29.63</td>\n",
       "      <td>0</td>\n",
       "    </tr>\n",
       "  </tbody>\n",
       "</table>\n",
       "<p>2629 rows × 17 columns</p>\n",
       "</div>"
      ],
      "text/plain": [
       "                 报价编号    距离km       车型 起始城市  目的城市    车长   车宽   车高  标准载重  \\\n",
       "0     XJ2022041400009  559.18    微型面包车  陕西省   陕西省   1.8  1.3  1.1   0.5   \n",
       "1       2021102000011   67.17   7.6米厢车  重庆市   重庆市   7.6  2.3  2.5   9.8   \n",
       "2       2021111100008  548.07   4.2米厢车  济南市  田家庵区   4.2  1.8  1.8   3.0   \n",
       "3     XJ2022042000004  263.95  16.5米厢车  福州市   漳州市  16.5  2.5  2.8  28.0   \n",
       "4       2022012500017  175.97    高顶依维柯  上海市   浙江省   2.3  1.6  1.6   1.0   \n",
       "...               ...     ...      ...  ...   ...   ...  ...  ...   ...   \n",
       "2624    2021093000002  805.03   5.2米厢车  上海市   山东省   5.2  2.2  2.5   5.0   \n",
       "2625    2022030400013  121.72   4.2米厢车  北京市   天津市   4.2  1.8  1.8   3.0   \n",
       "2626    2021091600004  132.93   4.2米厢车  北京市   天津市   4.2  1.8  1.8   3.0   \n",
       "2627    2021111800018  940.03   6.8米平板  宝鸡市   汶上县   6.8  2.0  NaN   9.0   \n",
       "2628    2022020900003  155.93   4.2米厢车   天津    北京   4.2  1.8  1.8   3.0   \n",
       "\n",
       "       车辆容积  货物类型                 用车时间 货物特性            运输要求  \\\n",
       "0       1.6  一般货物  2022-04-15 10:00:00  NaN             NaN   \n",
       "1      34.0  高值货物  2021-10-20 14:44:08  NaN             NaN   \n",
       "2      12.0  高值货物  2021-11-11 17:21:54  NaN             NaN   \n",
       "3     100.0  超重货物  2022-04-20 13:57:00  NaN             NaN   \n",
       "4       4.0  超重货物  2022-01-25 16:53:00  NaN             NaN   \n",
       "...     ...   ...                  ...  ...             ...   \n",
       "2624   20.0  一般货物  2021-09-30 00:06:30  NaN             NaN   \n",
       "2625   12.0  一般货物  2022-03-05 10:00:00  NaN             NaN   \n",
       "2626   12.0  高值货物  2021-09-16 13:00:00  NaN             NaN   \n",
       "2627   35.0  一般货物  2021-11-19 23:59:58  NaN  需雨布,走高速,司机五证齐全   \n",
       "2628   12.0  一般货物  2022-02-10 09:00:00  NaN             NaN   \n",
       "\n",
       "                                                     备注      车价  index  \n",
       "0                货物共计18件，160公斤，库房内装车，按照客户要求货物卸到指定位置，返回单   77.78      0  \n",
       "1                                                   NaN   81.48      0  \n",
       "2                            项目要求使用9.6和4.2货车各1辆，约600公里。   74.07      0  \n",
       "3                                                   NaN  129.63      0  \n",
       "4                费用含装卸，一装两卸，单件货物比较大最好两个人送货，还要有手拉车，因为要上楼   62.52      0  \n",
       "...                                                 ...     ...    ...  \n",
       "2624  立即用车需求 提货直发 上海普陀真沃路348号-山东省济南市市中区白马山南路8号 国家粮食储...  118.52      0  \n",
       "2625  1、需要装卸，末端要按型号分货交接，末端需要逐台验收，交货等待时间约三小时。2、附件出仓单，...   29.63      0  \n",
       "2626  1、包车预约配送；2、需要装卸；3、需按照签收要求签回指定附件。电池SN: 05FPEP06...   28.89      0  \n",
       "2627                                        按时送达，回单签收寄回  185.19      0  \n",
       "2628                        1、需要装卸，一装一卸2、需要48h内核酸检测阴性证明   29.63      0  \n",
       "\n",
       "[2629 rows x 17 columns]"
      ]
     },
     "execution_count": 3,
     "metadata": {},
     "output_type": "execute_result"
    }
   ],
   "source": [
    "train_data"
   ]
  },
  {
   "cell_type": "code",
   "execution_count": 4,
   "metadata": {},
   "outputs": [],
   "source": [
    "test_data.loc[:,\"index\"] = 1"
   ]
  },
  {
   "cell_type": "code",
   "execution_count": 5,
   "metadata": {},
   "outputs": [],
   "source": [
    "data_all = pd.concat([train_data, test_data])"
   ]
  },
  {
   "cell_type": "code",
   "execution_count": 6,
   "metadata": {},
   "outputs": [
    {
     "name": "stdout",
     "output_type": "stream",
     "text": [
      "<class 'pandas.core.frame.DataFrame'>\n",
      "Int64Index: 2929 entries, 0 to 299\n",
      "Data columns (total 17 columns):\n",
      " #   Column  Non-Null Count  Dtype  \n",
      "---  ------  --------------  -----  \n",
      " 0   报价编号    2929 non-null   object \n",
      " 1   距离km    2929 non-null   float64\n",
      " 2   车型      2929 non-null   object \n",
      " 3   起始城市    2929 non-null   object \n",
      " 4   目的城市    2929 non-null   object \n",
      " 5   车长      2929 non-null   float64\n",
      " 6   车宽      2879 non-null   float64\n",
      " 7   车高      2863 non-null   float64\n",
      " 8   标准载重    2925 non-null   float64\n",
      " 9   车辆容积    2929 non-null   float64\n",
      " 10  货物类型    2927 non-null   object \n",
      " 11  用车时间    2929 non-null   object \n",
      " 12  货物特性    72 non-null     object \n",
      " 13  运输要求    574 non-null    object \n",
      " 14  备注      2026 non-null   object \n",
      " 15  车价      2929 non-null   float64\n",
      " 16  index   2929 non-null   int64  \n",
      "dtypes: float64(7), int64(1), object(9)\n",
      "memory usage: 411.9+ KB\n"
     ]
    }
   ],
   "source": [
    "data_all.info()"
   ]
  },
  {
   "cell_type": "code",
   "execution_count": 7,
   "metadata": {},
   "outputs": [
    {
     "data": {
      "text/plain": [
       "count    2929.000000\n",
       "mean      173.685760\n",
       "std       187.608694\n",
       "min         2.960000\n",
       "25%        33.330000\n",
       "50%        96.300000\n",
       "75%       259.260000\n",
       "max      1481.480000\n",
       "Name: 车价, dtype: float64"
      ]
     },
     "execution_count": 7,
     "metadata": {},
     "output_type": "execute_result"
    }
   ],
   "source": [
    "data_all['车价'].describe()"
   ]
  },
  {
   "cell_type": "code",
   "execution_count": 15,
   "metadata": {},
   "outputs": [],
   "source": [
    "plt.rcParams['font.sans-serif'] = ['SimHei']  # 中文字体设置-黑体\n",
    "plt.rcParams['axes.unicode_minus'] = False  # 解决保存图像是负号'-'显示为方块的问题\n",
    "sns.set(font='SimHei',font_scale=1.5)  # 解决Seaborn中文显示问题并调整字体大小"
   ]
  },
  {
   "cell_type": "code",
   "execution_count": 16,
   "metadata": {},
   "outputs": [
    {
     "data": {
      "text/plain": [
       "<AxesSubplot:xlabel='车价', ylabel='Density'>"
      ]
     },
     "execution_count": 16,
     "metadata": {},
     "output_type": "execute_result"
    },
    {
     "data": {
      "image/png": "[encoded data removed]",
      "text/plain": [
       "<Figure size 432x288 with 1 Axes>"
      ]
     },
     "metadata": {},
     "output_type": "display_data"
    }
   ],
   "source": [
    "sns.distplot(data_all['车价'])"
   ]
  },
  {
   "cell_type": "code",
   "execution_count": 17,
   "metadata": {},
   "outputs": [
    {
     "data": {
      "text/plain": [
       "(-0.5, 17.5, 0.0, 1500.0)"
      ]
     },
     "execution_count": 17,
     "metadata": {},
     "output_type": "execute_result"
    },
    {
     "data": {
      "image/png": "[encoded data removed]",
      "text/plain": [
       "<Figure size 432x288 with 1 Axes>"
      ]
     },
     "metadata": {},
     "output_type": "display_data"
    }
   ],
   "source": [
    "# CentralAir\n",
    "var = '车长'\n",
    "data = pd.concat([data_all['车价'], data_all[var]], axis=1)\n",
    "fig = sns.boxplot(x=var, y=\"车价\", data=data)\n",
    "fig.axis(ymin=0, ymax=1500)"
   ]
  },
  {
   "cell_type": "code",
   "execution_count": 18,
   "metadata": {},
   "outputs": [
    {
     "name": "stderr",
     "output_type": "stream",
     "text": [
      "*c* argument looks like a single numeric RGB or RGBA sequence, which should be avoided as value-mapping will have precedence in case its length matches with *x* & *y*.  Please use the *color* keyword-argument or provide a 2D array with a single row if you intend to specify the same RGB or RGBA value for all points.\n"
     ]
    },
    {
     "data": {
      "text/plain": [
       "<AxesSubplot:xlabel='距离km', ylabel='车价'>"
      ]
     },
     "execution_count": 18,
     "metadata": {},
     "output_type": "execute_result"
    },
    {
     "data": {
      "image/png": "[encoded data removed]",
      "text/plain": [
       "<Figure size 432x288 with 1 Axes>"
      ]
     },
     "metadata": {},
     "output_type": "display_data"
    }
   ],
   "source": [
    "# YearBuilt  scatter\n",
    "var = '距离km'\n",
    "data = pd.concat([data_all['车价'], data_all[var]], axis=1)\n",
    "data.plot.scatter(x=var, y=\"车价\", ylim=(0, 1500))"
   ]
  },
  {
   "cell_type": "code",
   "execution_count": 19,
   "metadata": {},
   "outputs": [
    {
     "data": {
      "text/plain": [
       "<AxesSubplot:>"
      ]
     },
     "execution_count": 19,
     "metadata": {},
     "output_type": "execute_result"
    },
    {
     "data": {
      "image/png": "[encoded data removed]",
      "text/plain": [
       "<Figure size 1440x648 with 2 Axes>"
      ]
     },
     "metadata": {},
     "output_type": "display_data"
    }
   ],
   "source": [
    "corrmat = data_all.corr()\n",
    "f, ax = plt.subplots(figsize=(20, 9))\n",
    "sns.heatmap(corrmat, vmax=0.8, square=True)"
   ]
  },
  {
   "cell_type": "markdown",
   "metadata": {},
   "source": [
    "### 缺失值分析"
   ]
  },
  {
   "cell_type": "code",
   "execution_count": null,
   "metadata": {},
   "outputs": [],
   "source": []
  },
  {
   "cell_type": "code",
   "execution_count": 20,
   "metadata": {},
   "outputs": [
    {
     "data": {
      "text/html": [
       "<div>\n",
       "<style scoped>\n",
       "    .dataframe tbody tr th:only-of-type {\n",
       "        vertical-align: middle;\n",
       "    }\n",
       "\n",
       "    .dataframe tbody tr th {\n",
       "        vertical-align: top;\n",
       "    }\n",
       "\n",
       "    .dataframe thead th {\n",
       "        text-align: right;\n",
       "    }\n",
       "</style>\n",
       "<table border=\"1\" class=\"dataframe\">\n",
       "  <thead>\n",
       "    <tr style=\"text-align: right;\">\n",
       "      <th></th>\n",
       "      <th>Missing Ratio</th>\n",
       "    </tr>\n",
       "  </thead>\n",
       "  <tbody>\n",
       "    <tr>\n",
       "      <th>货物特性</th>\n",
       "      <td>97.541823</td>\n",
       "    </tr>\n",
       "    <tr>\n",
       "      <th>运输要求</th>\n",
       "      <td>80.402868</td>\n",
       "    </tr>\n",
       "    <tr>\n",
       "      <th>备注</th>\n",
       "      <td>30.829635</td>\n",
       "    </tr>\n",
       "    <tr>\n",
       "      <th>车高</th>\n",
       "      <td>2.253329</td>\n",
       "    </tr>\n",
       "    <tr>\n",
       "      <th>车宽</th>\n",
       "      <td>1.707067</td>\n",
       "    </tr>\n",
       "    <tr>\n",
       "      <th>标准载重</th>\n",
       "      <td>0.136565</td>\n",
       "    </tr>\n",
       "    <tr>\n",
       "      <th>货物类型</th>\n",
       "      <td>0.068283</td>\n",
       "    </tr>\n",
       "  </tbody>\n",
       "</table>\n",
       "</div>"
      ],
      "text/plain": [
       "      Missing Ratio\n",
       "货物特性      97.541823\n",
       "运输要求      80.402868\n",
       "备注        30.829635\n",
       "车高         2.253329\n",
       "车宽         1.707067\n",
       "标准载重       0.136565\n",
       "货物类型       0.068283"
      ]
     },
     "execution_count": 20,
     "metadata": {},
     "output_type": "execute_result"
    }
   ],
   "source": [
    "all_data_na = (data_all.isnull().sum() / len(data_all)) * 100\n",
    "all_data_na = all_data_na.drop(all_data_na[all_data_na == 0].index).sort_values(ascending=False)[:30]\n",
    "missing_data = pd.DataFrame({'Missing Ratio' :all_data_na})\n",
    "missing_data.head(20)"
   ]
  },
  {
   "cell_type": "code",
   "execution_count": 21,
   "metadata": {},
   "outputs": [
    {
     "data": {
      "text/plain": [
       "Text(0.5, 1.0, 'Percent missing data by feature')"
      ]
     },
     "execution_count": 21,
     "metadata": {},
     "output_type": "execute_result"
    },
    {
     "data": {
      "image/png": "[encoded data removed]",
      "text/plain": [
       "<Figure size 1080x864 with 1 Axes>"
      ]
     },
     "metadata": {},
     "output_type": "display_data"
    }
   ],
   "source": [
    "f, ax = plt.subplots(figsize=(15, 12))\n",
    "plt.xticks(rotation='90')\n",
    "sns.barplot(x=all_data_na.index, y=all_data_na)\n",
    "plt.xlabel('Features', fontsize=15)\n",
    "plt.ylabel('Percent of missing values', fontsize=15)\n",
    "plt.title('Percent missing data by feature', fontsize=15)"
   ]
  },
  {
   "cell_type": "code",
   "execution_count": 22,
   "metadata": {},
   "outputs": [
    {
     "data": {
      "text/plain": [
       "[nan,\n",
       " '超高',\n",
       " '超重',\n",
       " '禁区',\n",
       " '超重,超高',\n",
       " '超重,禁区',\n",
       " '超高,超宽',\n",
       " '超重,超高,超长',\n",
       " '超宽',\n",
       " '超重,超长',\n",
       " '超长',\n",
       " '超重,超高,超长,超宽,禁区']"
      ]
     },
     "execution_count": 22,
     "metadata": {},
     "output_type": "execute_result"
    }
   ],
   "source": [
    "scenes = data_all[\"货物特性\"].unique().tolist()\n",
    "scenes"
   ]
  },
  {
   "cell_type": "code",
   "execution_count": 23,
   "metadata": {},
   "outputs": [
    {
     "data": {
      "text/plain": [
       "72"
      ]
     },
     "execution_count": 23,
     "metadata": {},
     "output_type": "execute_result"
    }
   ],
   "source": [
    " data_all[\"货物特性\"].count()"
   ]
  },
  {
   "cell_type": "markdown",
   "metadata": {},
   "source": [
    "## 特征工程"
   ]
  },
  {
   "cell_type": "code",
   "execution_count": 8,
   "metadata": {},
   "outputs": [
    {
     "name": "stdout",
     "output_type": "stream",
     "text": [
      "报价编号\n",
      "车型\n",
      "起始城市\n",
      "目的城市\n",
      "货物类型\n",
      "用车时间\n",
      "货物特性\n",
      "运输要求\n",
      "备注\n"
     ]
    }
   ],
   "source": [
    "for feat in data_all.columns[:-1]:\n",
    "    if data_all[feat].dtype == object:\n",
    "        data_all[feat] = data_all[feat].astype('str')\n",
    "        print(feat)\n",
    "        le = LabelEncoder()\n",
    "        data_all[feat] = le.fit_transform(data_all[feat])"
   ]
  },
  {
   "cell_type": "code",
   "execution_count": 20,
   "metadata": {},
   "outputs": [
    {
     "data": {
      "text/html": [
       "<div>\n",
       "<style scoped>\n",
       "    .dataframe tbody tr th:only-of-type {\n",
       "        vertical-align: middle;\n",
       "    }\n",
       "\n",
       "    .dataframe tbody tr th {\n",
       "        vertical-align: top;\n",
       "    }\n",
       "\n",
       "    .dataframe thead th {\n",
       "        text-align: right;\n",
       "    }\n",
       "</style>\n",
       "<table border=\"1\" class=\"dataframe\">\n",
       "  <thead>\n",
       "    <tr style=\"text-align: right;\">\n",
       "      <th></th>\n",
       "      <th>报价编号</th>\n",
       "      <th>距离km</th>\n",
       "      <th>车型</th>\n",
       "      <th>起始城市</th>\n",
       "      <th>目的城市</th>\n",
       "      <th>车长</th>\n",
       "      <th>车宽</th>\n",
       "      <th>车高</th>\n",
       "      <th>标准载重</th>\n",
       "      <th>车辆容积</th>\n",
       "      <th>货物类型</th>\n",
       "      <th>用车时间</th>\n",
       "      <th>货物特性</th>\n",
       "      <th>运输要求</th>\n",
       "      <th>备注</th>\n",
       "      <th>车价</th>\n",
       "      <th>index</th>\n",
       "    </tr>\n",
       "  </thead>\n",
       "  <tbody>\n",
       "    <tr>\n",
       "      <th>0</th>\n",
       "      <td>2702</td>\n",
       "      <td>559.18</td>\n",
       "      <td>28</td>\n",
       "      <td>146</td>\n",
       "      <td>543</td>\n",
       "      <td>1.8</td>\n",
       "      <td>1.3</td>\n",
       "      <td>1.1</td>\n",
       "      <td>0.5</td>\n",
       "      <td>1.6</td>\n",
       "      <td>1</td>\n",
       "      <td>2268</td>\n",
       "      <td>0</td>\n",
       "      <td>1</td>\n",
       "      <td>1179</td>\n",
       "      <td>77.78</td>\n",
       "      <td>0</td>\n",
       "    </tr>\n",
       "    <tr>\n",
       "      <th>1</th>\n",
       "      <td>1128</td>\n",
       "      <td>67.17</td>\n",
       "      <td>22</td>\n",
       "      <td>138</td>\n",
       "      <td>511</td>\n",
       "      <td>7.6</td>\n",
       "      <td>2.3</td>\n",
       "      <td>2.5</td>\n",
       "      <td>9.8</td>\n",
       "      <td>34.0</td>\n",
       "      <td>3</td>\n",
       "      <td>934</td>\n",
       "      <td>0</td>\n",
       "      <td>1</td>\n",
       "      <td>282</td>\n",
       "      <td>81.48</td>\n",
       "      <td>0</td>\n",
       "    </tr>\n",
       "    <tr>\n",
       "      <th>2</th>\n",
       "      <td>1405</td>\n",
       "      <td>548.07</td>\n",
       "      <td>14</td>\n",
       "      <td>94</td>\n",
       "      <td>398</td>\n",
       "      <td>4.2</td>\n",
       "      <td>1.8</td>\n",
       "      <td>1.8</td>\n",
       "      <td>3.0</td>\n",
       "      <td>12.0</td>\n",
       "      <td>3</td>\n",
       "      <td>1177</td>\n",
       "      <td>0</td>\n",
       "      <td>1</td>\n",
       "      <td>1547</td>\n",
       "      <td>74.07</td>\n",
       "      <td>0</td>\n",
       "    </tr>\n",
       "    <tr>\n",
       "      <th>3</th>\n",
       "      <td>2779</td>\n",
       "      <td>263.95</td>\n",
       "      <td>7</td>\n",
       "      <td>118</td>\n",
       "      <td>378</td>\n",
       "      <td>16.5</td>\n",
       "      <td>2.5</td>\n",
       "      <td>2.8</td>\n",
       "      <td>28.0</td>\n",
       "      <td>100.0</td>\n",
       "      <td>2</td>\n",
       "      <td>2335</td>\n",
       "      <td>0</td>\n",
       "      <td>1</td>\n",
       "      <td>282</td>\n",
       "      <td>129.63</td>\n",
       "      <td>0</td>\n",
       "    </tr>\n",
       "    <tr>\n",
       "      <th>4</th>\n",
       "      <td>2146</td>\n",
       "      <td>175.97</td>\n",
       "      <td>30</td>\n",
       "      <td>1</td>\n",
       "      <td>338</td>\n",
       "      <td>2.3</td>\n",
       "      <td>1.6</td>\n",
       "      <td>1.6</td>\n",
       "      <td>1.0</td>\n",
       "      <td>4.0</td>\n",
       "      <td>2</td>\n",
       "      <td>1785</td>\n",
       "      <td>0</td>\n",
       "      <td>1</td>\n",
       "      <td>1203</td>\n",
       "      <td>62.52</td>\n",
       "      <td>0</td>\n",
       "    </tr>\n",
       "    <tr>\n",
       "      <th>...</th>\n",
       "      <td>...</td>\n",
       "      <td>...</td>\n",
       "      <td>...</td>\n",
       "      <td>...</td>\n",
       "      <td>...</td>\n",
       "      <td>...</td>\n",
       "      <td>...</td>\n",
       "      <td>...</td>\n",
       "      <td>...</td>\n",
       "      <td>...</td>\n",
       "      <td>...</td>\n",
       "      <td>...</td>\n",
       "      <td>...</td>\n",
       "      <td>...</td>\n",
       "      <td>...</td>\n",
       "      <td>...</td>\n",
       "      <td>...</td>\n",
       "    </tr>\n",
       "    <tr>\n",
       "      <th>2624</th>\n",
       "      <td>1025</td>\n",
       "      <td>805.03</td>\n",
       "      <td>16</td>\n",
       "      <td>1</td>\n",
       "      <td>175</td>\n",
       "      <td>5.2</td>\n",
       "      <td>2.2</td>\n",
       "      <td>2.5</td>\n",
       "      <td>5.0</td>\n",
       "      <td>20.0</td>\n",
       "      <td>1</td>\n",
       "      <td>849</td>\n",
       "      <td>0</td>\n",
       "      <td>1</td>\n",
       "      <td>1037</td>\n",
       "      <td>118.52</td>\n",
       "      <td>0</td>\n",
       "    </tr>\n",
       "    <tr>\n",
       "      <th>2625</th>\n",
       "      <td>2389</td>\n",
       "      <td>121.72</td>\n",
       "      <td>14</td>\n",
       "      <td>12</td>\n",
       "      <td>141</td>\n",
       "      <td>4.2</td>\n",
       "      <td>1.8</td>\n",
       "      <td>1.8</td>\n",
       "      <td>3.0</td>\n",
       "      <td>12.0</td>\n",
       "      <td>1</td>\n",
       "      <td>1998</td>\n",
       "      <td>0</td>\n",
       "      <td>1</td>\n",
       "      <td>152</td>\n",
       "      <td>29.63</td>\n",
       "      <td>0</td>\n",
       "    </tr>\n",
       "    <tr>\n",
       "      <th>2626</th>\n",
       "      <td>785</td>\n",
       "      <td>132.93</td>\n",
       "      <td>14</td>\n",
       "      <td>12</td>\n",
       "      <td>141</td>\n",
       "      <td>4.2</td>\n",
       "      <td>1.8</td>\n",
       "      <td>1.8</td>\n",
       "      <td>3.0</td>\n",
       "      <td>12.0</td>\n",
       "      <td>3</td>\n",
       "      <td>660</td>\n",
       "      <td>0</td>\n",
       "      <td>1</td>\n",
       "      <td>78</td>\n",
       "      <td>28.89</td>\n",
       "      <td>0</td>\n",
       "    </tr>\n",
       "    <tr>\n",
       "      <th>2627</th>\n",
       "      <td>1470</td>\n",
       "      <td>940.03</td>\n",
       "      <td>20</td>\n",
       "      <td>50</td>\n",
       "      <td>312</td>\n",
       "      <td>6.8</td>\n",
       "      <td>2.0</td>\n",
       "      <td>NaN</td>\n",
       "      <td>9.0</td>\n",
       "      <td>35.0</td>\n",
       "      <td>1</td>\n",
       "      <td>1245</td>\n",
       "      <td>0</td>\n",
       "      <td>52</td>\n",
       "      <td>733</td>\n",
       "      <td>185.19</td>\n",
       "      <td>0</td>\n",
       "    </tr>\n",
       "    <tr>\n",
       "      <th>2628</th>\n",
       "      <td>2237</td>\n",
       "      <td>155.93</td>\n",
       "      <td>14</td>\n",
       "      <td>37</td>\n",
       "      <td>67</td>\n",
       "      <td>4.2</td>\n",
       "      <td>1.8</td>\n",
       "      <td>1.8</td>\n",
       "      <td>3.0</td>\n",
       "      <td>12.0</td>\n",
       "      <td>1</td>\n",
       "      <td>1864</td>\n",
       "      <td>0</td>\n",
       "      <td>1</td>\n",
       "      <td>147</td>\n",
       "      <td>29.63</td>\n",
       "      <td>0</td>\n",
       "    </tr>\n",
       "  </tbody>\n",
       "</table>\n",
       "<p>2629 rows × 17 columns</p>\n",
       "</div>"
      ],
      "text/plain": [
       "      报价编号    距离km  车型  起始城市  目的城市    车长   车宽   车高  标准载重   车辆容积  货物类型  用车时间  \\\n",
       "0     2702  559.18  28   146   543   1.8  1.3  1.1   0.5    1.6     1  2268   \n",
       "1     1128   67.17  22   138   511   7.6  2.3  2.5   9.8   34.0     3   934   \n",
       "2     1405  548.07  14    94   398   4.2  1.8  1.8   3.0   12.0     3  1177   \n",
       "3     2779  263.95   7   118   378  16.5  2.5  2.8  28.0  100.0     2  2335   \n",
       "4     2146  175.97  30     1   338   2.3  1.6  1.6   1.0    4.0     2  1785   \n",
       "...    ...     ...  ..   ...   ...   ...  ...  ...   ...    ...   ...   ...   \n",
       "2624  1025  805.03  16     1   175   5.2  2.2  2.5   5.0   20.0     1   849   \n",
       "2625  2389  121.72  14    12   141   4.2  1.8  1.8   3.0   12.0     1  1998   \n",
       "2626   785  132.93  14    12   141   4.2  1.8  1.8   3.0   12.0     3   660   \n",
       "2627  1470  940.03  20    50   312   6.8  2.0  NaN   9.0   35.0     1  1245   \n",
       "2628  2237  155.93  14    37    67   4.2  1.8  1.8   3.0   12.0     1  1864   \n",
       "\n",
       "      货物特性  运输要求    备注      车价  index  \n",
       "0        0     1  1179   77.78      0  \n",
       "1        0     1   282   81.48      0  \n",
       "2        0     1  1547   74.07      0  \n",
       "3        0     1   282  129.63      0  \n",
       "4        0     1  1203   62.52      0  \n",
       "...    ...   ...   ...     ...    ...  \n",
       "2624     0     1  1037  118.52      0  \n",
       "2625     0     1   152   29.63      0  \n",
       "2626     0     1    78   28.89      0  \n",
       "2627     0    52   733  185.19      0  \n",
       "2628     0     1   147   29.63      0  \n",
       "\n",
       "[2629 rows x 17 columns]"
      ]
     },
     "execution_count": 20,
     "metadata": {},
     "output_type": "execute_result"
    }
   ],
   "source": [
    "df_train = data_all[data_all['index']==0]\n",
    "df_test = data_all[data_all['index']==1]\n",
    "df_train"
   ]
  },
  {
   "cell_type": "markdown",
   "metadata": {},
   "source": [
    "## 模型训练"
   ]
  },
  {
   "cell_type": "code",
   "execution_count": 14,
   "metadata": {},
   "outputs": [],
   "source": [
    "feats = [f for f in df_train.columns if f not in ['index','车价', '报价编号']]"
   ]
  },
  {
   "cell_type": "code",
   "execution_count": 18,
   "metadata": {},
   "outputs": [],
   "source": [
    " params = {\n",
    "        'learning_rate':0.05,\n",
    "        \"objective\": \"regression\",\n",
    "        \"metric\": \"rmse\",\n",
    "        'boosting_type': \"gbdt\",\n",
    "        'verbosity': -1,\n",
    "        'n_jobs': -1, \n",
    "        'seed': 2022,\n",
    "        'lambda_l1': 6.610898817934583, \n",
    "        'lambda_l2': 1.2572931636397838e-07, \n",
    "        'num_leaves': 122, \n",
    "        'feature_fraction': 0.709347964783973, \n",
    "        'bagging_fraction': 0.9368697249173327, \n",
    "        'bagging_freq': 6, \n",
    "        'max_depth': 7, \n",
    "        'max_bin': 214, \n",
    "        'min_data_in_leaf': 450,\n",
    "        'n_estimators': 1000, \n",
    "    }\n",
    "    "
   ]
  },
  {
   "cell_type": "code",
   "execution_count": 22,
   "metadata": {},
   "outputs": [
    {
     "name": "stdout",
     "output_type": "stream",
     "text": [
      "----------- 0\n",
      "Training until validation scores don't improve for 100 rounds\n",
      "[200]\tvalid_0's rmse: 93.4499\n",
      "[400]\tvalid_0's rmse: 90.6154\n",
      "[600]\tvalid_0's rmse: 88.6184\n",
      "[800]\tvalid_0's rmse: 87.539\n",
      "[1000]\tvalid_0's rmse: 86.5139\n",
      "Did not meet early stopping. Best iteration is:\n",
      "[1000]\tvalid_0's rmse: 86.5139\n",
      "----------- 1\n",
      "Training until validation scores don't improve for 100 rounds"
     ]
    },
    {
     "name": "stderr",
     "output_type": "stream",
     "text": [
      "D:\\apps\\ana\\lib\\site-packages\\lightgbm\\engine.py:177: UserWarning: Found `n_estimators` in params. Will use it instead of argument\n",
      "  _log_warning(f\"Found `{alias}` in params. Will use it instead of argument\")\n",
      "D:\\apps\\ana\\lib\\site-packages\\lightgbm\\engine.py:181: UserWarning: 'early_stopping_rounds' argument is deprecated and will be removed in a future release of LightGBM. Pass 'early_stopping()' callback via 'callbacks' argument instead.\n",
      "  _log_warning(\"'early_stopping_rounds' argument is deprecated and will be removed in a future release of LightGBM. \"\n",
      "D:\\apps\\ana\\lib\\site-packages\\lightgbm\\engine.py:239: UserWarning: 'verbose_eval' argument is deprecated and will be removed in a future release of LightGBM. Pass 'log_evaluation()' callback via 'callbacks' argument instead.\n",
      "  _log_warning(\"'verbose_eval' argument is deprecated and will be removed in a future release of LightGBM. \"\n"
     ]
    },
    {
     "name": "stdout",
     "output_type": "stream",
     "text": [
      "\n",
      "[200]\tvalid_0's rmse: 80.1502\n",
      "[400]\tvalid_0's rmse: 78.1\n",
      "[600]\tvalid_0's rmse: 77.089\n",
      "[800]\tvalid_0's rmse: 76.5196\n",
      "[1000]\tvalid_0's rmse: 76.0471\n",
      "Did not meet early stopping. Best iteration is:\n",
      "[977]\tvalid_0's rmse: 75.983\n",
      "----------- 2\n",
      "Training until validation scores don't improve for 100 rounds\n",
      "[200]\tvalid_0's rmse: 86.8499\n",
      "[400]\tvalid_0's rmse: 84.3416\n",
      "[600]\tvalid_0's rmse: 82.0336\n",
      "[800]\tvalid_0's rmse: 80.7987\n",
      "[1000]\tvalid_0's rmse: 79.8766\n",
      "Did not meet early stopping. Best iteration is:\n",
      "[1000]\tvalid_0's rmse: 79.8766\n",
      "----------- 3\n",
      "Training until validation scores don't improve for 100 rounds\n",
      "[200]\tvalid_0's rmse: 94.7885\n",
      "[400]\tvalid_0's rmse: 92.4698\n",
      "[600]\tvalid_0's rmse: 91.1227\n",
      "[800]\tvalid_0's rmse: 89.8169\n",
      "[1000]\tvalid_0's rmse: 89.2009\n",
      "Did not meet early stopping. Best iteration is:\n",
      "[1000]\tvalid_0's rmse: 89.2009\n",
      "----------- 4\n",
      "Training until validation scores don't improve for 100 rounds\n",
      "[200]\tvalid_0's rmse: 89.6503\n",
      "[400]\tvalid_0's rmse: 86.8949\n",
      "[600]\tvalid_0's rmse: 84.8559\n",
      "[800]\tvalid_0's rmse: 83.465\n",
      "[1000]\tvalid_0's rmse: 82.4192\n",
      "Did not meet early stopping. Best iteration is:\n",
      "[1000]\tvalid_0's rmse: 82.4192\n"
     ]
    }
   ],
   "source": [
    "import joblib\n",
    "\n",
    "\n",
    "\n",
    "fold_num = 5\n",
    "seeds = [2222]\n",
    "oof = np.zeros(len(df_train))\n",
    "importance = 0\n",
    "LABEL = '车价'\n",
    "pred_y = pd.DataFrame()\n",
    "for seed in seeds:\n",
    "    kf = KFold(n_splits=fold_num, shuffle=True, random_state=seed)\n",
    "    for fold, (train_idx, val_idx) in enumerate(kf.split(df_train[feats], df_train[LABEL])):\n",
    "        print('-----------', fold)\n",
    "        train = lgb.Dataset(df_train.loc[train_idx, feats],\n",
    "                            df_train.loc[train_idx, LABEL])\n",
    "        val = lgb.Dataset(df_train.loc[val_idx, feats],\n",
    "                          df_train.loc[val_idx, LABEL])\n",
    "        model = lgb.train(params, train, valid_sets=val, num_boost_round=10000,\n",
    "                          early_stopping_rounds=100, verbose_eval=200)\n",
    "        \n",
    "        joblib.dump(model,'./trained_weight/lgb_{}.pkl'.format(fold))\n",
    "        \n",
    "        oof[val_idx] += model.predict(df_train.loc[val_idx, feats]) / len(seeds)\n",
    "        pred_y['fold_%d_seed_%d' % (fold, seed)] = model.predict(df_test[feats])\n",
    "        importance += model.feature_importance(importance_type='gain') / fold_num"
   ]
  },
  {
   "cell_type": "code",
   "execution_count": 24,
   "metadata": {},
   "outputs": [
    {
     "name": "stdout",
     "output_type": "stream",
     "text": [
      "    name    importance\n",
      "0   距离km  3.563159e+08\n",
      "8   车辆容积  1.009584e+08\n",
      "4     车长  5.142278e+07\n",
      "7   标准载重  2.340764e+07\n",
      "5     车宽  1.510733e+07\n",
      "1     车型  1.166692e+07\n",
      "2   起始城市  8.345088e+06\n",
      "3   目的城市  3.913911e+06\n",
      "6     车高  3.577838e+06\n",
      "10  用车时间  3.179530e+06\n",
      "13    备注  2.488301e+06\n",
      "9   货物类型  1.382191e+05\n",
      "11  货物特性  0.000000e+00\n",
      "12  运输要求  0.000000e+00\n"
     ]
    }
   ],
   "source": [
    "feats_importance = pd.DataFrame()\n",
    "feats_importance['name'] = feats\n",
    "feats_importance['importance'] = importance\n",
    "print(feats_importance.sort_values('importance', ascending=False)[:30])"
   ]
  },
  {
   "cell_type": "markdown",
   "metadata": {},
   "source": [
    "## 预测"
   ]
  },
  {
   "cell_type": "markdown",
   "metadata": {},
   "source": [
    "  报价偏差率=avg(|每单预测报价-每单实际报价|/每单实际报价)，偏差率越低越优。\n"
   ]
  },
  {
   "cell_type": "code",
   "execution_count": 30,
   "metadata": {},
   "outputs": [],
   "source": [
    "def error_rate(true_label,pred_label):\n",
    "    res = abs(true_label-pred_label)/true_label\n",
    "    return res.mean()"
   ]
  },
  {
   "cell_type": "code",
   "execution_count": 31,
   "metadata": {},
   "outputs": [
    {
     "data": {
      "text/plain": [
       "0.3841040138544971"
      ]
     },
     "execution_count": 31,
     "metadata": {},
     "output_type": "execute_result"
    }
   ],
   "source": [
    "result = error_rate(df_test[LABEL],pred_y.mean(axis=1))\n",
    "result"
   ]
  },
  {
   "cell_type": "markdown",
   "metadata": {},
   "source": []
  },
  {
   "cell_type": "code",
   "execution_count": null,
   "metadata": {},
   "outputs": [],
   "source": []
  },
  {
   "cell_type": "markdown",
   "metadata": {},
   "source": []
  },
  {
   "cell_type": "markdown",
   "metadata": {},
   "source": []
  }
 ],
 "metadata": {
  "kernelspec": {
   "display_name": "Python 3",
   "language": "python",
   "name": "python3"
  },
  "language_info": {
   "codemirror_mode": {
    "name": "ipython",
    "version": 3
   },
   "file_extension": ".py",
   "mimetype": "text/x-python",
   "name": "python",
   "nbconvert_exporter": "python",
   "pygments_lexer": "ipython3",
   "version": "3.8.5"
  }
 },
 "nbformat": 4,
 "nbformat_minor": 4
}
