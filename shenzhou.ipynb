{
 "cells": [
  {
   "cell_type": "code",
   "execution_count": 1,
   "id": "75c442a0",
   "metadata": {
    "_cell_guid": "b1076dfc-b9ad-4769-8c92-a6c4dae69d19",
    "_uuid": "8f2839f25d086af736a60e9eeb907d3b93b6e0e5",
    "execution": {
     "iopub.execute_input": "2022-06-27T04:54:51.707966Z",
     "iopub.status.busy": "2022-06-27T04:54:51.707555Z",
     "iopub.status.idle": "2022-06-27T04:54:53.989100Z",
     "shell.execute_reply": "2022-06-27T04:54:53.987832Z"
    },
    "papermill": {
     "duration": 2.306549,
     "end_time": "2022-06-27T04:54:53.991743",
     "exception": false,
     "start_time": "2022-06-27T04:54:51.685194",
     "status": "completed"
    },
    "tags": []
   },
   "outputs": [
    {
     "data": {
      "text/html": [
       "<style type='text/css'>\n",
       ".datatable table.frame { margin-bottom: 0; }\n",
       ".datatable table.frame thead { border-bottom: none; }\n",
       ".datatable table.frame tr.coltypes td {  color: #FFFFFF;  line-height: 6px;  padding: 0 0.5em;}\n",
       ".datatable .bool    { background: #DDDD99; }\n",
       ".datatable .object  { background: #565656; }\n",
       ".datatable .int     { background: #5D9E5D; }\n",
       ".datatable .float   { background: #4040CC; }\n",
       ".datatable .str     { background: #CC4040; }\n",
       ".datatable .time    { background: #40CC40; }\n",
       ".datatable .row_index {  background: var(--jp-border-color3);  border-right: 1px solid var(--jp-border-color0);  color: var(--jp-ui-font-color3);  font-size: 9px;}\n",
       ".datatable .frame tbody td { text-align: left; }\n",
       ".datatable .frame tr.coltypes .row_index {  background: var(--jp-border-color0);}\n",
       ".datatable th:nth-child(2) { padding-left: 12px; }\n",
       ".datatable .hellipsis {  color: var(--jp-cell-editor-border-color);}\n",
       ".datatable .vellipsis {  background: var(--jp-layout-color0);  color: var(--jp-cell-editor-border-color);}\n",
       ".datatable .na {  color: var(--jp-cell-editor-border-color);  font-size: 80%;}\n",
       ".datatable .sp {  opacity: 0.25;}\n",
       ".datatable .footer { font-size: 9px; }\n",
       ".datatable .frame_dimensions {  background: var(--jp-border-color3);  border-top: 1px solid var(--jp-border-color0);  color: var(--jp-ui-font-color3);  display: inline-block;  opacity: 0.6;  padding: 1px 10px 1px 5px;}\n",
       "</style>\n"
      ],
      "text/plain": [
       "<IPython.core.display.HTML object>"
      ]
     },
     "metadata": {},
     "output_type": "display_data"
    }
   ],
   "source": [
    "import pandas as pd\n",
    "import numpy as np\n",
    "import lightgbm as lgb\n",
    "import time\n",
    "from sklearn.preprocessing import LabelEncoder\n",
    "from sklearn.metrics import roc_auc_score as auc\n",
    "from sklearn.model_selection import StratifiedKFold,KFold\n",
    "\n",
    "\n",
    "# 导入需要的模块\n",
    "\n",
    "import matplotlib.pyplot as plt\n",
    "\n",
    "# 用来绘图的，封装了matplot\n",
    "# 要注意的是一旦导入了seaborn，\n",
    "# matplotlib的默认作图风格就会被覆盖成seaborn的格式\n",
    "import seaborn as sns       \n",
    "\n",
    "from scipy import stats\n",
    "from scipy.stats import  norm\n",
    "from sklearn.preprocessing import StandardScaler\n",
    "import warnings\n",
    "warnings.filterwarnings('ignore')\n",
    "%matplotlib inline  \n",
    "# 为了在jupyter notebook里作图，需要用到这个命令"
   ]
  },
  {
   "cell_type": "code",
   "execution_count": 2,
   "id": "4f5b0b3c",
   "metadata": {
    "execution": {
     "iopub.execute_input": "2022-06-27T04:54:54.031554Z",
     "iopub.status.busy": "2022-06-27T04:54:54.030881Z",
     "iopub.status.idle": "2022-06-27T04:55:05.542052Z",
     "shell.execute_reply": "2022-06-27T04:55:05.540772Z"
    },
    "papermill": {
     "duration": 11.533532,
     "end_time": "2022-06-27T04:55:05.544736",
     "exception": false,
     "start_time": "2022-06-27T04:54:54.011204",
     "status": "completed"
    },
    "tags": []
   },
   "outputs": [
    {
     "name": "stdout",
     "output_type": "stream",
     "text": [
      "Collecting openpyxl\r\n",
      "  Downloading openpyxl-3.0.10-py2.py3-none-any.whl (242 kB)\r\n",
      "\u001b[2K     \u001b[90m━━━━━━━━━━━━━━━━━━━━━━━━━━━━━━━━━━━━━━━\u001b[0m \u001b[32m242.1/242.1 kB\u001b[0m \u001b[31m4.8 MB/s\u001b[0m eta \u001b[36m0:00:00\u001b[0m\r\n",
      "\u001b[?25hCollecting et-xmlfile\r\n",
      "  Downloading et_xmlfile-1.1.0-py3-none-any.whl (4.7 kB)\r\n",
      "Installing collected packages: et-xmlfile, openpyxl\r\n",
      "Successfully installed et-xmlfile-1.1.0 openpyxl-3.0.10\r\n",
      "\u001b[33mWARNING: Running pip as the 'root' user can result in broken permissions and conflicting behaviour with the system package manager. It is recommended to use a virtual environment instead: https://pip.pypa.io/warnings/venv\u001b[0m\u001b[33m\r\n",
      "\u001b[0m"
     ]
    }
   ],
   "source": [
    "!pip install openpyxl"
   ]
  },
  {
   "cell_type": "code",
   "execution_count": 3,
   "id": "cd1c45cf",
   "metadata": {
    "execution": {
     "iopub.execute_input": "2022-06-27T04:55:05.581281Z",
     "iopub.status.busy": "2022-06-27T04:55:05.580869Z",
     "iopub.status.idle": "2022-06-27T04:55:07.271887Z",
     "shell.execute_reply": "2022-06-27T04:55:07.270963Z"
    },
    "papermill": {
     "duration": 1.711451,
     "end_time": "2022-06-27T04:55:07.274017",
     "exception": false,
     "start_time": "2022-06-27T04:55:05.562566",
     "status": "completed"
    },
    "tags": []
   },
   "outputs": [
    {
     "data": {
      "text/html": [
       "<div>\n",
       "<style scoped>\n",
       "    .dataframe tbody tr th:only-of-type {\n",
       "        vertical-align: middle;\n",
       "    }\n",
       "\n",
       "    .dataframe tbody tr th {\n",
       "        vertical-align: top;\n",
       "    }\n",
       "\n",
       "    .dataframe thead th {\n",
       "        text-align: right;\n",
       "    }\n",
       "</style>\n",
       "<table border=\"1\" class=\"dataframe\">\n",
       "  <thead>\n",
       "    <tr style=\"text-align: right;\">\n",
       "      <th></th>\n",
       "      <th>报价编号</th>\n",
       "      <th>距离km</th>\n",
       "      <th>车型</th>\n",
       "      <th>起始城市</th>\n",
       "      <th>起始城市代码</th>\n",
       "      <th>目的城市</th>\n",
       "      <th>目的城市代码</th>\n",
       "      <th>是否跨省运输</th>\n",
       "      <th>车长</th>\n",
       "      <th>车宽</th>\n",
       "      <th>...</th>\n",
       "      <th>运输要求</th>\n",
       "      <th>是否有要求</th>\n",
       "      <th>备注</th>\n",
       "      <th>是否有备注</th>\n",
       "      <th>车价</th>\n",
       "      <th>油价</th>\n",
       "      <th>耗油价</th>\n",
       "      <th>柴油价</th>\n",
       "      <th>柴油耗油价</th>\n",
       "      <th>translation</th>\n",
       "    </tr>\n",
       "  </thead>\n",
       "  <tbody>\n",
       "    <tr>\n",
       "      <th>0</th>\n",
       "      <td>XJ2022041400009</td>\n",
       "      <td>559.18</td>\n",
       "      <td>微型面包车</td>\n",
       "      <td>陕西省</td>\n",
       "      <td>610</td>\n",
       "      <td>陕西省</td>\n",
       "      <td>610.0</td>\n",
       "      <td>0.0</td>\n",
       "      <td>1.8</td>\n",
       "      <td>1.3</td>\n",
       "      <td>...</td>\n",
       "      <td>NaN</td>\n",
       "      <td>0</td>\n",
       "      <td>货物共计18件，160公斤，库房内装车，按照客户要求货物卸到指定位置，返回单</td>\n",
       "      <td>38</td>\n",
       "      <td>77.78</td>\n",
       "      <td>147.0</td>\n",
       "      <td>82199.460</td>\n",
       "      <td>8.510</td>\n",
       "      <td>4758.62180</td>\n",
       "      <td>The goods a total of 18, 160 kg, warehouse loa...</td>\n",
       "    </tr>\n",
       "    <tr>\n",
       "      <th>1</th>\n",
       "      <td>2021102000011</td>\n",
       "      <td>67.17</td>\n",
       "      <td>7.6米厢车</td>\n",
       "      <td>重庆市</td>\n",
       "      <td>500</td>\n",
       "      <td>重庆市</td>\n",
       "      <td>500.0</td>\n",
       "      <td>0.0</td>\n",
       "      <td>7.6</td>\n",
       "      <td>2.3</td>\n",
       "      <td>...</td>\n",
       "      <td>NaN</td>\n",
       "      <td>0</td>\n",
       "      <td>NaN</td>\n",
       "      <td>0</td>\n",
       "      <td>81.48</td>\n",
       "      <td>159.7</td>\n",
       "      <td>10727.049</td>\n",
       "      <td>7.620</td>\n",
       "      <td>511.83540</td>\n",
       "      <td>#VALUE!</td>\n",
       "    </tr>\n",
       "    <tr>\n",
       "      <th>2</th>\n",
       "      <td>2021111100008</td>\n",
       "      <td>548.07</td>\n",
       "      <td>4.2米厢车</td>\n",
       "      <td>济南市</td>\n",
       "      <td>370</td>\n",
       "      <td>田家庵区</td>\n",
       "      <td>340.0</td>\n",
       "      <td>1.0</td>\n",
       "      <td>4.2</td>\n",
       "      <td>1.8</td>\n",
       "      <td>...</td>\n",
       "      <td>NaN</td>\n",
       "      <td>0</td>\n",
       "      <td>项目要求使用9.6和4.2货车各1辆，约600公里。</td>\n",
       "      <td>26</td>\n",
       "      <td>74.07</td>\n",
       "      <td>168.5</td>\n",
       "      <td>92349.795</td>\n",
       "      <td>7.530</td>\n",
       "      <td>4126.96710</td>\n",
       "      <td>1 each project requires the use of 9.6 and 4.2...</td>\n",
       "    </tr>\n",
       "    <tr>\n",
       "      <th>3</th>\n",
       "      <td>XJ2022042000004</td>\n",
       "      <td>263.95</td>\n",
       "      <td>16.5米厢车</td>\n",
       "      <td>福州市</td>\n",
       "      <td>350</td>\n",
       "      <td>漳州市</td>\n",
       "      <td>350.0</td>\n",
       "      <td>0.0</td>\n",
       "      <td>16.5</td>\n",
       "      <td>2.5</td>\n",
       "      <td>...</td>\n",
       "      <td>NaN</td>\n",
       "      <td>0</td>\n",
       "      <td>NaN</td>\n",
       "      <td>0</td>\n",
       "      <td>129.63</td>\n",
       "      <td>147.0</td>\n",
       "      <td>38800.650</td>\n",
       "      <td>8.510</td>\n",
       "      <td>2246.21450</td>\n",
       "      <td>#VALUE!</td>\n",
       "    </tr>\n",
       "    <tr>\n",
       "      <th>4</th>\n",
       "      <td>2022012500017</td>\n",
       "      <td>175.97</td>\n",
       "      <td>高顶依维柯</td>\n",
       "      <td>上海市</td>\n",
       "      <td>310</td>\n",
       "      <td>浙江省</td>\n",
       "      <td>330.0</td>\n",
       "      <td>1.0</td>\n",
       "      <td>2.3</td>\n",
       "      <td>1.6</td>\n",
       "      <td>...</td>\n",
       "      <td>NaN</td>\n",
       "      <td>0</td>\n",
       "      <td>费用含装卸，一装两卸，单件货物比较大最好两个人送货，还要有手拉车，因为要上楼</td>\n",
       "      <td>38</td>\n",
       "      <td>62.52</td>\n",
       "      <td>138.2</td>\n",
       "      <td>24319.054</td>\n",
       "      <td>7.755</td>\n",
       "      <td>1364.64735</td>\n",
       "      <td>Fees including loading and unloading, the unlo...</td>\n",
       "    </tr>\n",
       "  </tbody>\n",
       "</table>\n",
       "<p>5 rows × 26 columns</p>\n",
       "</div>"
      ],
      "text/plain": [
       "              报价编号    距离km       车型 起始城市 起始城市代码  目的城市  目的城市代码  是否跨省运输    车长  \\\n",
       "0  XJ2022041400009  559.18    微型面包车  陕西省    610   陕西省   610.0     0.0   1.8   \n",
       "1    2021102000011   67.17   7.6米厢车  重庆市    500   重庆市   500.0     0.0   7.6   \n",
       "2    2021111100008  548.07   4.2米厢车  济南市    370  田家庵区   340.0     1.0   4.2   \n",
       "3  XJ2022042000004  263.95  16.5米厢车  福州市    350   漳州市   350.0     0.0  16.5   \n",
       "4    2022012500017  175.97    高顶依维柯  上海市    310   浙江省   330.0     1.0   2.3   \n",
       "\n",
       "    车宽  ...  运输要求  是否有要求                                      备注 是否有备注  \\\n",
       "0  1.3  ...   NaN      0  货物共计18件，160公斤，库房内装车，按照客户要求货物卸到指定位置，返回单    38   \n",
       "1  2.3  ...   NaN      0                                     NaN     0   \n",
       "2  1.8  ...   NaN      0              项目要求使用9.6和4.2货车各1辆，约600公里。    26   \n",
       "3  2.5  ...   NaN      0                                     NaN     0   \n",
       "4  1.6  ...   NaN      0  费用含装卸，一装两卸，单件货物比较大最好两个人送货，还要有手拉车，因为要上楼    38   \n",
       "\n",
       "       车价     油价        耗油价    柴油价       柴油耗油价  \\\n",
       "0   77.78  147.0  82199.460  8.510  4758.62180   \n",
       "1   81.48  159.7  10727.049  7.620   511.83540   \n",
       "2   74.07  168.5  92349.795  7.530  4126.96710   \n",
       "3  129.63  147.0  38800.650  8.510  2246.21450   \n",
       "4   62.52  138.2  24319.054  7.755  1364.64735   \n",
       "\n",
       "                                         translation  \n",
       "0  The goods a total of 18, 160 kg, warehouse loa...  \n",
       "1                                            #VALUE!  \n",
       "2  1 each project requires the use of 9.6 and 4.2...  \n",
       "3                                            #VALUE!  \n",
       "4  Fees including loading and unloading, the unlo...  \n",
       "\n",
       "[5 rows x 26 columns]"
      ]
     },
     "execution_count": 3,
     "metadata": {},
     "output_type": "execute_result"
    }
   ],
   "source": [
    "data_path = r'../input/trainA/trainA.xlsx'\n",
    "train_data = pd.read_excel(data_path,sheet_name='训练集')\n",
    "test_data = pd.read_excel(data_path,sheet_name='测试集')\n",
    "train_data.head()"
   ]
  },
  {
   "cell_type": "code",
   "execution_count": 4,
   "id": "6249de7c",
   "metadata": {
    "execution": {
     "iopub.execute_input": "2022-06-27T04:55:07.311506Z",
     "iopub.status.busy": "2022-06-27T04:55:07.310924Z",
     "iopub.status.idle": "2022-06-27T04:55:07.329607Z",
     "shell.execute_reply": "2022-06-27T04:55:07.328861Z"
    },
    "papermill": {
     "duration": 0.040054,
     "end_time": "2022-06-27T04:55:07.331663",
     "exception": false,
     "start_time": "2022-06-27T04:55:07.291609",
     "status": "completed"
    },
    "tags": []
   },
   "outputs": [],
   "source": [
    "# 填充第一个众数\n",
    "train_data['车宽']= train_data['车宽'].fillna(train_data['车宽'].mode()[0])\n",
    "train_data['车高']= train_data['车高'].fillna(train_data['车高'].mode()[0])\n",
    "train_data['是否跨省运输']= train_data['是否跨省运输'].fillna(train_data['是否跨省运输'].mode()[0])\n",
    "train_data['车辆容积']= train_data['车辆容积'].fillna(train_data['车辆容积'].mode()[0])\n",
    "train_data['标准载重']= train_data['标准载重'].fillna(train_data['标准载重'].mode()[0])\n",
    "train_data['货物类型']= train_data['货物类型'].fillna(train_data['货物类型'].mode()[0])"
   ]
  },
  {
   "cell_type": "code",
   "execution_count": 5,
   "id": "f67f3c2b",
   "metadata": {
    "execution": {
     "iopub.execute_input": "2022-06-27T04:55:07.367625Z",
     "iopub.status.busy": "2022-06-27T04:55:07.367050Z",
     "iopub.status.idle": "2022-06-27T04:55:07.377416Z",
     "shell.execute_reply": "2022-06-27T04:55:07.376626Z"
    },
    "papermill": {
     "duration": 0.030955,
     "end_time": "2022-06-27T04:55:07.379446",
     "exception": false,
     "start_time": "2022-06-27T04:55:07.348491",
     "status": "completed"
    },
    "tags": []
   },
   "outputs": [],
   "source": [
    "test_data['车宽']= test_data['车宽'].fillna(test_data['车宽'].mode()[0])\n",
    "test_data['车高']= test_data['车高'].fillna(test_data['车高'].mode()[0])\n",
    "test_data['是否跨省运输']= test_data['是否跨省运输'].fillna(test_data['是否跨省运输'].mode()[0])\n",
    "test_data['货物类型']= test_data['货物类型'].fillna(test_data['货物类型'].mode()[0])\n",
    "test_data['车辆容积']= test_data['车辆容积'].fillna(test_data['车辆容积'].mode()[0])\n",
    "test_data['标准载重']= test_data['标准载重'].fillna(test_data['标准载重'].mode()[0])"
   ]
  },
  {
   "cell_type": "code",
   "execution_count": 6,
   "id": "e535a948",
   "metadata": {
    "execution": {
     "iopub.execute_input": "2022-06-27T04:55:07.416293Z",
     "iopub.status.busy": "2022-06-27T04:55:07.415740Z",
     "iopub.status.idle": "2022-06-27T04:55:07.435036Z",
     "shell.execute_reply": "2022-06-27T04:55:07.434107Z"
    },
    "papermill": {
     "duration": 0.040229,
     "end_time": "2022-06-27T04:55:07.437153",
     "exception": false,
     "start_time": "2022-06-27T04:55:07.396924",
     "status": "completed"
    },
    "tags": []
   },
   "outputs": [
    {
     "name": "stdout",
     "output_type": "stream",
     "text": [
      "<class 'pandas.core.frame.DataFrame'>\n",
      "RangeIndex: 2629 entries, 0 to 2628\n",
      "Data columns (total 26 columns):\n",
      " #   Column       Non-Null Count  Dtype  \n",
      "---  ------       --------------  -----  \n",
      " 0   报价编号         2629 non-null   object \n",
      " 1   距离km         2629 non-null   float64\n",
      " 2   车型           2629 non-null   object \n",
      " 3   起始城市         2629 non-null   object \n",
      " 4   起始城市代码       2586 non-null   object \n",
      " 5   目的城市         2629 non-null   object \n",
      " 6   目的城市代码       2583 non-null   float64\n",
      " 7   是否跨省运输       2629 non-null   float64\n",
      " 8   车长           2629 non-null   float64\n",
      " 9   车宽           2629 non-null   float64\n",
      " 10  车高           2629 non-null   float64\n",
      " 11  标准载重         2629 non-null   float64\n",
      " 12  车辆容积         2629 non-null   float64\n",
      " 13  货物类型         2629 non-null   object \n",
      " 14  用车时间         2629 non-null   object \n",
      " 15  货物特性         64 non-null     object \n",
      " 16  运输要求         520 non-null    object \n",
      " 17  是否有要求        2629 non-null   int64  \n",
      " 18  备注           1812 non-null   object \n",
      " 19  是否有备注        2629 non-null   int64  \n",
      " 20  车价           2629 non-null   float64\n",
      " 21  油价           2629 non-null   float64\n",
      " 22  耗油价          2629 non-null   float64\n",
      " 23  柴油价          2629 non-null   float64\n",
      " 24  柴油耗油价        2629 non-null   float64\n",
      " 25  translation  1066 non-null   object \n",
      "dtypes: float64(13), int64(2), object(11)\n",
      "memory usage: 534.1+ KB\n"
     ]
    }
   ],
   "source": [
    "train_data.info()"
   ]
  },
  {
   "cell_type": "code",
   "execution_count": 7,
   "id": "a05ee2f1",
   "metadata": {
    "execution": {
     "iopub.execute_input": "2022-06-27T04:55:07.472322Z",
     "iopub.status.busy": "2022-06-27T04:55:07.471786Z",
     "iopub.status.idle": "2022-06-27T04:55:07.487990Z",
     "shell.execute_reply": "2022-06-27T04:55:07.487299Z"
    },
    "papermill": {
     "duration": 0.036397,
     "end_time": "2022-06-27T04:55:07.490011",
     "exception": false,
     "start_time": "2022-06-27T04:55:07.453614",
     "status": "completed"
    },
    "tags": []
   },
   "outputs": [],
   "source": [
    "# # 时间处理(提取年月日)\n",
    "train_data['用车时间'] = pd.to_datetime(train_data['用车时间'])\n",
    "test_data['用车时间'] = pd.to_datetime(test_data['用车时间'])\n",
    "\n",
    "\n",
    "train_data['year'] = train_data['用车时间'].dt.year\n",
    "train_data['month'] = train_data['用车时间'].dt.month\n",
    "train_data['day'] = train_data['用车时间'].dt.day\n",
    "\n",
    "\n",
    "test_data['year'] = test_data['用车时间'].dt.year\n",
    "test_data['month'] = test_data['用车时间'].dt.month\n",
    "test_data['day'] = test_data['用车时间'].dt.day\n"
   ]
  },
  {
   "cell_type": "code",
   "execution_count": 8,
   "id": "6156c963",
   "metadata": {
    "execution": {
     "iopub.execute_input": "2022-06-27T04:55:07.525523Z",
     "iopub.status.busy": "2022-06-27T04:55:07.524951Z",
     "iopub.status.idle": "2022-06-27T04:55:07.547513Z",
     "shell.execute_reply": "2022-06-27T04:55:07.546591Z"
    },
    "papermill": {
     "duration": 0.043384,
     "end_time": "2022-06-27T04:55:07.549956",
     "exception": false,
     "start_time": "2022-06-27T04:55:07.506572",
     "status": "completed"
    },
    "tags": []
   },
   "outputs": [],
   "source": [
    "# 此部分先使用了log1p，还没对比其他的数据转换方法\n",
    "train_data['距离km'] = np.log1p(train_data['距离km'])\n",
    "test_data['距离km'] = np.log1p(test_data['距离km'])\n",
    "train_data['车价'] = np.log1p(train_data['车价'])\n",
    "test_data['车价'] = np.log1p(test_data['车价'])\n",
    "train_data['车长'] = np.log1p(train_data['车长'])\n",
    "test_data['车长'] = np.log1p(test_data['车长'])\n",
    "\n",
    "train_data['车宽'] = np.log1p(train_data['车宽'])\n",
    "test_data['车宽'] = np.log1p(test_data['车宽'])\n",
    "\n",
    "train_data['车高'] = np.log1p(train_data['车高'])\n",
    "test_data['车高'] = np.log1p(test_data['车高'])\n",
    "\n",
    "train_data['车宽'] = np.log1p(train_data['车宽'])\n",
    "test_data['车宽'] = np.log1p(test_data['车宽'])\n",
    "\n",
    "train_data['车辆容积'] = np.log1p(train_data['车辆容积'])\n",
    "test_data['车辆容积'] = np.log1p(test_data['车辆容积'])\n",
    "\n",
    "train_data['是否有要求'] = np.log1p(train_data['是否有要求'])\n",
    "test_data['是否有要求'] = np.log1p(test_data['是否有要求'])\n",
    "\n",
    "train_data['是否有备注'] = np.log1p(train_data['是否有备注'])\n",
    "test_data['是否有备注'] = np.log1p(test_data['是否有备注'])\n",
    "\n",
    "train_data['耗油价'] = np.log1p(train_data['耗油价'])\n",
    "test_data['耗油价'] = np.log1p(test_data['耗油价'])\n",
    "\n",
    "train_data['柴油耗油价'] = np.log1p(train_data['柴油耗油价'])\n",
    "test_data['柴油耗油价'] = np.log1p(test_data['柴油耗油价'])\n",
    "\n",
    "train_data['标准载重'] = np.log1p(train_data['标准载重'])\n",
    "test_data['标准载重'] = np.log1p(test_data['标准载重'])\n",
    "\n",
    "train_data['柴油价'] = np.log1p(train_data['柴油价'])\n",
    "test_data['柴油价'] = np.log1p(test_data['柴油价'])\n",
    "\n",
    "train_data['油价'] = np.log1p(train_data['油价'])\n",
    "test_data['油价'] = np.log1p(test_data['油价'])\n",
    "\n",
    "# train_data['month'] = np.log1p(train_data['month'])\n",
    "# test_data['month'] = np.log1p(test_data['month'])\n",
    "\n",
    "# train_data['day'] = np.log1p(train_data['day'])\n",
    "# test_data['day'] = np.log1p(test_data['day'])\n",
    "\n",
    "# train_data['year'] = np.log1p(train_data['year'])\n",
    "# test_data['year'] = np.log1p(test_data['year'])"
   ]
  },
  {
   "cell_type": "code",
   "execution_count": 9,
   "id": "03330eb2",
   "metadata": {
    "execution": {
     "iopub.execute_input": "2022-06-27T04:55:07.585308Z",
     "iopub.status.busy": "2022-06-27T04:55:07.584924Z",
     "iopub.status.idle": "2022-06-27T04:55:07.595477Z",
     "shell.execute_reply": "2022-06-27T04:55:07.594487Z"
    },
    "papermill": {
     "duration": 0.031007,
     "end_time": "2022-06-27T04:55:07.597679",
     "exception": false,
     "start_time": "2022-06-27T04:55:07.566672",
     "status": "completed"
    },
    "tags": []
   },
   "outputs": [],
   "source": [
    "data_all = pd.concat([train_data, test_data],ignore_index=True, sort = False)"
   ]
  },
  {
   "cell_type": "code",
   "execution_count": 10,
   "id": "d0ea337c",
   "metadata": {
    "execution": {
     "iopub.execute_input": "2022-06-27T04:55:07.635227Z",
     "iopub.status.busy": "2022-06-27T04:55:07.634705Z",
     "iopub.status.idle": "2022-06-27T04:55:09.318344Z",
     "shell.execute_reply": "2022-06-27T04:55:09.317027Z"
    },
    "papermill": {
     "duration": 1.705866,
     "end_time": "2022-06-27T04:55:09.321740",
     "exception": false,
     "start_time": "2022-06-27T04:55:07.615874",
     "status": "completed"
    },
    "tags": []
   },
   "outputs": [
    {
     "name": "stderr",
     "output_type": "stream",
     "text": [
      "Building prefix dict from the default dictionary ...\n",
      "Dumping model to file cache /tmp/jieba.cache\n",
      "Loading model cost 0.908 seconds.\n",
      "Prefix dict has been built successfully.\n"
     ]
    }
   ],
   "source": [
    "from sklearn.decomposition import TruncatedSVD\n",
    "from sklearn.feature_extraction.text import TfidfVectorizer\n",
    "import jieba\n",
    "# data_all['便利设施'] = data_all['便利设施'].apply(\n",
    "#     lambda x: x.replace('{', '').replace('}', '').replace('\"', '').replace(':', '').replace(',', ' '))\n",
    "# # df_features['便利设施'] = df_features['便利设施'].str.lower()\n",
    "def jiebasplit(x):\n",
    "    generator = jieba.cut(str(x))\n",
    "    \n",
    "    return ' '.join(generator)\n",
    "\n",
    "data_all['备注'] = data_all['备注'].apply(jiebasplit)\n",
    "# df_features['便利设施'] = df_features['便利设施'].str.lower()\n",
    "n_components = 12\n",
    "\n",
    "X = list(data_all['备注'].values)\n",
    "tfv = TfidfVectorizer(ngram_range=(1,1), max_features=10000)\n",
    "tfv.fit(X)\n",
    "X_tfidf = tfv.transform(X)\n",
    "svd = TruncatedSVD(n_components= n_components)\n",
    "svd.fit(X_tfidf)\n",
    "X_svd = svd.transform(X_tfidf)\n",
    "\n",
    "for i in range(n_components):\n",
    "    data_all[f'备注_tfidf_{i}'] = X_svd[:, i]"
   ]
  },
  {
   "cell_type": "code",
   "execution_count": 11,
   "id": "9b06dee0",
   "metadata": {
    "execution": {
     "iopub.execute_input": "2022-06-27T04:55:09.423083Z",
     "iopub.status.busy": "2022-06-27T04:55:09.422196Z",
     "iopub.status.idle": "2022-06-27T04:55:09.557316Z",
     "shell.execute_reply": "2022-06-27T04:55:09.555969Z"
    },
    "papermill": {
     "duration": 0.178273,
     "end_time": "2022-06-27T04:55:09.560998",
     "exception": false,
     "start_time": "2022-06-27T04:55:09.382725",
     "status": "completed"
    },
    "tags": []
   },
   "outputs": [],
   "source": [
    "from sklearn.decomposition import TruncatedSVD\n",
    "from sklearn.feature_extraction.text import TfidfVectorizer\n",
    "import jieba\n",
    "# data_all['便利设施'] = data_all['便利设施'].apply(\n",
    "#     lambda x: x.replace('{', '').replace('}', '').replace('\"', '').replace(':', '').replace(',', ' '))\n",
    "# # df_features['便利设施'] = df_features['便利设施'].str.lower()\n",
    "def jiebasplit(x):\n",
    "    generator = jieba.cut(str(x))\n",
    "    \n",
    "    return ' '.join(generator)\n",
    "\n",
    "data_all['运输要求'] = data_all['运输要求'].apply(jiebasplit)\n",
    "# df_features['便利设施'] = df_features['便利设施'].str.lower()\n",
    "n_components = 12\n",
    "\n",
    "X = list(data_all['运输要求'].values)\n",
    "tfv = TfidfVectorizer(ngram_range=(1,1), max_features=10000)\n",
    "tfv.fit(X)\n",
    "X_tfidf = tfv.transform(X)\n",
    "svd = TruncatedSVD(n_components= n_components)\n",
    "svd.fit(X_tfidf)\n",
    "X_svd = svd.transform(X_tfidf)\n",
    "\n",
    "for i in range(n_components):\n",
    "    data_all[f'运输要求_tfidf_{i}'] = X_svd[:, i]"
   ]
  },
  {
   "cell_type": "code",
   "execution_count": 12,
   "id": "da55993e",
   "metadata": {
    "execution": {
     "iopub.execute_input": "2022-06-27T04:55:09.662335Z",
     "iopub.status.busy": "2022-06-27T04:55:09.661940Z",
     "iopub.status.idle": "2022-06-27T04:55:09.708249Z",
     "shell.execute_reply": "2022-06-27T04:55:09.707322Z"
    },
    "papermill": {
     "duration": 0.088653,
     "end_time": "2022-06-27T04:55:09.710460",
     "exception": false,
     "start_time": "2022-06-27T04:55:09.621807",
     "status": "completed"
    },
    "tags": []
   },
   "outputs": [
    {
     "name": "stdout",
     "output_type": "stream",
     "text": [
      "4\n"
     ]
    },
    {
     "data": {
      "text/html": [
       "<div>\n",
       "<style scoped>\n",
       "    .dataframe tbody tr th:only-of-type {\n",
       "        vertical-align: middle;\n",
       "    }\n",
       "\n",
       "    .dataframe tbody tr th {\n",
       "        vertical-align: top;\n",
       "    }\n",
       "\n",
       "    .dataframe thead th {\n",
       "        text-align: right;\n",
       "    }\n",
       "</style>\n",
       "<table border=\"1\" class=\"dataframe\">\n",
       "  <thead>\n",
       "    <tr style=\"text-align: right;\">\n",
       "      <th></th>\n",
       "      <th>报价编号</th>\n",
       "      <th>距离km</th>\n",
       "      <th>车型</th>\n",
       "      <th>起始城市</th>\n",
       "      <th>起始城市代码</th>\n",
       "      <th>目的城市</th>\n",
       "      <th>目的城市代码</th>\n",
       "      <th>是否跨省运输</th>\n",
       "      <th>车长</th>\n",
       "      <th>车宽</th>\n",
       "      <th>...</th>\n",
       "      <th>运输要求_tfidf_4</th>\n",
       "      <th>运输要求_tfidf_5</th>\n",
       "      <th>运输要求_tfidf_6</th>\n",
       "      <th>运输要求_tfidf_7</th>\n",
       "      <th>运输要求_tfidf_8</th>\n",
       "      <th>运输要求_tfidf_9</th>\n",
       "      <th>运输要求_tfidf_10</th>\n",
       "      <th>运输要求_tfidf_11</th>\n",
       "      <th>到达区域</th>\n",
       "      <th>起始区域</th>\n",
       "    </tr>\n",
       "  </thead>\n",
       "  <tbody>\n",
       "    <tr>\n",
       "      <th>0</th>\n",
       "      <td>XJ2022041400009</td>\n",
       "      <td>6.328258</td>\n",
       "      <td>微型面包车</td>\n",
       "      <td>陕西省</td>\n",
       "      <td>610</td>\n",
       "      <td>陕西省</td>\n",
       "      <td>610.0</td>\n",
       "      <td>0.0</td>\n",
       "      <td>1.029619</td>\n",
       "      <td>0.605904</td>\n",
       "      <td>...</td>\n",
       "      <td>1.007355e-18</td>\n",
       "      <td>-2.924640e-18</td>\n",
       "      <td>1.189936e-18</td>\n",
       "      <td>-5.681944e-19</td>\n",
       "      <td>-9.144480e-19</td>\n",
       "      <td>-1.368522e-16</td>\n",
       "      <td>-6.570483e-17</td>\n",
       "      <td>4.615438e-18</td>\n",
       "      <td>西部</td>\n",
       "      <td>西部</td>\n",
       "    </tr>\n",
       "    <tr>\n",
       "      <th>1</th>\n",
       "      <td>2021102000011</td>\n",
       "      <td>4.222005</td>\n",
       "      <td>7.6米厢车</td>\n",
       "      <td>重庆市</td>\n",
       "      <td>500</td>\n",
       "      <td>重庆市</td>\n",
       "      <td>500.0</td>\n",
       "      <td>0.0</td>\n",
       "      <td>2.151762</td>\n",
       "      <td>0.785691</td>\n",
       "      <td>...</td>\n",
       "      <td>1.007355e-18</td>\n",
       "      <td>-2.924640e-18</td>\n",
       "      <td>1.189936e-18</td>\n",
       "      <td>-5.681944e-19</td>\n",
       "      <td>-9.144480e-19</td>\n",
       "      <td>-1.368522e-16</td>\n",
       "      <td>-6.570483e-17</td>\n",
       "      <td>4.615438e-18</td>\n",
       "      <td>西部</td>\n",
       "      <td>西部</td>\n",
       "    </tr>\n",
       "    <tr>\n",
       "      <th>2</th>\n",
       "      <td>2021111100008</td>\n",
       "      <td>6.308226</td>\n",
       "      <td>4.2米厢车</td>\n",
       "      <td>济南市</td>\n",
       "      <td>370</td>\n",
       "      <td>田家庵区</td>\n",
       "      <td>340.0</td>\n",
       "      <td>1.0</td>\n",
       "      <td>1.648659</td>\n",
       "      <td>0.707848</td>\n",
       "      <td>...</td>\n",
       "      <td>1.007355e-18</td>\n",
       "      <td>-2.924640e-18</td>\n",
       "      <td>1.189936e-18</td>\n",
       "      <td>-5.681944e-19</td>\n",
       "      <td>-9.144480e-19</td>\n",
       "      <td>-1.368522e-16</td>\n",
       "      <td>-6.570483e-17</td>\n",
       "      <td>4.615438e-18</td>\n",
       "      <td>中部</td>\n",
       "      <td>东部</td>\n",
       "    </tr>\n",
       "    <tr>\n",
       "      <th>3</th>\n",
       "      <td>XJ2022042000004</td>\n",
       "      <td>5.579541</td>\n",
       "      <td>16.5米厢车</td>\n",
       "      <td>福州市</td>\n",
       "      <td>350</td>\n",
       "      <td>漳州市</td>\n",
       "      <td>350.0</td>\n",
       "      <td>0.0</td>\n",
       "      <td>2.862201</td>\n",
       "      <td>0.812157</td>\n",
       "      <td>...</td>\n",
       "      <td>1.007355e-18</td>\n",
       "      <td>-2.924640e-18</td>\n",
       "      <td>1.189936e-18</td>\n",
       "      <td>-5.681944e-19</td>\n",
       "      <td>-9.144480e-19</td>\n",
       "      <td>-1.368522e-16</td>\n",
       "      <td>-6.570483e-17</td>\n",
       "      <td>4.615438e-18</td>\n",
       "      <td>东部</td>\n",
       "      <td>东部</td>\n",
       "    </tr>\n",
       "    <tr>\n",
       "      <th>4</th>\n",
       "      <td>2022012500017</td>\n",
       "      <td>5.175980</td>\n",
       "      <td>高顶依维柯</td>\n",
       "      <td>上海市</td>\n",
       "      <td>310</td>\n",
       "      <td>浙江省</td>\n",
       "      <td>330.0</td>\n",
       "      <td>1.0</td>\n",
       "      <td>1.193922</td>\n",
       "      <td>0.670652</td>\n",
       "      <td>...</td>\n",
       "      <td>1.007355e-18</td>\n",
       "      <td>-2.924640e-18</td>\n",
       "      <td>1.189936e-18</td>\n",
       "      <td>-5.681944e-19</td>\n",
       "      <td>-9.144480e-19</td>\n",
       "      <td>-1.368522e-16</td>\n",
       "      <td>-6.570483e-17</td>\n",
       "      <td>4.615438e-18</td>\n",
       "      <td>东部</td>\n",
       "      <td>东部</td>\n",
       "    </tr>\n",
       "  </tbody>\n",
       "</table>\n",
       "<p>5 rows × 55 columns</p>\n",
       "</div>"
      ],
      "text/plain": [
       "              报价编号      距离km       车型 起始城市 起始城市代码  目的城市  目的城市代码  是否跨省运输  \\\n",
       "0  XJ2022041400009  6.328258    微型面包车  陕西省    610   陕西省   610.0     0.0   \n",
       "1    2021102000011  4.222005   7.6米厢车  重庆市    500   重庆市   500.0     0.0   \n",
       "2    2021111100008  6.308226   4.2米厢车  济南市    370  田家庵区   340.0     1.0   \n",
       "3  XJ2022042000004  5.579541  16.5米厢车  福州市    350   漳州市   350.0     0.0   \n",
       "4    2022012500017  5.175980    高顶依维柯  上海市    310   浙江省   330.0     1.0   \n",
       "\n",
       "         车长        车宽  ...  运输要求_tfidf_4  运输要求_tfidf_5  运输要求_tfidf_6  \\\n",
       "0  1.029619  0.605904  ...  1.007355e-18 -2.924640e-18  1.189936e-18   \n",
       "1  2.151762  0.785691  ...  1.007355e-18 -2.924640e-18  1.189936e-18   \n",
       "2  1.648659  0.707848  ...  1.007355e-18 -2.924640e-18  1.189936e-18   \n",
       "3  2.862201  0.812157  ...  1.007355e-18 -2.924640e-18  1.189936e-18   \n",
       "4  1.193922  0.670652  ...  1.007355e-18 -2.924640e-18  1.189936e-18   \n",
       "\n",
       "   运输要求_tfidf_7  运输要求_tfidf_8  运输要求_tfidf_9 运输要求_tfidf_10  运输要求_tfidf_11 到达区域  \\\n",
       "0 -5.681944e-19 -9.144480e-19 -1.368522e-16 -6.570483e-17   4.615438e-18   西部   \n",
       "1 -5.681944e-19 -9.144480e-19 -1.368522e-16 -6.570483e-17   4.615438e-18   西部   \n",
       "2 -5.681944e-19 -9.144480e-19 -1.368522e-16 -6.570483e-17   4.615438e-18   中部   \n",
       "3 -5.681944e-19 -9.144480e-19 -1.368522e-16 -6.570483e-17   4.615438e-18   东部   \n",
       "4 -5.681944e-19 -9.144480e-19 -1.368522e-16 -6.570483e-17   4.615438e-18   东部   \n",
       "\n",
       "   起始区域  \n",
       "0    西部  \n",
       "1    西部  \n",
       "2    东部  \n",
       "3    东部  \n",
       "4    东部  \n",
       "\n",
       "[5 rows x 55 columns]"
      ]
     },
     "execution_count": 12,
     "metadata": {},
     "output_type": "execute_result"
    }
   ],
   "source": [
    "classfied_pro = {'东部':{'北京':110,'天津':120,'河北':130,'上海':310,\"江苏\":320,'浙江':330,'福建':350,'山东':370,'广东':440,'海南':460,'台湾':710,'香港':810,'澳门':820},#东部地区\n",
    "                '中部':{'山西':140,'安徽':340,'江西':360,'河南':410,'湖北':420,'湖南':430},# 中部\n",
    "                '西部':{'内蒙古':150,'广西':450,'重庆':500,'四川':510,'贵州':520,'云南':530,'西藏':540,'陕西':610,'甘肃':620,'青海':630,'宁夏':640,'新疆':650},#西部\n",
    "                '东北':{'辽宁':210,'吉林':220,'黑龙江':230}}#东北\n",
    "print(len(classfied_pro))\n",
    "def extract_pro(pro_code):\n",
    "    for j in classfied_pro:\n",
    "        for key,value in classfied_pro[j].items():\n",
    "            if  pro_code == value:\n",
    "                return j\n",
    "                break\n",
    "data_all['到达区域'] = data_all['目的城市代码'].apply(extract_pro)\n",
    "data_all['起始区域'] = data_all['起始城市代码'].apply(extract_pro)\n",
    "data_all.head()"
   ]
  },
  {
   "cell_type": "code",
   "execution_count": 13,
   "id": "d03e84ae",
   "metadata": {
    "execution": {
     "iopub.execute_input": "2022-06-27T04:55:09.749196Z",
     "iopub.status.busy": "2022-06-27T04:55:09.748469Z",
     "iopub.status.idle": "2022-06-27T04:55:09.756041Z",
     "shell.execute_reply": "2022-06-27T04:55:09.755222Z"
    },
    "papermill": {
     "duration": 0.028822,
     "end_time": "2022-06-27T04:55:09.758266",
     "exception": false,
     "start_time": "2022-06-27T04:55:09.729444",
     "status": "completed"
    },
    "tags": []
   },
   "outputs": [],
   "source": [
    "df = data_all.copy()"
   ]
  },
  {
   "cell_type": "code",
   "execution_count": 14,
   "id": "14d67a60",
   "metadata": {
    "execution": {
     "iopub.execute_input": "2022-06-27T04:55:09.797097Z",
     "iopub.status.busy": "2022-06-27T04:55:09.796017Z",
     "iopub.status.idle": "2022-06-27T04:55:10.019190Z",
     "shell.execute_reply": "2022-06-27T04:55:10.018467Z"
    },
    "papermill": {
     "duration": 0.245248,
     "end_time": "2022-06-27T04:55:10.021418",
     "exception": false,
     "start_time": "2022-06-27T04:55:09.776170",
     "status": "completed"
    },
    "tags": []
   },
   "outputs": [],
   "source": [
    "\n",
    "oil_data = pd.read_excel(data_path,sheet_name='油价')\n",
    "\n",
    "\n",
    "def find_time(objtime,oiltype):\n",
    "    t = oil_data['调整日期']\n",
    "    right = len(t)\n",
    "    left = 0\n",
    "    mid = (left+right)//2\n",
    "    while left<right-1:\n",
    "        if t[mid]<objtime:\n",
    "            right = mid-1\n",
    "            \n",
    "        else:\n",
    "            left = mid+1\n",
    "        mid = (right+left)//2\n",
    "    a = t[right]\n",
    "    res = oil_data[oil_data['调整日期'].isin([a])]\n",
    "    if oiltype == '汽油':\n",
    "        o = '价格(元/吨)'\n",
    "    else:\n",
    "        o = '价格(元/吨).1'\n",
    "    res =  res[o]\n",
    "    if '万' in str(res):\n",
    "        res = res.values\n",
    "        res = res[0][:-1]\n",
    "        res = float(res)*10000\n",
    "    else:\n",
    "        res = res.values[0]\n",
    "    return res"
   ]
  },
  {
   "cell_type": "code",
   "execution_count": 15,
   "id": "90d83d71",
   "metadata": {
    "execution": {
     "iopub.execute_input": "2022-06-27T04:55:10.059217Z",
     "iopub.status.busy": "2022-06-27T04:55:10.058530Z",
     "iopub.status.idle": "2022-06-27T04:55:16.247879Z",
     "shell.execute_reply": "2022-06-27T04:55:16.246870Z"
    },
    "papermill": {
     "duration": 6.211525,
     "end_time": "2022-06-27T04:55:16.250245",
     "exception": false,
     "start_time": "2022-06-27T04:55:10.038720",
     "status": "completed"
    },
    "tags": []
   },
   "outputs": [],
   "source": [
    "df['汽油'] = df['用车时间'].apply(find_time,args=('汽油',))\n",
    "df['柴油'] = df['用车时间'].apply(find_time,args=('柴油',))"
   ]
  },
  {
   "cell_type": "code",
   "execution_count": 16,
   "id": "301e8459",
   "metadata": {
    "execution": {
     "iopub.execute_input": "2022-06-27T04:55:16.288560Z",
     "iopub.status.busy": "2022-06-27T04:55:16.287706Z",
     "iopub.status.idle": "2022-06-27T04:55:23.235220Z",
     "shell.execute_reply": "2022-06-27T04:55:23.234480Z"
    },
    "papermill": {
     "duration": 6.968917,
     "end_time": "2022-06-27T04:55:23.237388",
     "exception": false,
     "start_time": "2022-06-27T04:55:16.268471",
     "status": "completed"
    },
    "tags": []
   },
   "outputs": [],
   "source": [
    "\n",
    "oil_data = pd.read_excel(data_path,sheet_name='油价')\n",
    "\n",
    "def find_time(objtime,oiltype):\n",
    "    t = oil_data['调整日期']\n",
    "    right = len(t)\n",
    "    left = 0\n",
    "    mid = (left+right)//2\n",
    "    while left<right-1:\n",
    "        if t[mid]<objtime:\n",
    "            right = mid-1\n",
    "            \n",
    "        else:\n",
    "            left = mid+1\n",
    "        mid = (right+left)//2\n",
    "    a = t[right]\n",
    "    res = oil_data[oil_data['调整日期'].isin([a])]\n",
    "    if oiltype == '汽油':\n",
    "        o = '涨跌'\n",
    "    else:\n",
    "        o = '涨跌.1'\n",
    "    res =  res[o]\n",
    "    if '↑' in str(res):\n",
    "        res = res.values\n",
    "        res = res[0][1:]\n",
    "        res = float(res)\n",
    "    else:\n",
    "        res = res.values\n",
    "        res = res[0][1:]\n",
    "        res = -1*float(res)\n",
    "    \n",
    "    return res\n",
    "df['汽油_涨跌'] = df['用车时间'].apply(find_time,args=('汽油',))\n",
    "df['柴油_涨跌'] = df['用车时间'].apply(find_time,args=('柴油',))"
   ]
  },
  {
   "cell_type": "code",
   "execution_count": 17,
   "id": "c84ce20d",
   "metadata": {
    "execution": {
     "iopub.execute_input": "2022-06-27T04:55:23.275166Z",
     "iopub.status.busy": "2022-06-27T04:55:23.274610Z",
     "iopub.status.idle": "2022-06-27T04:55:23.278811Z",
     "shell.execute_reply": "2022-06-27T04:55:23.277763Z"
    },
    "jupyter": {
     "source_hidden": true
    },
    "papermill": {
     "duration": 0.025976,
     "end_time": "2022-06-27T04:55:23.280811",
     "exception": false,
     "start_time": "2022-06-27T04:55:23.254835",
     "status": "completed"
    },
    "tags": []
   },
   "outputs": [],
   "source": [
    "# scenes = df[\"运输要求\"].unique().tolist()\n",
    "# scenes\n",
    "# requires = []\n",
    "# for x in scenes[1:]:  \n",
    "#     x = x.split(',')\n",
    "#     for i in x:\n",
    "#         if i in requires:\n",
    "#             continue\n",
    "#         else:\n",
    "#             requires.append(i)\n",
    "# print(requires)\n",
    "# len(requires)\n",
    "\n",
    "# def extract_req(x,name):\n",
    "\n",
    "#     if type(x) == float:\n",
    "#         return  0\n",
    "#     else:    \n",
    "#         x.split(',')\n",
    "#         if name in x:\n",
    "#             return 1\n",
    "#         else :\n",
    "#             return 0\n",
    "# for i in requires:\n",
    "#     df[i] = df['运输要求'].apply(extract_req,args=(i,))\n",
    "# df.head()"
   ]
  },
  {
   "cell_type": "code",
   "execution_count": 18,
   "id": "73e0878a",
   "metadata": {
    "execution": {
     "iopub.execute_input": "2022-06-27T04:55:23.319117Z",
     "iopub.status.busy": "2022-06-27T04:55:23.318492Z",
     "iopub.status.idle": "2022-06-27T04:55:23.333127Z",
     "shell.execute_reply": "2022-06-27T04:55:23.332306Z"
    },
    "papermill": {
     "duration": 0.036033,
     "end_time": "2022-06-27T04:55:23.335246",
     "exception": false,
     "start_time": "2022-06-27T04:55:23.299213",
     "status": "completed"
    },
    "tags": []
   },
   "outputs": [
    {
     "name": "stdout",
     "output_type": "stream",
     "text": [
      "车型\n",
      "货物类型\n",
      "货物特性\n",
      "到达区域\n",
      "起始区域\n"
     ]
    }
   ],
   "source": [
    "for feat in ['车型','货物类型','货物特性'\n",
    "#              ,'运输要求'\n",
    "             ,'到达区域','起始区域'\n",
    "            ]:# 返回列标签\n",
    "#     if df[feat].dtype == object:\n",
    "    df[feat] = df[feat].astype('str')\n",
    "    print(feat)\n",
    "    le = LabelEncoder()\n",
    "    df[feat] = le.fit_transform(df[feat])"
   ]
  },
  {
   "cell_type": "code",
   "execution_count": 19,
   "id": "1a99e2e6",
   "metadata": {
    "execution": {
     "iopub.execute_input": "2022-06-27T04:55:23.377644Z",
     "iopub.status.busy": "2022-06-27T04:55:23.376967Z",
     "iopub.status.idle": "2022-06-27T04:55:23.383000Z",
     "shell.execute_reply": "2022-06-27T04:55:23.382043Z"
    },
    "papermill": {
     "duration": 0.028822,
     "end_time": "2022-06-27T04:55:23.384845",
     "exception": false,
     "start_time": "2022-06-27T04:55:23.356023",
     "status": "completed"
    },
    "tags": []
   },
   "outputs": [
    {
     "data": {
      "text/plain": [
       "Index(['报价编号', '距离km', '车型', '起始城市', '起始城市代码', '目的城市', '目的城市代码', '是否跨省运输',\n",
       "       '车长', '车宽', '车高', '标准载重', '车辆容积', '货物类型', '用车时间', '货物特性', '运输要求',\n",
       "       '是否有要求', '备注', '是否有备注', '车价', '油价', '耗油价', '柴油价', '柴油耗油价',\n",
       "       'translation', 'year', 'month', 'day', '备注_tfidf_0', '备注_tfidf_1',\n",
       "       '备注_tfidf_2', '备注_tfidf_3', '备注_tfidf_4', '备注_tfidf_5', '备注_tfidf_6',\n",
       "       '备注_tfidf_7', '备注_tfidf_8', '备注_tfidf_9', '备注_tfidf_10', '备注_tfidf_11',\n",
       "       '运输要求_tfidf_0', '运输要求_tfidf_1', '运输要求_tfidf_2', '运输要求_tfidf_3',\n",
       "       '运输要求_tfidf_4', '运输要求_tfidf_5', '运输要求_tfidf_6', '运输要求_tfidf_7',\n",
       "       '运输要求_tfidf_8', '运输要求_tfidf_9', '运输要求_tfidf_10', '运输要求_tfidf_11',\n",
       "       '到达区域', '起始区域', '汽油', '柴油', '汽油_涨跌', '柴油_涨跌'],\n",
       "      dtype='object')"
      ]
     },
     "execution_count": 19,
     "metadata": {},
     "output_type": "execute_result"
    }
   ],
   "source": [
    "df.columns"
   ]
  },
  {
   "cell_type": "code",
   "execution_count": 20,
   "id": "34bb9710",
   "metadata": {
    "execution": {
     "iopub.execute_input": "2022-06-27T04:55:23.422414Z",
     "iopub.status.busy": "2022-06-27T04:55:23.421791Z",
     "iopub.status.idle": "2022-06-27T04:55:23.452944Z",
     "shell.execute_reply": "2022-06-27T04:55:23.452227Z"
    },
    "papermill": {
     "duration": 0.05187,
     "end_time": "2022-06-27T04:55:23.454910",
     "exception": false,
     "start_time": "2022-06-27T04:55:23.403040",
     "status": "completed"
    },
    "tags": []
   },
   "outputs": [
    {
     "name": "stdout",
     "output_type": "stream",
     "text": [
      "报价编号\n",
      "起始城市\n",
      "起始城市代码\n",
      "目的城市\n",
      "运输要求\n",
      "备注\n",
      "translation\n"
     ]
    }
   ],
   "source": [
    "for feat in df.columns:\n",
    "    if df[feat].dtype == object:\n",
    "        df[feat] = df[feat].astype('str')\n",
    "        print(feat)\n",
    "        le = LabelEncoder()\n",
    "        df[feat] = le.fit_transform(df[feat])"
   ]
  },
  {
   "cell_type": "code",
   "execution_count": 21,
   "id": "1528dd17",
   "metadata": {
    "execution": {
     "iopub.execute_input": "2022-06-27T04:55:23.492656Z",
     "iopub.status.busy": "2022-06-27T04:55:23.491965Z",
     "iopub.status.idle": "2022-06-27T04:55:23.497718Z",
     "shell.execute_reply": "2022-06-27T04:55:23.496928Z"
    },
    "papermill": {
     "duration": 0.02675,
     "end_time": "2022-06-27T04:55:23.499501",
     "exception": false,
     "start_time": "2022-06-27T04:55:23.472751",
     "status": "completed"
    },
    "tags": []
   },
   "outputs": [
    {
     "data": {
      "text/plain": [
       "Index(['报价编号', '距离km', '车型', '起始城市', '起始城市代码', '目的城市', '目的城市代码', '是否跨省运输',\n",
       "       '车长', '车宽', '车高', '标准载重', '车辆容积', '货物类型', '用车时间', '货物特性', '运输要求',\n",
       "       '是否有要求', '备注', '是否有备注', '车价', '油价', '耗油价', '柴油价', '柴油耗油价',\n",
       "       'translation', 'year', 'month', 'day', '备注_tfidf_0', '备注_tfidf_1',\n",
       "       '备注_tfidf_2', '备注_tfidf_3', '备注_tfidf_4', '备注_tfidf_5', '备注_tfidf_6',\n",
       "       '备注_tfidf_7', '备注_tfidf_8', '备注_tfidf_9', '备注_tfidf_10', '备注_tfidf_11',\n",
       "       '运输要求_tfidf_0', '运输要求_tfidf_1', '运输要求_tfidf_2', '运输要求_tfidf_3',\n",
       "       '运输要求_tfidf_4', '运输要求_tfidf_5', '运输要求_tfidf_6', '运输要求_tfidf_7',\n",
       "       '运输要求_tfidf_8', '运输要求_tfidf_9', '运输要求_tfidf_10', '运输要求_tfidf_11',\n",
       "       '到达区域', '起始区域', '汽油', '柴油', '汽油_涨跌', '柴油_涨跌'],\n",
       "      dtype='object')"
      ]
     },
     "execution_count": 21,
     "metadata": {},
     "output_type": "execute_result"
    }
   ],
   "source": [
    "df.columns"
   ]
  },
  {
   "cell_type": "code",
   "execution_count": 22,
   "id": "9946e624",
   "metadata": {
    "execution": {
     "iopub.execute_input": "2022-06-27T04:55:23.536731Z",
     "iopub.status.busy": "2022-06-27T04:55:23.535999Z",
     "iopub.status.idle": "2022-06-27T04:55:23.589526Z",
     "shell.execute_reply": "2022-06-27T04:55:23.588682Z"
    },
    "papermill": {
     "duration": 0.074454,
     "end_time": "2022-06-27T04:55:23.591799",
     "exception": false,
     "start_time": "2022-06-27T04:55:23.517345",
     "status": "completed"
    },
    "tags": []
   },
   "outputs": [],
   "source": [
    "def extract(x):\n",
    "    return float(x)\n",
    "\n",
    "col1 = [ '距离km',]\n",
    "col2 =[ '车长', '车宽','车高','标准载重', '车辆容积','货物类型','起始区域','到达区域','标准载重', '车辆容积','month','year','day','汽油','柴油','汽油_涨跌','柴油_涨跌',]\n",
    "for i in col1:\n",
    "    for j in col2:\n",
    "        if i != j:\n",
    "            df['{}*{}'.format(i,j)] = df[i].apply(extract)*df[j].apply(extract)"
   ]
  },
  {
   "cell_type": "code",
   "execution_count": 23,
   "id": "6dea5b99",
   "metadata": {
    "execution": {
     "iopub.execute_input": "2022-06-27T04:55:23.630703Z",
     "iopub.status.busy": "2022-06-27T04:55:23.630060Z",
     "iopub.status.idle": "2022-06-27T04:55:23.636592Z",
     "shell.execute_reply": "2022-06-27T04:55:23.635698Z"
    },
    "papermill": {
     "duration": 0.027859,
     "end_time": "2022-06-27T04:55:23.638783",
     "exception": false,
     "start_time": "2022-06-27T04:55:23.610924",
     "status": "completed"
    },
    "tags": []
   },
   "outputs": [
    {
     "data": {
      "text/plain": [
       "Index(['报价编号', '距离km', '车型', '起始城市', '起始城市代码', '目的城市', '目的城市代码', '是否跨省运输',\n",
       "       '车长', '车宽', '车高', '标准载重', '车辆容积', '货物类型', '用车时间', '货物特性', '运输要求',\n",
       "       '是否有要求', '备注', '是否有备注', '车价', '油价', '耗油价', '柴油价', '柴油耗油价',\n",
       "       'translation', 'year', 'month', 'day', '备注_tfidf_0', '备注_tfidf_1',\n",
       "       '备注_tfidf_2', '备注_tfidf_3', '备注_tfidf_4', '备注_tfidf_5', '备注_tfidf_6',\n",
       "       '备注_tfidf_7', '备注_tfidf_8', '备注_tfidf_9', '备注_tfidf_10', '备注_tfidf_11',\n",
       "       '运输要求_tfidf_0', '运输要求_tfidf_1', '运输要求_tfidf_2', '运输要求_tfidf_3',\n",
       "       '运输要求_tfidf_4', '运输要求_tfidf_5', '运输要求_tfidf_6', '运输要求_tfidf_7',\n",
       "       '运输要求_tfidf_8', '运输要求_tfidf_9', '运输要求_tfidf_10', '运输要求_tfidf_11',\n",
       "       '到达区域', '起始区域', '汽油', '柴油', '汽油_涨跌', '柴油_涨跌', '距离km*车长', '距离km*车宽',\n",
       "       '距离km*车高', '距离km*标准载重', '距离km*车辆容积', '距离km*货物类型', '距离km*起始区域',\n",
       "       '距离km*到达区域', '距离km*month', '距离km*year', '距离km*day', '距离km*汽油',\n",
       "       '距离km*柴油', '距离km*汽油_涨跌', '距离km*柴油_涨跌'],\n",
       "      dtype='object')"
      ]
     },
     "execution_count": 23,
     "metadata": {},
     "output_type": "execute_result"
    }
   ],
   "source": [
    "df.columns"
   ]
  },
  {
   "cell_type": "markdown",
   "id": "8654d65c",
   "metadata": {
    "papermill": {
     "duration": 0.019868,
     "end_time": "2022-06-27T04:55:23.677077",
     "exception": false,
     "start_time": "2022-06-27T04:55:23.657209",
     "status": "completed"
    },
    "tags": []
   },
   "source": [
    "## 统计特征"
   ]
  },
  {
   "cell_type": "code",
   "execution_count": 24,
   "id": "dc35f70d",
   "metadata": {
    "execution": {
     "iopub.execute_input": "2022-06-27T04:55:23.715244Z",
     "iopub.status.busy": "2022-06-27T04:55:23.714666Z",
     "iopub.status.idle": "2022-06-27T04:55:23.721528Z",
     "shell.execute_reply": "2022-06-27T04:55:23.720620Z"
    },
    "papermill": {
     "duration": 0.027869,
     "end_time": "2022-06-27T04:55:23.723368",
     "exception": false,
     "start_time": "2022-06-27T04:55:23.695499",
     "status": "completed"
    },
    "tags": []
   },
   "outputs": [
    {
     "data": {
      "text/plain": [
       "0    2055\n",
       "2     460\n",
       "1     414\n",
       "Name: 货物类型, dtype: int64"
      ]
     },
     "execution_count": 24,
     "metadata": {},
     "output_type": "execute_result"
    }
   ],
   "source": [
    "df['货物类型'].value_counts()"
   ]
  },
  {
   "cell_type": "code",
   "execution_count": 25,
   "id": "7253cf01",
   "metadata": {
    "execution": {
     "iopub.execute_input": "2022-06-27T04:55:23.761223Z",
     "iopub.status.busy": "2022-06-27T04:55:23.760623Z",
     "iopub.status.idle": "2022-06-27T04:55:23.766328Z",
     "shell.execute_reply": "2022-06-27T04:55:23.765360Z"
    },
    "papermill": {
     "duration": 0.026576,
     "end_time": "2022-06-27T04:55:23.768167",
     "exception": false,
     "start_time": "2022-06-27T04:55:23.741591",
     "status": "completed"
    },
    "tags": []
   },
   "outputs": [
    {
     "data": {
      "text/plain": [
       "Index(['报价编号', '距离km', '车型', '起始城市', '起始城市代码', '目的城市', '目的城市代码', '是否跨省运输',\n",
       "       '车长', '车宽', '车高', '标准载重', '车辆容积', '货物类型', '用车时间', '货物特性', '运输要求',\n",
       "       '是否有要求', '备注', '是否有备注', '车价', '油价', '耗油价', '柴油价', '柴油耗油价',\n",
       "       'translation', 'year', 'month', 'day', '备注_tfidf_0', '备注_tfidf_1',\n",
       "       '备注_tfidf_2', '备注_tfidf_3', '备注_tfidf_4', '备注_tfidf_5', '备注_tfidf_6',\n",
       "       '备注_tfidf_7', '备注_tfidf_8', '备注_tfidf_9', '备注_tfidf_10', '备注_tfidf_11',\n",
       "       '运输要求_tfidf_0', '运输要求_tfidf_1', '运输要求_tfidf_2', '运输要求_tfidf_3',\n",
       "       '运输要求_tfidf_4', '运输要求_tfidf_5', '运输要求_tfidf_6', '运输要求_tfidf_7',\n",
       "       '运输要求_tfidf_8', '运输要求_tfidf_9', '运输要求_tfidf_10', '运输要求_tfidf_11',\n",
       "       '到达区域', '起始区域', '汽油', '柴油', '汽油_涨跌', '柴油_涨跌', '距离km*车长', '距离km*车宽',\n",
       "       '距离km*车高', '距离km*标准载重', '距离km*车辆容积', '距离km*货物类型', '距离km*起始区域',\n",
       "       '距离km*到达区域', '距离km*month', '距离km*year', '距离km*day', '距离km*汽油',\n",
       "       '距离km*柴油', '距离km*汽油_涨跌', '距离km*柴油_涨跌'],\n",
       "      dtype='object')"
      ]
     },
     "execution_count": 25,
     "metadata": {},
     "output_type": "execute_result"
    }
   ],
   "source": [
    "df.columns"
   ]
  },
  {
   "cell_type": "code",
   "execution_count": 26,
   "id": "66df19b4",
   "metadata": {
    "execution": {
     "iopub.execute_input": "2022-06-27T04:55:23.806405Z",
     "iopub.status.busy": "2022-06-27T04:55:23.805976Z",
     "iopub.status.idle": "2022-06-27T04:55:23.873672Z",
     "shell.execute_reply": "2022-06-27T04:55:23.872550Z"
    },
    "papermill": {
     "duration": 0.089717,
     "end_time": "2022-06-27T04:55:23.875942",
     "exception": false,
     "start_time": "2022-06-27T04:55:23.786225",
     "status": "completed"
    },
    "tags": []
   },
   "outputs": [],
   "source": [
    "number_col = ['距离km', '油价', '耗油价', '柴油价', '柴油耗油价', '汽油', '柴油',] # '货物类型', \n",
    "group =  '车型'\n",
    "data_sum = df.groupby(group)[number_col].sum().reset_index()\n",
    "data_sum.columns = [group]+[group+'_'+i+'_sum' for i in number_col]\n",
    "data_mean = df.groupby(group)[number_col].mean().reset_index()\n",
    "data_mean.columns = [group]+[group+'_'+i+'_mean' for i in number_col]\n",
    "data_std = df.groupby(group)[number_col].std().reset_index()\n",
    "data_std.columns = [group]+[group+'_'+i+'_std' for i in number_col]\n",
    "\n",
    "data_max = df.groupby(group)[number_col].max().reset_index()\n",
    "data_max.columns = [group]+[group+'_'+i+'_max' for i in number_col]\n",
    "\n",
    "data_min = df.groupby(group)[number_col].min().reset_index()\n",
    "data_min.columns = [group]+[group+'_'+i+'_min' for i in number_col]\n",
    "df = df.merge(data_sum,how='left',on = group)\n",
    "df = df.merge(data_mean,how='left',on = group)\n",
    "df = df.merge(data_std,how='left',on = group)\n",
    "df = df.merge(data_max,how='left',on = group)\n",
    "df = df.merge(data_min,how='left',on = group)"
   ]
  },
  {
   "cell_type": "code",
   "execution_count": 27,
   "id": "c184e274",
   "metadata": {
    "collapsed": true,
    "execution": {
     "iopub.execute_input": "2022-06-27T04:55:23.917406Z",
     "iopub.status.busy": "2022-06-27T04:55:23.916753Z",
     "iopub.status.idle": "2022-06-27T04:55:23.945530Z",
     "shell.execute_reply": "2022-06-27T04:55:23.943889Z"
    },
    "jupyter": {
     "outputs_hidden": true
    },
    "papermill": {
     "duration": 0.053562,
     "end_time": "2022-06-27T04:55:23.949189",
     "exception": false,
     "start_time": "2022-06-27T04:55:23.895627",
     "status": "completed"
    },
    "tags": []
   },
   "outputs": [
    {
     "data": {
      "text/html": [
       "<div>\n",
       "<style scoped>\n",
       "    .dataframe tbody tr th:only-of-type {\n",
       "        vertical-align: middle;\n",
       "    }\n",
       "\n",
       "    .dataframe tbody tr th {\n",
       "        vertical-align: top;\n",
       "    }\n",
       "\n",
       "    .dataframe thead th {\n",
       "        text-align: right;\n",
       "    }\n",
       "</style>\n",
       "<table border=\"1\" class=\"dataframe\">\n",
       "  <thead>\n",
       "    <tr style=\"text-align: right;\">\n",
       "      <th></th>\n",
       "      <th>报价编号</th>\n",
       "      <th>距离km</th>\n",
       "      <th>车型</th>\n",
       "      <th>起始城市</th>\n",
       "      <th>起始城市代码</th>\n",
       "      <th>目的城市</th>\n",
       "      <th>目的城市代码</th>\n",
       "      <th>是否跨省运输</th>\n",
       "      <th>车长</th>\n",
       "      <th>车宽</th>\n",
       "      <th>...</th>\n",
       "      <th>车型_柴油耗油价_max</th>\n",
       "      <th>车型_汽油_max</th>\n",
       "      <th>车型_柴油_max</th>\n",
       "      <th>车型_距离km_min</th>\n",
       "      <th>车型_油价_min</th>\n",
       "      <th>车型_耗油价_min</th>\n",
       "      <th>车型_柴油价_min</th>\n",
       "      <th>车型_柴油耗油价_min</th>\n",
       "      <th>车型_汽油_min</th>\n",
       "      <th>车型_柴油_min</th>\n",
       "    </tr>\n",
       "  </thead>\n",
       "  <tbody>\n",
       "    <tr>\n",
       "      <th>0</th>\n",
       "      <td>2702</td>\n",
       "      <td>6.328258</td>\n",
       "      <td>28</td>\n",
       "      <td>146</td>\n",
       "      <td>33</td>\n",
       "      <td>543</td>\n",
       "      <td>610.0</td>\n",
       "      <td>0.0</td>\n",
       "      <td>1.029619</td>\n",
       "      <td>0.605904</td>\n",
       "      <td>...</td>\n",
       "      <td>9.324230</td>\n",
       "      <td>10115.0</td>\n",
       "      <td>9040</td>\n",
       "      <td>1.532557</td>\n",
       "      <td>4.935912</td>\n",
       "      <td>6.288305</td>\n",
       "      <td>2.050913</td>\n",
       "      <td>3.276488</td>\n",
       "      <td>7910.0</td>\n",
       "      <td>6915</td>\n",
       "    </tr>\n",
       "    <tr>\n",
       "      <th>1</th>\n",
       "      <td>1128</td>\n",
       "      <td>4.222005</td>\n",
       "      <td>22</td>\n",
       "      <td>138</td>\n",
       "      <td>28</td>\n",
       "      <td>511</td>\n",
       "      <td>500.0</td>\n",
       "      <td>0.0</td>\n",
       "      <td>2.151762</td>\n",
       "      <td>0.785691</td>\n",
       "      <td>...</td>\n",
       "      <td>9.901387</td>\n",
       "      <td>10115.0</td>\n",
       "      <td>9040</td>\n",
       "      <td>1.800058</td>\n",
       "      <td>4.935912</td>\n",
       "      <td>6.575905</td>\n",
       "      <td>2.050913</td>\n",
       "      <td>3.717777</td>\n",
       "      <td>7910.0</td>\n",
       "      <td>6915</td>\n",
       "    </tr>\n",
       "    <tr>\n",
       "      <th>2</th>\n",
       "      <td>1405</td>\n",
       "      <td>6.308226</td>\n",
       "      <td>14</td>\n",
       "      <td>94</td>\n",
       "      <td>18</td>\n",
       "      <td>398</td>\n",
       "      <td>340.0</td>\n",
       "      <td>1.0</td>\n",
       "      <td>1.648659</td>\n",
       "      <td>0.707848</td>\n",
       "      <td>...</td>\n",
       "      <td>10.192611</td>\n",
       "      <td>10115.0</td>\n",
       "      <td>9040</td>\n",
       "      <td>1.175573</td>\n",
       "      <td>4.935912</td>\n",
       "      <td>5.760516</td>\n",
       "      <td>2.050913</td>\n",
       "      <td>2.783529</td>\n",
       "      <td>7910.0</td>\n",
       "      <td>6915</td>\n",
       "    </tr>\n",
       "    <tr>\n",
       "      <th>3</th>\n",
       "      <td>2779</td>\n",
       "      <td>5.579541</td>\n",
       "      <td>7</td>\n",
       "      <td>118</td>\n",
       "      <td>15</td>\n",
       "      <td>378</td>\n",
       "      <td>350.0</td>\n",
       "      <td>0.0</td>\n",
       "      <td>2.862201</td>\n",
       "      <td>0.812157</td>\n",
       "      <td>...</td>\n",
       "      <td>10.090776</td>\n",
       "      <td>10115.0</td>\n",
       "      <td>9040</td>\n",
       "      <td>2.678965</td>\n",
       "      <td>4.935912</td>\n",
       "      <td>7.575406</td>\n",
       "      <td>2.050913</td>\n",
       "      <td>4.564244</td>\n",
       "      <td>7910.0</td>\n",
       "      <td>6915</td>\n",
       "    </tr>\n",
       "    <tr>\n",
       "      <th>4</th>\n",
       "      <td>2146</td>\n",
       "      <td>5.175980</td>\n",
       "      <td>30</td>\n",
       "      <td>1</td>\n",
       "      <td>10</td>\n",
       "      <td>338</td>\n",
       "      <td>330.0</td>\n",
       "      <td>1.0</td>\n",
       "      <td>1.193922</td>\n",
       "      <td>0.670652</td>\n",
       "      <td>...</td>\n",
       "      <td>10.028285</td>\n",
       "      <td>10115.0</td>\n",
       "      <td>9040</td>\n",
       "      <td>0.000000</td>\n",
       "      <td>4.935912</td>\n",
       "      <td>0.000000</td>\n",
       "      <td>2.050913</td>\n",
       "      <td>0.000000</td>\n",
       "      <td>7910.0</td>\n",
       "      <td>6915</td>\n",
       "    </tr>\n",
       "    <tr>\n",
       "      <th>...</th>\n",
       "      <td>...</td>\n",
       "      <td>...</td>\n",
       "      <td>...</td>\n",
       "      <td>...</td>\n",
       "      <td>...</td>\n",
       "      <td>...</td>\n",
       "      <td>...</td>\n",
       "      <td>...</td>\n",
       "      <td>...</td>\n",
       "      <td>...</td>\n",
       "      <td>...</td>\n",
       "      <td>...</td>\n",
       "      <td>...</td>\n",
       "      <td>...</td>\n",
       "      <td>...</td>\n",
       "      <td>...</td>\n",
       "      <td>...</td>\n",
       "      <td>...</td>\n",
       "      <td>...</td>\n",
       "      <td>...</td>\n",
       "      <td>...</td>\n",
       "    </tr>\n",
       "    <tr>\n",
       "      <th>2924</th>\n",
       "      <td>2418</td>\n",
       "      <td>1.644805</td>\n",
       "      <td>15</td>\n",
       "      <td>66</td>\n",
       "      <td>29</td>\n",
       "      <td>87</td>\n",
       "      <td>510.0</td>\n",
       "      <td>0.0</td>\n",
       "      <td>1.648659</td>\n",
       "      <td>0.799206</td>\n",
       "      <td>...</td>\n",
       "      <td>9.334923</td>\n",
       "      <td>10115.0</td>\n",
       "      <td>9040</td>\n",
       "      <td>1.644805</td>\n",
       "      <td>4.935912</td>\n",
       "      <td>6.425083</td>\n",
       "      <td>2.078191</td>\n",
       "      <td>3.646165</td>\n",
       "      <td>7910.0</td>\n",
       "      <td>6915</td>\n",
       "    </tr>\n",
       "    <tr>\n",
       "      <th>2925</th>\n",
       "      <td>2739</td>\n",
       "      <td>2.862201</td>\n",
       "      <td>14</td>\n",
       "      <td>53</td>\n",
       "      <td>18</td>\n",
       "      <td>175</td>\n",
       "      <td>370.0</td>\n",
       "      <td>0.0</td>\n",
       "      <td>1.648659</td>\n",
       "      <td>0.707848</td>\n",
       "      <td>...</td>\n",
       "      <td>10.192611</td>\n",
       "      <td>10115.0</td>\n",
       "      <td>9040</td>\n",
       "      <td>1.175573</td>\n",
       "      <td>4.935912</td>\n",
       "      <td>5.760516</td>\n",
       "      <td>2.050913</td>\n",
       "      <td>2.783529</td>\n",
       "      <td>7910.0</td>\n",
       "      <td>6915</td>\n",
       "    </tr>\n",
       "    <tr>\n",
       "      <th>2926</th>\n",
       "      <td>399</td>\n",
       "      <td>4.083115</td>\n",
       "      <td>19</td>\n",
       "      <td>81</td>\n",
       "      <td>13</td>\n",
       "      <td>304</td>\n",
       "      <td>330.0</td>\n",
       "      <td>0.0</td>\n",
       "      <td>2.054124</td>\n",
       "      <td>0.785691</td>\n",
       "      <td>...</td>\n",
       "      <td>10.106432</td>\n",
       "      <td>10115.0</td>\n",
       "      <td>9040</td>\n",
       "      <td>2.913980</td>\n",
       "      <td>4.935912</td>\n",
       "      <td>7.813720</td>\n",
       "      <td>2.050913</td>\n",
       "      <td>4.890356</td>\n",
       "      <td>7910.0</td>\n",
       "      <td>6915</td>\n",
       "    </tr>\n",
       "    <tr>\n",
       "      <th>2927</th>\n",
       "      <td>840</td>\n",
       "      <td>7.511732</td>\n",
       "      <td>14</td>\n",
       "      <td>94</td>\n",
       "      <td>18</td>\n",
       "      <td>399</td>\n",
       "      <td>440.0</td>\n",
       "      <td>1.0</td>\n",
       "      <td>1.648659</td>\n",
       "      <td>0.707848</td>\n",
       "      <td>...</td>\n",
       "      <td>10.192611</td>\n",
       "      <td>10115.0</td>\n",
       "      <td>9040</td>\n",
       "      <td>1.175573</td>\n",
       "      <td>4.935912</td>\n",
       "      <td>5.760516</td>\n",
       "      <td>2.050913</td>\n",
       "      <td>2.783529</td>\n",
       "      <td>7910.0</td>\n",
       "      <td>6915</td>\n",
       "    </tr>\n",
       "    <tr>\n",
       "      <th>2928</th>\n",
       "      <td>52</td>\n",
       "      <td>4.333361</td>\n",
       "      <td>9</td>\n",
       "      <td>4</td>\n",
       "      <td>13</td>\n",
       "      <td>253</td>\n",
       "      <td>320.0</td>\n",
       "      <td>1.0</td>\n",
       "      <td>2.917771</td>\n",
       "      <td>0.812157</td>\n",
       "      <td>...</td>\n",
       "      <td>10.240574</td>\n",
       "      <td>10115.0</td>\n",
       "      <td>9040</td>\n",
       "      <td>0.000000</td>\n",
       "      <td>4.935912</td>\n",
       "      <td>0.000000</td>\n",
       "      <td>2.050913</td>\n",
       "      <td>0.000000</td>\n",
       "      <td>7910.0</td>\n",
       "      <td>6915</td>\n",
       "    </tr>\n",
       "  </tbody>\n",
       "</table>\n",
       "<p>2929 rows × 109 columns</p>\n",
       "</div>"
      ],
      "text/plain": [
       "      报价编号      距离km  车型  起始城市  起始城市代码  目的城市  目的城市代码  是否跨省运输        车长  \\\n",
       "0     2702  6.328258  28   146      33   543   610.0     0.0  1.029619   \n",
       "1     1128  4.222005  22   138      28   511   500.0     0.0  2.151762   \n",
       "2     1405  6.308226  14    94      18   398   340.0     1.0  1.648659   \n",
       "3     2779  5.579541   7   118      15   378   350.0     0.0  2.862201   \n",
       "4     2146  5.175980  30     1      10   338   330.0     1.0  1.193922   \n",
       "...    ...       ...  ..   ...     ...   ...     ...     ...       ...   \n",
       "2924  2418  1.644805  15    66      29    87   510.0     0.0  1.648659   \n",
       "2925  2739  2.862201  14    53      18   175   370.0     0.0  1.648659   \n",
       "2926   399  4.083115  19    81      13   304   330.0     0.0  2.054124   \n",
       "2927   840  7.511732  14    94      18   399   440.0     1.0  1.648659   \n",
       "2928    52  4.333361   9     4      13   253   320.0     1.0  2.917771   \n",
       "\n",
       "            车宽  ...  车型_柴油耗油价_max  车型_汽油_max  车型_柴油_max  车型_距离km_min  \\\n",
       "0     0.605904  ...      9.324230    10115.0       9040     1.532557   \n",
       "1     0.785691  ...      9.901387    10115.0       9040     1.800058   \n",
       "2     0.707848  ...     10.192611    10115.0       9040     1.175573   \n",
       "3     0.812157  ...     10.090776    10115.0       9040     2.678965   \n",
       "4     0.670652  ...     10.028285    10115.0       9040     0.000000   \n",
       "...        ...  ...           ...        ...        ...          ...   \n",
       "2924  0.799206  ...      9.334923    10115.0       9040     1.644805   \n",
       "2925  0.707848  ...     10.192611    10115.0       9040     1.175573   \n",
       "2926  0.785691  ...     10.106432    10115.0       9040     2.913980   \n",
       "2927  0.707848  ...     10.192611    10115.0       9040     1.175573   \n",
       "2928  0.812157  ...     10.240574    10115.0       9040     0.000000   \n",
       "\n",
       "     车型_油价_min  车型_耗油价_min  车型_柴油价_min  车型_柴油耗油价_min  车型_汽油_min  车型_柴油_min  \n",
       "0     4.935912    6.288305    2.050913      3.276488     7910.0       6915  \n",
       "1     4.935912    6.575905    2.050913      3.717777     7910.0       6915  \n",
       "2     4.935912    5.760516    2.050913      2.783529     7910.0       6915  \n",
       "3     4.935912    7.575406    2.050913      4.564244     7910.0       6915  \n",
       "4     4.935912    0.000000    2.050913      0.000000     7910.0       6915  \n",
       "...        ...         ...         ...           ...        ...        ...  \n",
       "2924  4.935912    6.425083    2.078191      3.646165     7910.0       6915  \n",
       "2925  4.935912    5.760516    2.050913      2.783529     7910.0       6915  \n",
       "2926  4.935912    7.813720    2.050913      4.890356     7910.0       6915  \n",
       "2927  4.935912    5.760516    2.050913      2.783529     7910.0       6915  \n",
       "2928  4.935912    0.000000    2.050913      0.000000     7910.0       6915  \n",
       "\n",
       "[2929 rows x 109 columns]"
      ]
     },
     "execution_count": 27,
     "metadata": {},
     "output_type": "execute_result"
    }
   ],
   "source": [
    "df"
   ]
  },
  {
   "cell_type": "code",
   "execution_count": 28,
   "id": "80fb11a7",
   "metadata": {
    "execution": {
     "iopub.execute_input": "2022-06-27T04:55:23.991435Z",
     "iopub.status.busy": "2022-06-27T04:55:23.990870Z",
     "iopub.status.idle": "2022-06-27T04:55:24.053025Z",
     "shell.execute_reply": "2022-06-27T04:55:24.052307Z"
    },
    "papermill": {
     "duration": 0.086008,
     "end_time": "2022-06-27T04:55:24.055208",
     "exception": false,
     "start_time": "2022-06-27T04:55:23.969200",
     "status": "completed"
    },
    "tags": []
   },
   "outputs": [],
   "source": [
    "number_col = ['距离km', '油价', '耗油价', '柴油价', '柴油耗油价', '汽油', '柴油',] # '货物类型', \n",
    "group =  '货物类型'\n",
    "data_sum = df.groupby(group)[number_col].sum().reset_index()\n",
    "data_sum.columns = [group]+[group+'_'+i+'_sum' for i in number_col]\n",
    "data_mean = df.groupby(group)[number_col].mean().reset_index()\n",
    "data_mean.columns = [group]+[group+'_'+i+'_mean' for i in number_col]\n",
    "data_std = df.groupby(group)[number_col].std().reset_index()\n",
    "data_std.columns = [group]+[group+'_'+i+'_std' for i in number_col]\n",
    "\n",
    "data_max = df.groupby(group)[number_col].max().reset_index()\n",
    "data_max.columns = [group]+[group+'_'+i+'_max' for i in number_col]\n",
    "\n",
    "data_min = df.groupby(group)[number_col].min().reset_index()\n",
    "data_min.columns = [group]+[group+'_'+i+'_min' for i in number_col]\n",
    "df = df.merge(data_sum,how='left',on = group)\n",
    "df = df.merge(data_mean,how='left',on = group)\n",
    "df = df.merge(data_std,how='left',on = group)\n",
    "df = df.merge(data_max,how='left',on = group)\n",
    "df = df.merge(data_min,how='left',on = group)"
   ]
  },
  {
   "cell_type": "code",
   "execution_count": null,
   "id": "abe18242",
   "metadata": {
    "execution": {
     "iopub.execute_input": "2022-06-27T04:32:03.343717Z",
     "iopub.status.busy": "2022-06-27T04:32:03.343363Z",
     "iopub.status.idle": "2022-06-27T04:32:03.366680Z",
     "shell.execute_reply": "2022-06-27T04:32:03.365637Z",
     "shell.execute_reply.started": "2022-06-27T04:32:03.343693Z"
    },
    "papermill": {
     "duration": 0.017904,
     "end_time": "2022-06-27T04:55:24.093775",
     "exception": false,
     "start_time": "2022-06-27T04:55:24.075871",
     "status": "completed"
    },
    "tags": []
   },
   "outputs": [],
   "source": []
  },
  {
   "cell_type": "code",
   "execution_count": null,
   "id": "d02a9018",
   "metadata": {
    "execution": {
     "iopub.execute_input": "2022-06-27T04:32:10.783886Z",
     "iopub.status.busy": "2022-06-27T04:32:10.783226Z",
     "iopub.status.idle": "2022-06-27T04:32:10.843043Z",
     "shell.execute_reply": "2022-06-27T04:32:10.841779Z",
     "shell.execute_reply.started": "2022-06-27T04:32:10.783850Z"
    },
    "papermill": {
     "duration": 0.018692,
     "end_time": "2022-06-27T04:55:24.130477",
     "exception": false,
     "start_time": "2022-06-27T04:55:24.111785",
     "status": "completed"
    },
    "tags": []
   },
   "outputs": [],
   "source": []
  },
  {
   "cell_type": "code",
   "execution_count": 29,
   "id": "1887d489",
   "metadata": {
    "execution": {
     "iopub.execute_input": "2022-06-27T04:55:24.169514Z",
     "iopub.status.busy": "2022-06-27T04:55:24.168353Z",
     "iopub.status.idle": "2022-06-27T04:55:24.175441Z",
     "shell.execute_reply": "2022-06-27T04:55:24.174683Z"
    },
    "papermill": {
     "duration": 0.028654,
     "end_time": "2022-06-27T04:55:24.177591",
     "exception": false,
     "start_time": "2022-06-27T04:55:24.148937",
     "status": "completed"
    },
    "tags": []
   },
   "outputs": [
    {
     "data": {
      "text/plain": [
       "Index(['报价编号', '距离km', '车型', '起始城市', '起始城市代码', '目的城市', '目的城市代码', '是否跨省运输',\n",
       "       '车长', '车宽',\n",
       "       ...\n",
       "       '货物类型_柴油耗油价_max', '货物类型_汽油_max', '货物类型_柴油_max', '货物类型_距离km_min',\n",
       "       '货物类型_油价_min', '货物类型_耗油价_min', '货物类型_柴油价_min', '货物类型_柴油耗油价_min',\n",
       "       '货物类型_汽油_min', '货物类型_柴油_min'],\n",
       "      dtype='object', length=144)"
      ]
     },
     "execution_count": 29,
     "metadata": {},
     "output_type": "execute_result"
    }
   ],
   "source": [
    "df.columns"
   ]
  },
  {
   "cell_type": "code",
   "execution_count": 30,
   "id": "348b5a3f",
   "metadata": {
    "execution": {
     "iopub.execute_input": "2022-06-27T04:55:24.217345Z",
     "iopub.status.busy": "2022-06-27T04:55:24.216648Z",
     "iopub.status.idle": "2022-06-27T04:55:24.224211Z",
     "shell.execute_reply": "2022-06-27T04:55:24.223383Z"
    },
    "papermill": {
     "duration": 0.030673,
     "end_time": "2022-06-27T04:55:24.226968",
     "exception": false,
     "start_time": "2022-06-27T04:55:24.196295",
     "status": "completed"
    },
    "tags": []
   },
   "outputs": [],
   "source": [
    "# #定义交叉特征统计\n",
    "# from tqdm import tqdm\n",
    "# def cross_cat_num(df, num_col, cat_col):\n",
    "#     for f1 in tqdm(cat_col):\n",
    "#         g = df.groupby(f1, as_index=False)\n",
    "#         for f2 in tqdm(num_col):\n",
    "#             if f1==f2:\n",
    "#                 continue\n",
    "#             else:\n",
    "#                 feat = g[f2].agg({\n",
    "#                     '{}_{}_max'.format(f1, f2): 'max', '{}_{}_min'.format(f1, f2): 'min',\n",
    "#                     '{}_{}_median'.format(f1, f2): 'median',\n",
    "#                     '{}_{}_sum'.format(f1, f2): 'sum',\n",
    "#                     '{}_{}_mad'.format(f1, f2): 'mad',\n",
    "#                 })\n",
    "#                 df = df.merge(feat, on=f1, how='left')\n",
    "#     return(df)\n",
    "\n",
    "# #cross_cat = ['车型','货物类型','是否跨省运输', 'year']\n",
    "# cross_cat = [ '距离km', '车长', '标准载重', '车辆容积','起始区域','到达区域']\n",
    "# #cross_num = ['距离km', '车长', '车宽', '车高', '标准载重', '车辆容积']\n",
    "# cross_num =['汽油','chaiyou','标准载重', '车辆容积']\n",
    "# data2 = cross_cat_num(df, cross_num, cross_cat)  # 一阶交叉\n",
    "# data2.shape"
   ]
  },
  {
   "cell_type": "code",
   "execution_count": 31,
   "id": "103269b8",
   "metadata": {
    "execution": {
     "iopub.execute_input": "2022-06-27T04:55:24.277333Z",
     "iopub.status.busy": "2022-06-27T04:55:24.276409Z",
     "iopub.status.idle": "2022-06-27T04:55:24.299616Z",
     "shell.execute_reply": "2022-06-27T04:55:24.298624Z"
    },
    "papermill": {
     "duration": 0.051925,
     "end_time": "2022-06-27T04:55:24.303073",
     "exception": false,
     "start_time": "2022-06-27T04:55:24.251148",
     "status": "completed"
    },
    "tags": []
   },
   "outputs": [
    {
     "name": "stdout",
     "output_type": "stream",
     "text": [
      "<class 'pandas.core.frame.DataFrame'>\n",
      "Int64Index: 2929 entries, 0 to 2928\n",
      "Columns: 144 entries, 报价编号 to 货物类型_柴油_min\n",
      "dtypes: datetime64[ns](1), float64(121), int64(22)\n",
      "memory usage: 3.2 MB\n"
     ]
    }
   ],
   "source": [
    "df.info()"
   ]
  },
  {
   "cell_type": "code",
   "execution_count": 32,
   "id": "91da1e9a",
   "metadata": {
    "execution": {
     "iopub.execute_input": "2022-06-27T04:55:24.355847Z",
     "iopub.status.busy": "2022-06-27T04:55:24.355336Z",
     "iopub.status.idle": "2022-06-27T04:55:24.911331Z",
     "shell.execute_reply": "2022-06-27T04:55:24.910221Z"
    },
    "papermill": {
     "duration": 0.581375,
     "end_time": "2022-06-27T04:55:24.913860",
     "exception": false,
     "start_time": "2022-06-27T04:55:24.332485",
     "status": "completed"
    },
    "tags": []
   },
   "outputs": [],
   "source": [
    "train_data = df[:-300].copy()\n",
    "test_data = df[-300:].copy()\n",
    "\n",
    "# large_val_cols = ['汽油','柴油']\n",
    "# for c in large_val_cols:\n",
    "#     train_data[c] = np.log(train_data[c] + 1)\n",
    "# for c in large_val_cols:\n",
    "#     test_data[c] = np.log(test_data[c] + 1)\n",
    "    \n",
    "    \n",
    "# trd = pd.read_excel(data_path,sheet_name='训练集')\n",
    "# ted = pd.read_excel(data_path,sheet_name='测试集')\n",
    "\n",
    "# train_data['translation'] = trd['translation']\n",
    "# test_data['translation'] = ted['translation']\n",
    "    \n",
    "train_data.to_csv('./clear_train_jike_all_feature2.csv',index=0)\n",
    "test_data.to_csv('./clear_test_jike_all_feature2.csv', index=0)"
   ]
  },
  {
   "cell_type": "code",
   "execution_count": 33,
   "id": "0206d323",
   "metadata": {
    "execution": {
     "iopub.execute_input": "2022-06-27T04:55:24.953952Z",
     "iopub.status.busy": "2022-06-27T04:55:24.953582Z",
     "iopub.status.idle": "2022-06-27T04:55:24.958499Z",
     "shell.execute_reply": "2022-06-27T04:55:24.957635Z"
    },
    "papermill": {
     "duration": 0.027025,
     "end_time": "2022-06-27T04:55:24.960141",
     "exception": false,
     "start_time": "2022-06-27T04:55:24.933116",
     "status": "completed"
    },
    "tags": []
   },
   "outputs": [],
   "source": [
    "feats = [f for f in train_data.columns if f not in ['运输要求','day', '标准载重', '用车时间','货物特性', 'index','车价', \"是否跨省运输\",'报价编号',\n",
    "                                                    '起始城市代码','目的城市代码''城市代码','城市代码','translation','备注']]"
   ]
  },
  {
   "cell_type": "code",
   "execution_count": 34,
   "id": "5926a58d",
   "metadata": {
    "execution": {
     "iopub.execute_input": "2022-06-27T04:55:25.000059Z",
     "iopub.status.busy": "2022-06-27T04:55:24.999648Z",
     "iopub.status.idle": "2022-06-27T04:55:25.006535Z",
     "shell.execute_reply": "2022-06-27T04:55:25.005830Z"
    },
    "papermill": {
     "duration": 0.02923,
     "end_time": "2022-06-27T04:55:25.008436",
     "exception": false,
     "start_time": "2022-06-27T04:55:24.979206",
     "status": "completed"
    },
    "tags": []
   },
   "outputs": [
    {
     "data": {
      "text/plain": [
       "['距离km',\n",
       " '车型',\n",
       " '起始城市',\n",
       " '目的城市',\n",
       " '目的城市代码',\n",
       " '车长',\n",
       " '车宽',\n",
       " '车高',\n",
       " '车辆容积',\n",
       " '货物类型',\n",
       " '是否有要求',\n",
       " '是否有备注',\n",
       " '油价',\n",
       " '耗油价',\n",
       " '柴油价',\n",
       " '柴油耗油价',\n",
       " 'year',\n",
       " 'month',\n",
       " '备注_tfidf_0',\n",
       " '备注_tfidf_1',\n",
       " '备注_tfidf_2',\n",
       " '备注_tfidf_3',\n",
       " '备注_tfidf_4',\n",
       " '备注_tfidf_5',\n",
       " '备注_tfidf_6',\n",
       " '备注_tfidf_7',\n",
       " '备注_tfidf_8',\n",
       " '备注_tfidf_9',\n",
       " '备注_tfidf_10',\n",
       " '备注_tfidf_11',\n",
       " '运输要求_tfidf_0',\n",
       " '运输要求_tfidf_1',\n",
       " '运输要求_tfidf_2',\n",
       " '运输要求_tfidf_3',\n",
       " '运输要求_tfidf_4',\n",
       " '运输要求_tfidf_5',\n",
       " '运输要求_tfidf_6',\n",
       " '运输要求_tfidf_7',\n",
       " '运输要求_tfidf_8',\n",
       " '运输要求_tfidf_9',\n",
       " '运输要求_tfidf_10',\n",
       " '运输要求_tfidf_11',\n",
       " '到达区域',\n",
       " '起始区域',\n",
       " '汽油',\n",
       " '柴油',\n",
       " '汽油_涨跌',\n",
       " '柴油_涨跌',\n",
       " '距离km*车长',\n",
       " '距离km*车宽',\n",
       " '距离km*车高',\n",
       " '距离km*标准载重',\n",
       " '距离km*车辆容积',\n",
       " '距离km*货物类型',\n",
       " '距离km*起始区域',\n",
       " '距离km*到达区域',\n",
       " '距离km*month',\n",
       " '距离km*year',\n",
       " '距离km*day',\n",
       " '距离km*汽油',\n",
       " '距离km*柴油',\n",
       " '距离km*汽油_涨跌',\n",
       " '距离km*柴油_涨跌',\n",
       " '车型_距离km_sum',\n",
       " '车型_油价_sum',\n",
       " '车型_耗油价_sum',\n",
       " '车型_柴油价_sum',\n",
       " '车型_柴油耗油价_sum',\n",
       " '车型_汽油_sum',\n",
       " '车型_柴油_sum',\n",
       " '车型_距离km_mean',\n",
       " '车型_油价_mean',\n",
       " '车型_耗油价_mean',\n",
       " '车型_柴油价_mean',\n",
       " '车型_柴油耗油价_mean',\n",
       " '车型_汽油_mean',\n",
       " '车型_柴油_mean',\n",
       " '车型_距离km_std',\n",
       " '车型_油价_std',\n",
       " '车型_耗油价_std',\n",
       " '车型_柴油价_std',\n",
       " '车型_柴油耗油价_std',\n",
       " '车型_汽油_std',\n",
       " '车型_柴油_std',\n",
       " '车型_距离km_max',\n",
       " '车型_油价_max',\n",
       " '车型_耗油价_max',\n",
       " '车型_柴油价_max',\n",
       " '车型_柴油耗油价_max',\n",
       " '车型_汽油_max',\n",
       " '车型_柴油_max',\n",
       " '车型_距离km_min',\n",
       " '车型_油价_min',\n",
       " '车型_耗油价_min',\n",
       " '车型_柴油价_min',\n",
       " '车型_柴油耗油价_min',\n",
       " '车型_汽油_min',\n",
       " '车型_柴油_min',\n",
       " '货物类型_距离km_sum',\n",
       " '货物类型_油价_sum',\n",
       " '货物类型_耗油价_sum',\n",
       " '货物类型_柴油价_sum',\n",
       " '货物类型_柴油耗油价_sum',\n",
       " '货物类型_汽油_sum',\n",
       " '货物类型_柴油_sum',\n",
       " '货物类型_距离km_mean',\n",
       " '货物类型_油价_mean',\n",
       " '货物类型_耗油价_mean',\n",
       " '货物类型_柴油价_mean',\n",
       " '货物类型_柴油耗油价_mean',\n",
       " '货物类型_汽油_mean',\n",
       " '货物类型_柴油_mean',\n",
       " '货物类型_距离km_std',\n",
       " '货物类型_油价_std',\n",
       " '货物类型_耗油价_std',\n",
       " '货物类型_柴油价_std',\n",
       " '货物类型_柴油耗油价_std',\n",
       " '货物类型_汽油_std',\n",
       " '货物类型_柴油_std',\n",
       " '货物类型_距离km_max',\n",
       " '货物类型_油价_max',\n",
       " '货物类型_耗油价_max',\n",
       " '货物类型_柴油价_max',\n",
       " '货物类型_柴油耗油价_max',\n",
       " '货物类型_汽油_max',\n",
       " '货物类型_柴油_max',\n",
       " '货物类型_距离km_min',\n",
       " '货物类型_油价_min',\n",
       " '货物类型_耗油价_min',\n",
       " '货物类型_柴油价_min',\n",
       " '货物类型_柴油耗油价_min',\n",
       " '货物类型_汽油_min',\n",
       " '货物类型_柴油_min']"
      ]
     },
     "execution_count": 34,
     "metadata": {},
     "output_type": "execute_result"
    }
   ],
   "source": [
    "feats\n"
   ]
  },
  {
   "cell_type": "code",
   "execution_count": 35,
   "id": "20b90c19",
   "metadata": {
    "execution": {
     "iopub.execute_input": "2022-06-27T04:55:25.050530Z",
     "iopub.status.busy": "2022-06-27T04:55:25.049920Z",
     "iopub.status.idle": "2022-06-27T04:55:25.060095Z",
     "shell.execute_reply": "2022-06-27T04:55:25.059337Z"
    },
    "papermill": {
     "duration": 0.033308,
     "end_time": "2022-06-27T04:55:25.062243",
     "exception": false,
     "start_time": "2022-06-27T04:55:25.028935",
     "status": "completed"
    },
    "tags": []
   },
   "outputs": [],
   "source": [
    "for feat in df.columns:\n",
    "    if df[feat].dtype == object:\n",
    "        df[feat] = df[feat].astype('str')\n",
    "        print(feat)\n",
    "        le = LabelEncoder()\n",
    "        df[feat] = le.fit_transform(df[feat])\n",
    "train_data = df[:-300].copy()\n",
    "test_data = df[-300:].copy()\n"
   ]
  },
  {
   "cell_type": "code",
   "execution_count": 36,
   "id": "79d2db1b",
   "metadata": {
    "execution": {
     "iopub.execute_input": "2022-06-27T04:55:25.103876Z",
     "iopub.status.busy": "2022-06-27T04:55:25.102911Z",
     "iopub.status.idle": "2022-06-27T04:55:25.108733Z",
     "shell.execute_reply": "2022-06-27T04:55:25.108011Z"
    },
    "papermill": {
     "duration": 0.028097,
     "end_time": "2022-06-27T04:55:25.110707",
     "exception": false,
     "start_time": "2022-06-27T04:55:25.082610",
     "status": "completed"
    },
    "tags": []
   },
   "outputs": [],
   "source": [
    "params = {\n",
    "        'learning_rate':0.05,\n",
    "        \"objective\": \"regression\",\n",
    "        \"metric\": \"rmse\",\n",
    "        'boosting_type': \"gbdt\",\n",
    "        'verbosity': -1,\n",
    "        'n_jobs': -1, \n",
    "        'seed': 2022,\n",
    "        'lambda_l1': 6.610898817934583, \n",
    "        'lambda_l2': 1.2572931636397838e-07, \n",
    "        'num_leaves': 122, \n",
    "        'feature_fraction': 0.709347964783973, \n",
    "        'bagging_fraction': 0.9368697249173327, \n",
    "        'bagging_freq': 6, \n",
    "        'max_depth': 7, \n",
    "        'max_bin': 214, \n",
    "        'min_data_in_leaf': 450,\n",
    "        'n_estimators': 1000, \n",
    "    }\n",
    "    "
   ]
  },
  {
   "cell_type": "code",
   "execution_count": 37,
   "id": "1814c761",
   "metadata": {
    "execution": {
     "iopub.execute_input": "2022-06-27T04:55:25.152155Z",
     "iopub.status.busy": "2022-06-27T04:55:25.151107Z",
     "iopub.status.idle": "2022-06-27T04:55:25.157051Z",
     "shell.execute_reply": "2022-06-27T04:55:25.156296Z"
    },
    "papermill": {
     "duration": 0.027519,
     "end_time": "2022-06-27T04:55:25.158878",
     "exception": false,
     "start_time": "2022-06-27T04:55:25.131359",
     "status": "completed"
    },
    "tags": []
   },
   "outputs": [
    {
     "data": {
      "text/plain": [
       "Index(['报价编号', '距离km', '车型', '起始城市', '起始城市代码', '目的城市', '目的城市代码', '是否跨省运输',\n",
       "       '车长', '车宽',\n",
       "       ...\n",
       "       '货物类型_柴油耗油价_max', '货物类型_汽油_max', '货物类型_柴油_max', '货物类型_距离km_min',\n",
       "       '货物类型_油价_min', '货物类型_耗油价_min', '货物类型_柴油价_min', '货物类型_柴油耗油价_min',\n",
       "       '货物类型_汽油_min', '货物类型_柴油_min'],\n",
       "      dtype='object', length=144)"
      ]
     },
     "execution_count": 37,
     "metadata": {},
     "output_type": "execute_result"
    }
   ],
   "source": [
    "train_data.columns"
   ]
  },
  {
   "cell_type": "code",
   "execution_count": 38,
   "id": "c3d7e2d7",
   "metadata": {
    "execution": {
     "iopub.execute_input": "2022-06-27T04:55:25.199556Z",
     "iopub.status.busy": "2022-06-27T04:55:25.197933Z",
     "iopub.status.idle": "2022-06-27T04:55:25.205585Z",
     "shell.execute_reply": "2022-06-27T04:55:25.204702Z"
    },
    "papermill": {
     "duration": 0.029959,
     "end_time": "2022-06-27T04:55:25.207718",
     "exception": false,
     "start_time": "2022-06-27T04:55:25.177759",
     "status": "completed"
    },
    "tags": []
   },
   "outputs": [
    {
     "data": {
      "text/plain": [
       "0       0\n",
       "1       2\n",
       "2       2\n",
       "3       1\n",
       "4       1\n",
       "       ..\n",
       "2624    0\n",
       "2625    0\n",
       "2626    2\n",
       "2627    0\n",
       "2628    0\n",
       "Name: 货物类型, Length: 2629, dtype: int64"
      ]
     },
     "execution_count": 38,
     "metadata": {},
     "output_type": "execute_result"
    }
   ],
   "source": [
    "train_data['货物类型']"
   ]
  },
  {
   "cell_type": "code",
   "execution_count": 39,
   "id": "40253bb5",
   "metadata": {
    "execution": {
     "iopub.execute_input": "2022-06-27T04:55:25.251091Z",
     "iopub.status.busy": "2022-06-27T04:55:25.250169Z",
     "iopub.status.idle": "2022-06-27T04:55:25.401805Z",
     "shell.execute_reply": "2022-06-27T04:55:25.400793Z"
    },
    "papermill": {
     "duration": 0.175229,
     "end_time": "2022-06-27T04:55:25.404016",
     "exception": false,
     "start_time": "2022-06-27T04:55:25.228787",
     "status": "completed"
    },
    "tags": []
   },
   "outputs": [
    {
     "data": {
      "text/html": [
       "<div>\n",
       "<style scoped>\n",
       "    .dataframe tbody tr th:only-of-type {\n",
       "        vertical-align: middle;\n",
       "    }\n",
       "\n",
       "    .dataframe tbody tr th {\n",
       "        vertical-align: top;\n",
       "    }\n",
       "\n",
       "    .dataframe thead th {\n",
       "        text-align: right;\n",
       "    }\n",
       "</style>\n",
       "<table border=\"1\" class=\"dataframe\">\n",
       "  <thead>\n",
       "    <tr style=\"text-align: right;\">\n",
       "      <th></th>\n",
       "      <th>报价编号</th>\n",
       "      <th>距离km</th>\n",
       "      <th>车型</th>\n",
       "      <th>起始城市</th>\n",
       "      <th>起始城市代码</th>\n",
       "      <th>目的城市</th>\n",
       "      <th>目的城市代码</th>\n",
       "      <th>是否跨省运输</th>\n",
       "      <th>车长</th>\n",
       "      <th>车宽</th>\n",
       "      <th>...</th>\n",
       "      <th>货物类型_柴油耗油价_max</th>\n",
       "      <th>货物类型_汽油_max</th>\n",
       "      <th>货物类型_柴油_max</th>\n",
       "      <th>货物类型_距离km_min</th>\n",
       "      <th>货物类型_油价_min</th>\n",
       "      <th>货物类型_耗油价_min</th>\n",
       "      <th>货物类型_柴油价_min</th>\n",
       "      <th>货物类型_柴油耗油价_min</th>\n",
       "      <th>货物类型_汽油_min</th>\n",
       "      <th>货物类型_柴油_min</th>\n",
       "    </tr>\n",
       "  </thead>\n",
       "  <tbody>\n",
       "    <tr>\n",
       "      <th>0</th>\n",
       "      <td>2702</td>\n",
       "      <td>0.456903</td>\n",
       "      <td>1.423175</td>\n",
       "      <td>146</td>\n",
       "      <td>33</td>\n",
       "      <td>543</td>\n",
       "      <td>610.0</td>\n",
       "      <td>-1.420693</td>\n",
       "      <td>-1.723880</td>\n",
       "      <td>-2.086022</td>\n",
       "      <td>...</td>\n",
       "      <td>10.240574</td>\n",
       "      <td>10115.0</td>\n",
       "      <td>9040</td>\n",
       "      <td>0.000000</td>\n",
       "      <td>4.935912</td>\n",
       "      <td>0.000000</td>\n",
       "      <td>2.050913</td>\n",
       "      <td>0.000000</td>\n",
       "      <td>7910.0</td>\n",
       "      <td>6915</td>\n",
       "    </tr>\n",
       "    <tr>\n",
       "      <th>1</th>\n",
       "      <td>1128</td>\n",
       "      <td>-0.846174</td>\n",
       "      <td>0.670454</td>\n",
       "      <td>138</td>\n",
       "      <td>28</td>\n",
       "      <td>511</td>\n",
       "      <td>500.0</td>\n",
       "      <td>-1.420693</td>\n",
       "      <td>0.231832</td>\n",
       "      <td>0.601813</td>\n",
       "      <td>...</td>\n",
       "      <td>10.471416</td>\n",
       "      <td>10115.0</td>\n",
       "      <td>9040</td>\n",
       "      <td>0.000000</td>\n",
       "      <td>4.935912</td>\n",
       "      <td>0.000000</td>\n",
       "      <td>2.050913</td>\n",
       "      <td>0.000000</td>\n",
       "      <td>7910.0</td>\n",
       "      <td>6915</td>\n",
       "    </tr>\n",
       "    <tr>\n",
       "      <th>2</th>\n",
       "      <td>1405</td>\n",
       "      <td>0.444510</td>\n",
       "      <td>-0.333175</td>\n",
       "      <td>94</td>\n",
       "      <td>18</td>\n",
       "      <td>398</td>\n",
       "      <td>340.0</td>\n",
       "      <td>0.703882</td>\n",
       "      <td>-0.644996</td>\n",
       "      <td>-0.561947</td>\n",
       "      <td>...</td>\n",
       "      <td>10.471416</td>\n",
       "      <td>10115.0</td>\n",
       "      <td>9040</td>\n",
       "      <td>0.000000</td>\n",
       "      <td>4.935912</td>\n",
       "      <td>0.000000</td>\n",
       "      <td>2.050913</td>\n",
       "      <td>0.000000</td>\n",
       "      <td>7910.0</td>\n",
       "      <td>6915</td>\n",
       "    </tr>\n",
       "    <tr>\n",
       "      <th>3</th>\n",
       "      <td>2779</td>\n",
       "      <td>-0.006306</td>\n",
       "      <td>-1.211350</td>\n",
       "      <td>118</td>\n",
       "      <td>15</td>\n",
       "      <td>378</td>\n",
       "      <td>350.0</td>\n",
       "      <td>-1.420693</td>\n",
       "      <td>1.470010</td>\n",
       "      <td>0.997489</td>\n",
       "      <td>...</td>\n",
       "      <td>10.509044</td>\n",
       "      <td>10115.0</td>\n",
       "      <td>9040</td>\n",
       "      <td>1.289233</td>\n",
       "      <td>4.935912</td>\n",
       "      <td>5.950455</td>\n",
       "      <td>2.050913</td>\n",
       "      <td>2.964433</td>\n",
       "      <td>7910.0</td>\n",
       "      <td>6915</td>\n",
       "    </tr>\n",
       "    <tr>\n",
       "      <th>4</th>\n",
       "      <td>2146</td>\n",
       "      <td>-0.255977</td>\n",
       "      <td>1.674083</td>\n",
       "      <td>1</td>\n",
       "      <td>10</td>\n",
       "      <td>338</td>\n",
       "      <td>330.0</td>\n",
       "      <td>0.703882</td>\n",
       "      <td>-1.437526</td>\n",
       "      <td>-1.118040</td>\n",
       "      <td>...</td>\n",
       "      <td>10.509044</td>\n",
       "      <td>10115.0</td>\n",
       "      <td>9040</td>\n",
       "      <td>1.289233</td>\n",
       "      <td>4.935912</td>\n",
       "      <td>5.950455</td>\n",
       "      <td>2.050913</td>\n",
       "      <td>2.964433</td>\n",
       "      <td>7910.0</td>\n",
       "      <td>6915</td>\n",
       "    </tr>\n",
       "  </tbody>\n",
       "</table>\n",
       "<p>5 rows × 144 columns</p>\n",
       "</div>"
      ],
      "text/plain": [
       "   报价编号      距离km        车型  起始城市  起始城市代码  目的城市  目的城市代码    是否跨省运输        车长  \\\n",
       "0  2702  0.456903  1.423175   146      33   543   610.0 -1.420693 -1.723880   \n",
       "1  1128 -0.846174  0.670454   138      28   511   500.0 -1.420693  0.231832   \n",
       "2  1405  0.444510 -0.333175    94      18   398   340.0  0.703882 -0.644996   \n",
       "3  2779 -0.006306 -1.211350   118      15   378   350.0 -1.420693  1.470010   \n",
       "4  2146 -0.255977  1.674083     1      10   338   330.0  0.703882 -1.437526   \n",
       "\n",
       "         车宽  ...  货物类型_柴油耗油价_max  货物类型_汽油_max  货物类型_柴油_max  货物类型_距离km_min  \\\n",
       "0 -2.086022  ...       10.240574      10115.0         9040       0.000000   \n",
       "1  0.601813  ...       10.471416      10115.0         9040       0.000000   \n",
       "2 -0.561947  ...       10.471416      10115.0         9040       0.000000   \n",
       "3  0.997489  ...       10.509044      10115.0         9040       1.289233   \n",
       "4 -1.118040  ...       10.509044      10115.0         9040       1.289233   \n",
       "\n",
       "  货物类型_油价_min  货物类型_耗油价_min  货物类型_柴油价_min  货物类型_柴油耗油价_min  货物类型_汽油_min  \\\n",
       "0    4.935912      0.000000      2.050913        0.000000       7910.0   \n",
       "1    4.935912      0.000000      2.050913        0.000000       7910.0   \n",
       "2    4.935912      0.000000      2.050913        0.000000       7910.0   \n",
       "3    4.935912      5.950455      2.050913        2.964433       7910.0   \n",
       "4    4.935912      5.950455      2.050913        2.964433       7910.0   \n",
       "\n",
       "   货物类型_柴油_min  \n",
       "0         6915  \n",
       "1         6915  \n",
       "2         6915  \n",
       "3         6915  \n",
       "4         6915  \n",
       "\n",
       "[5 rows x 144 columns]"
      ]
     },
     "execution_count": 39,
     "metadata": {},
     "output_type": "execute_result"
    }
   ],
   "source": [
    "train_data= pd.read_csv('./clear_train_jike_all_feature2.csv')\n",
    "test_data= pd.read_csv('./clear_test_jike_all_feature2.csv')\n",
    "scaler = StandardScaler()\n",
    "feats = ['距离km','车型','车长', '车宽', '车高','是否跨省运输',\n",
    "         '标准载重', '车辆容积','油价', '耗油价', '柴油价', '柴油耗油价',\n",
    "        '备注_tfidf_0', '备注_tfidf_1',\n",
    "       '备注_tfidf_2', '备注_tfidf_3', '备注_tfidf_4', '备注_tfidf_5', '备注_tfidf_6',\n",
    "       '备注_tfidf_7', '备注_tfidf_8', '备注_tfidf_9', '备注_tfidf_10', '备注_tfidf_11',\n",
    "        '距离km*车长', '距离km*车宽','距离km*车高', '距离km*标准载重', '距离km*车辆容积', '距离km*货物类型', '距离km*起始区域',\n",
    "       '距离km*到达区域', '距离km*month', '距离km*year', '距离km*day', '距离km*汽油',\n",
    "       '距离km*柴油', '距离km*汽油_涨跌', '距离km*柴油_涨跌']\n",
    "\n",
    "train_data[feats] = scaler.fit_transform(train_data[feats])\n",
    "test_data[feats] = scaler.fit_transform(test_data[feats])\n",
    "train_data.head()"
   ]
  },
  {
   "cell_type": "code",
   "execution_count": 40,
   "id": "4ab91fa0",
   "metadata": {
    "execution": {
     "iopub.execute_input": "2022-06-27T04:55:25.446224Z",
     "iopub.status.busy": "2022-06-27T04:55:25.445816Z",
     "iopub.status.idle": "2022-06-27T04:55:25.484186Z",
     "shell.execute_reply": "2022-06-27T04:55:25.483025Z"
    },
    "papermill": {
     "duration": 0.062237,
     "end_time": "2022-06-27T04:55:25.486484",
     "exception": false,
     "start_time": "2022-06-27T04:55:25.424247",
     "status": "completed"
    },
    "tags": []
   },
   "outputs": [
    {
     "data": {
      "text/html": [
       "<div>\n",
       "<style scoped>\n",
       "    .dataframe tbody tr th:only-of-type {\n",
       "        vertical-align: middle;\n",
       "    }\n",
       "\n",
       "    .dataframe tbody tr th {\n",
       "        vertical-align: top;\n",
       "    }\n",
       "\n",
       "    .dataframe thead th {\n",
       "        text-align: right;\n",
       "    }\n",
       "</style>\n",
       "<table border=\"1\" class=\"dataframe\">\n",
       "  <thead>\n",
       "    <tr style=\"text-align: right;\">\n",
       "      <th></th>\n",
       "      <th>报价编号</th>\n",
       "      <th>距离km</th>\n",
       "      <th>车型</th>\n",
       "      <th>起始城市</th>\n",
       "      <th>起始城市代码</th>\n",
       "      <th>目的城市</th>\n",
       "      <th>目的城市代码</th>\n",
       "      <th>是否跨省运输</th>\n",
       "      <th>车长</th>\n",
       "      <th>车宽</th>\n",
       "      <th>...</th>\n",
       "      <th>货物类型_柴油耗油价_max</th>\n",
       "      <th>货物类型_汽油_max</th>\n",
       "      <th>货物类型_柴油_max</th>\n",
       "      <th>货物类型_距离km_min</th>\n",
       "      <th>货物类型_油价_min</th>\n",
       "      <th>货物类型_耗油价_min</th>\n",
       "      <th>货物类型_柴油价_min</th>\n",
       "      <th>货物类型_柴油耗油价_min</th>\n",
       "      <th>货物类型_汽油_min</th>\n",
       "      <th>货物类型_柴油_min</th>\n",
       "    </tr>\n",
       "  </thead>\n",
       "  <tbody>\n",
       "    <tr>\n",
       "      <th>0</th>\n",
       "      <td>2702</td>\n",
       "      <td>0.456903</td>\n",
       "      <td>1.423175</td>\n",
       "      <td>146</td>\n",
       "      <td>33</td>\n",
       "      <td>543</td>\n",
       "      <td>610.0</td>\n",
       "      <td>-1.420693</td>\n",
       "      <td>-1.723880</td>\n",
       "      <td>-2.086022</td>\n",
       "      <td>...</td>\n",
       "      <td>10.240574</td>\n",
       "      <td>10115.0</td>\n",
       "      <td>9040</td>\n",
       "      <td>0.000000</td>\n",
       "      <td>4.935912</td>\n",
       "      <td>0.000000</td>\n",
       "      <td>2.050913</td>\n",
       "      <td>0.000000</td>\n",
       "      <td>7910.0</td>\n",
       "      <td>6915</td>\n",
       "    </tr>\n",
       "    <tr>\n",
       "      <th>1</th>\n",
       "      <td>1128</td>\n",
       "      <td>-0.846174</td>\n",
       "      <td>0.670454</td>\n",
       "      <td>138</td>\n",
       "      <td>28</td>\n",
       "      <td>511</td>\n",
       "      <td>500.0</td>\n",
       "      <td>-1.420693</td>\n",
       "      <td>0.231832</td>\n",
       "      <td>0.601813</td>\n",
       "      <td>...</td>\n",
       "      <td>10.471416</td>\n",
       "      <td>10115.0</td>\n",
       "      <td>9040</td>\n",
       "      <td>0.000000</td>\n",
       "      <td>4.935912</td>\n",
       "      <td>0.000000</td>\n",
       "      <td>2.050913</td>\n",
       "      <td>0.000000</td>\n",
       "      <td>7910.0</td>\n",
       "      <td>6915</td>\n",
       "    </tr>\n",
       "    <tr>\n",
       "      <th>2</th>\n",
       "      <td>1405</td>\n",
       "      <td>0.444510</td>\n",
       "      <td>-0.333175</td>\n",
       "      <td>94</td>\n",
       "      <td>18</td>\n",
       "      <td>398</td>\n",
       "      <td>340.0</td>\n",
       "      <td>0.703882</td>\n",
       "      <td>-0.644996</td>\n",
       "      <td>-0.561947</td>\n",
       "      <td>...</td>\n",
       "      <td>10.471416</td>\n",
       "      <td>10115.0</td>\n",
       "      <td>9040</td>\n",
       "      <td>0.000000</td>\n",
       "      <td>4.935912</td>\n",
       "      <td>0.000000</td>\n",
       "      <td>2.050913</td>\n",
       "      <td>0.000000</td>\n",
       "      <td>7910.0</td>\n",
       "      <td>6915</td>\n",
       "    </tr>\n",
       "    <tr>\n",
       "      <th>3</th>\n",
       "      <td>2779</td>\n",
       "      <td>-0.006306</td>\n",
       "      <td>-1.211350</td>\n",
       "      <td>118</td>\n",
       "      <td>15</td>\n",
       "      <td>378</td>\n",
       "      <td>350.0</td>\n",
       "      <td>-1.420693</td>\n",
       "      <td>1.470010</td>\n",
       "      <td>0.997489</td>\n",
       "      <td>...</td>\n",
       "      <td>10.509044</td>\n",
       "      <td>10115.0</td>\n",
       "      <td>9040</td>\n",
       "      <td>1.289233</td>\n",
       "      <td>4.935912</td>\n",
       "      <td>5.950455</td>\n",
       "      <td>2.050913</td>\n",
       "      <td>2.964433</td>\n",
       "      <td>7910.0</td>\n",
       "      <td>6915</td>\n",
       "    </tr>\n",
       "    <tr>\n",
       "      <th>4</th>\n",
       "      <td>2146</td>\n",
       "      <td>-0.255977</td>\n",
       "      <td>1.674083</td>\n",
       "      <td>1</td>\n",
       "      <td>10</td>\n",
       "      <td>338</td>\n",
       "      <td>330.0</td>\n",
       "      <td>0.703882</td>\n",
       "      <td>-1.437526</td>\n",
       "      <td>-1.118040</td>\n",
       "      <td>...</td>\n",
       "      <td>10.509044</td>\n",
       "      <td>10115.0</td>\n",
       "      <td>9040</td>\n",
       "      <td>1.289233</td>\n",
       "      <td>4.935912</td>\n",
       "      <td>5.950455</td>\n",
       "      <td>2.050913</td>\n",
       "      <td>2.964433</td>\n",
       "      <td>7910.0</td>\n",
       "      <td>6915</td>\n",
       "    </tr>\n",
       "  </tbody>\n",
       "</table>\n",
       "<p>5 rows × 144 columns</p>\n",
       "</div>"
      ],
      "text/plain": [
       "   报价编号      距离km        车型  起始城市  起始城市代码  目的城市  目的城市代码    是否跨省运输        车长  \\\n",
       "0  2702  0.456903  1.423175   146      33   543   610.0 -1.420693 -1.723880   \n",
       "1  1128 -0.846174  0.670454   138      28   511   500.0 -1.420693  0.231832   \n",
       "2  1405  0.444510 -0.333175    94      18   398   340.0  0.703882 -0.644996   \n",
       "3  2779 -0.006306 -1.211350   118      15   378   350.0 -1.420693  1.470010   \n",
       "4  2146 -0.255977  1.674083     1      10   338   330.0  0.703882 -1.437526   \n",
       "\n",
       "         车宽  ...  货物类型_柴油耗油价_max  货物类型_汽油_max  货物类型_柴油_max  货物类型_距离km_min  \\\n",
       "0 -2.086022  ...       10.240574      10115.0         9040       0.000000   \n",
       "1  0.601813  ...       10.471416      10115.0         9040       0.000000   \n",
       "2 -0.561947  ...       10.471416      10115.0         9040       0.000000   \n",
       "3  0.997489  ...       10.509044      10115.0         9040       1.289233   \n",
       "4 -1.118040  ...       10.509044      10115.0         9040       1.289233   \n",
       "\n",
       "  货物类型_油价_min  货物类型_耗油价_min  货物类型_柴油价_min  货物类型_柴油耗油价_min  货物类型_汽油_min  \\\n",
       "0    4.935912      0.000000      2.050913        0.000000       7910.0   \n",
       "1    4.935912      0.000000      2.050913        0.000000       7910.0   \n",
       "2    4.935912      0.000000      2.050913        0.000000       7910.0   \n",
       "3    4.935912      5.950455      2.050913        2.964433       7910.0   \n",
       "4    4.935912      5.950455      2.050913        2.964433       7910.0   \n",
       "\n",
       "   货物类型_柴油_min  \n",
       "0         6915  \n",
       "1         6915  \n",
       "2         6915  \n",
       "3         6915  \n",
       "4         6915  \n",
       "\n",
       "[5 rows x 144 columns]"
      ]
     },
     "execution_count": 40,
     "metadata": {},
     "output_type": "execute_result"
    }
   ],
   "source": [
    "\n",
    "scaler = StandardScaler()\n",
    "\n",
    "\n",
    "train_data[feats] = scaler.fit_transform(train_data[feats])\n",
    "test_data[feats] = scaler.fit_transform(test_data[feats])\n",
    "train_data.head()"
   ]
  },
  {
   "cell_type": "code",
   "execution_count": 41,
   "id": "f03e5572",
   "metadata": {
    "execution": {
     "iopub.execute_input": "2022-06-27T04:55:25.529793Z",
     "iopub.status.busy": "2022-06-27T04:55:25.529399Z",
     "iopub.status.idle": "2022-06-27T04:55:27.697942Z",
     "shell.execute_reply": "2022-06-27T04:55:27.697217Z"
    },
    "papermill": {
     "duration": 2.192565,
     "end_time": "2022-06-27T04:55:27.699722",
     "exception": false,
     "start_time": "2022-06-27T04:55:25.507157",
     "status": "completed"
    },
    "tags": []
   },
   "outputs": [
    {
     "name": "stdout",
     "output_type": "stream",
     "text": [
      "----------- 0\n",
      "Training until validation scores don't improve for 100 rounds\n",
      "[200]\tvalid_0's rmse: 0.408841\n",
      "[400]\tvalid_0's rmse: 0.400407\n",
      "[600]\tvalid_0's rmse: 0.395246\n",
      "[800]\tvalid_0's rmse: 0.391753\n",
      "[1000]\tvalid_0's rmse: 0.389595\n",
      "Did not meet early stopping. Best iteration is:\n",
      "[1000]\tvalid_0's rmse: 0.389595\n",
      "----------- 1\n",
      "Training until validation scores don't improve for 100 rounds\n",
      "[200]\tvalid_0's rmse: 0.415901\n",
      "[400]\tvalid_0's rmse: 0.407916\n",
      "[600]\tvalid_0's rmse: 0.403541\n",
      "[800]\tvalid_0's rmse: 0.400192\n",
      "[1000]\tvalid_0's rmse: 0.399035\n",
      "Did not meet early stopping. Best iteration is:\n",
      "[984]\tvalid_0's rmse: 0.398703\n",
      "----------- 2\n",
      "Training until validation scores don't improve for 100 rounds\n",
      "[200]\tvalid_0's rmse: 0.409664\n",
      "[400]\tvalid_0's rmse: 0.403575\n",
      "[600]\tvalid_0's rmse: 0.399163\n",
      "[800]\tvalid_0's rmse: 0.395677\n",
      "[1000]\tvalid_0's rmse: 0.393493\n",
      "Did not meet early stopping. Best iteration is:\n",
      "[990]\tvalid_0's rmse: 0.393421\n",
      "----------- 3\n",
      "Training until validation scores don't improve for 100 rounds\n",
      "[200]\tvalid_0's rmse: 0.405408\n",
      "[400]\tvalid_0's rmse: 0.39764\n",
      "[600]\tvalid_0's rmse: 0.392525\n",
      "[800]\tvalid_0's rmse: 0.389471\n",
      "[1000]\tvalid_0's rmse: 0.386845\n",
      "Did not meet early stopping. Best iteration is:\n",
      "[1000]\tvalid_0's rmse: 0.386845\n",
      "----------- 4\n",
      "Training until validation scores don't improve for 100 rounds\n",
      "[200]\tvalid_0's rmse: 0.380275\n",
      "[400]\tvalid_0's rmse: 0.370885\n",
      "[600]\tvalid_0's rmse: 0.365855\n",
      "[800]\tvalid_0's rmse: 0.361851\n",
      "[1000]\tvalid_0's rmse: 0.359417\n",
      "Did not meet early stopping. Best iteration is:\n",
      "[1000]\tvalid_0's rmse: 0.359417\n"
     ]
    },
    {
     "data": {
      "text/plain": [
       "0.2447382755964259"
      ]
     },
     "execution_count": 41,
     "metadata": {},
     "output_type": "execute_result"
    }
   ],
   "source": [
    "fold_num = 5\n",
    "seeds = [2222]\n",
    "oof = np.zeros(len(train_data))\n",
    "importance = 0\n",
    "LABEL = '车价'\n",
    "pred_y = pd.DataFrame()\n",
    "for seed in seeds:\n",
    "    kf = KFold(n_splits=fold_num, shuffle=True, random_state=seed)\n",
    "    for fold, (train_idx, val_idx) in enumerate(kf.split(train_data[feats], train_data[LABEL])):\n",
    "        print('-----------', fold)\n",
    "        train = lgb.Dataset(train_data.loc[train_idx, feats],\n",
    "                            train_data.loc[train_idx, LABEL])\n",
    "        val = lgb.Dataset(train_data.loc[val_idx, feats],\n",
    "                          train_data.loc[val_idx, LABEL])\n",
    "        model = lgb.train(params, train, valid_sets=val, num_boost_round=10000,\n",
    "                          early_stopping_rounds=100, verbose_eval=200)\n",
    "        \n",
    "\n",
    "        \n",
    "        oof[val_idx] += model.predict(train_data.loc[val_idx, feats]) / len(seeds)\n",
    "        pred_y['fold_%d_seed_%d' % (fold, seed)] = model.predict(test_data[feats])\n",
    "        importance += model.feature_importance(importance_type='gain') / fold_num\n",
    "pd.set_option(\"display.max_rows\",None)\n",
    "test_df_list = list(test_data[LABEL])\n",
    "predict = np.expm1(pred_y.mean(axis=1))\n",
    "true = np.expm1(test_df_list)\n",
    "\n",
    "\n",
    "def error_rate(true_label,pred_label):\n",
    "    res = abs(pred_label-true_label)/true_label\n",
    "#     print(res.shape())\n",
    "    return res.mean()\n",
    "\n",
    "\n",
    "result = error_rate(true,predict)\n",
    "result"
   ]
  },
  {
   "cell_type": "code",
   "execution_count": 42,
   "id": "f809e64f",
   "metadata": {
    "execution": {
     "iopub.execute_input": "2022-06-27T04:55:27.743146Z",
     "iopub.status.busy": "2022-06-27T04:55:27.742723Z",
     "iopub.status.idle": "2022-06-27T04:55:27.753194Z",
     "shell.execute_reply": "2022-06-27T04:55:27.752427Z"
    },
    "papermill": {
     "duration": 0.03473,
     "end_time": "2022-06-27T04:55:27.755060",
     "exception": false,
     "start_time": "2022-06-27T04:55:27.720330",
     "status": "completed"
    },
    "tags": []
   },
   "outputs": [
    {
     "name": "stdout",
     "output_type": "stream",
     "text": [
      "           name    importance\n",
      "25      距离km*车宽  10787.651161\n",
      "24      距离km*车长   4608.498517\n",
      "26      距离km*车高   4485.751288\n",
      "35      距离km*汽油   2083.537032\n",
      "11        柴油耗油价    552.608225\n",
      "27    距离km*标准载重    393.242301\n",
      "28    距离km*车辆容积    284.769255\n",
      "36      距离km*柴油    268.430585\n",
      "2            车长    260.210390\n",
      "6          标准载重    244.643992\n",
      "30    距离km*起始区域    173.147783\n",
      "3            车宽     98.039253\n",
      "1            车型     94.326001\n",
      "0          距离km     79.853443\n",
      "12   备注_tfidf_0     66.183027\n",
      "4            车高     65.112219\n",
      "5        是否跨省运输     62.195443\n",
      "33    距离km*year     54.691052\n",
      "32   距离km*month     49.794841\n",
      "31    距离km*到达区域     48.387341\n",
      "8            油价     45.909066\n",
      "15   备注_tfidf_3     26.061649\n",
      "7          车辆容积     21.025200\n",
      "13   备注_tfidf_1     19.713514\n",
      "34     距离km*day     19.369397\n",
      "14   备注_tfidf_2     17.847840\n",
      "9           耗油价     17.345818\n",
      "17   备注_tfidf_5     16.725542\n",
      "37   距离km*汽油_涨跌     11.101392\n",
      "38   距离km*柴油_涨跌      9.658116\n",
      "23  备注_tfidf_11      9.048345\n",
      "29    距离km*货物类型      7.453019\n",
      "20   备注_tfidf_8      6.316401\n",
      "21   备注_tfidf_9      5.420513\n",
      "16   备注_tfidf_4      5.378032\n",
      "19   备注_tfidf_7      4.390874\n",
      "10          柴油价      3.070828\n",
      "18   备注_tfidf_6      1.022789\n",
      "22  备注_tfidf_10      0.579709\n"
     ]
    }
   ],
   "source": [
    "feats_importance = pd.DataFrame()\n",
    "feats_importance['name'] = feats\n",
    "feats_importance['importance'] = importance\n",
    "print(feats_importance.sort_values('importance', ascending=False)[:50])"
   ]
  },
  {
   "cell_type": "code",
   "execution_count": 43,
   "id": "edb557fd",
   "metadata": {
    "execution": {
     "iopub.execute_input": "2022-06-27T04:55:27.799492Z",
     "iopub.status.busy": "2022-06-27T04:55:27.798861Z",
     "iopub.status.idle": "2022-06-27T04:55:27.805690Z",
     "shell.execute_reply": "2022-06-27T04:55:27.805050Z"
    },
    "papermill": {
     "duration": 0.030734,
     "end_time": "2022-06-27T04:55:27.807364",
     "exception": false,
     "start_time": "2022-06-27T04:55:27.776630",
     "status": "completed"
    },
    "tags": []
   },
   "outputs": [
    {
     "data": {
      "text/plain": [
       "array(['距离km*车宽', '距离km*车长', '距离km*车高', '距离km*汽油', '柴油耗油价', '距离km*标准载重',\n",
       "       '距离km*车辆容积', '距离km*柴油', '车长', '标准载重', '距离km*起始区域', '车宽', '车型',\n",
       "       '距离km', '备注_tfidf_0', '车高', '是否跨省运输', '距离km*year', '距离km*month',\n",
       "       '距离km*到达区域', '油价', '备注_tfidf_3', '车辆容积', '备注_tfidf_1', '距离km*day',\n",
       "       '备注_tfidf_2', '耗油价', '备注_tfidf_5', '距离km*汽油_涨跌', '距离km*柴油_涨跌'],\n",
       "      dtype=object)"
      ]
     },
     "execution_count": 43,
     "metadata": {},
     "output_type": "execute_result"
    }
   ],
   "source": [
    "top30 = feats_importance.sort_values('importance', ascending=False)[:30]\n",
    "top30\n",
    "feature30 = top30['name'].values\n",
    "feature30"
   ]
  },
  {
   "cell_type": "code",
   "execution_count": 44,
   "id": "e53258b3",
   "metadata": {
    "execution": {
     "iopub.execute_input": "2022-06-27T04:55:27.850041Z",
     "iopub.status.busy": "2022-06-27T04:55:27.849214Z",
     "iopub.status.idle": "2022-06-27T04:55:27.856132Z",
     "shell.execute_reply": "2022-06-27T04:55:27.855425Z"
    },
    "papermill": {
     "duration": 0.030672,
     "end_time": "2022-06-27T04:55:27.858084",
     "exception": false,
     "start_time": "2022-06-27T04:55:27.827412",
     "status": "completed"
    },
    "tags": []
   },
   "outputs": [
    {
     "data": {
      "text/plain": [
       "array(['距离km*车宽', '距离km*车长', '距离km*车高', '距离km*汽油', '柴油耗油价', '距离km*标准载重',\n",
       "       '距离km*车辆容积', '距离km*柴油', '车长', '标准载重', '距离km*起始区域', '车宽', '车型',\n",
       "       '距离km', '备注_tfidf_0', '车高', '是否跨省运输', '距离km*year', '距离km*month',\n",
       "       '距离km*到达区域'], dtype=object)"
      ]
     },
     "execution_count": 44,
     "metadata": {},
     "output_type": "execute_result"
    }
   ],
   "source": [
    "top20 = feats_importance.sort_values('importance', ascending=False)[:20]\n",
    "feature20 = top20['name'].values\n",
    "feature20"
   ]
  },
  {
   "cell_type": "code",
   "execution_count": 45,
   "id": "f4ad5eed",
   "metadata": {
    "execution": {
     "iopub.execute_input": "2022-06-27T04:55:27.903686Z",
     "iopub.status.busy": "2022-06-27T04:55:27.902981Z",
     "iopub.status.idle": "2022-06-27T04:55:27.907225Z",
     "shell.execute_reply": "2022-06-27T04:55:27.906515Z"
    },
    "papermill": {
     "duration": 0.029397,
     "end_time": "2022-06-27T04:55:27.909249",
     "exception": false,
     "start_time": "2022-06-27T04:55:27.879852",
     "status": "completed"
    },
    "tags": []
   },
   "outputs": [],
   "source": [
    "def error_rate(true_label,pred_label):\n",
    "    res = abs(pred_label-true_label)/true_label\n",
    "#     print(res.shape())\n",
    "    return res.mean()"
   ]
  },
  {
   "cell_type": "code",
   "execution_count": 46,
   "id": "268bd123",
   "metadata": {
    "execution": {
     "iopub.execute_input": "2022-06-27T04:55:27.955231Z",
     "iopub.status.busy": "2022-06-27T04:55:27.954646Z",
     "iopub.status.idle": "2022-06-27T04:55:27.963017Z",
     "shell.execute_reply": "2022-06-27T04:55:27.961975Z"
    },
    "papermill": {
     "duration": 0.033789,
     "end_time": "2022-06-27T04:55:27.965002",
     "exception": false,
     "start_time": "2022-06-27T04:55:27.931213",
     "status": "completed"
    },
    "tags": []
   },
   "outputs": [
    {
     "data": {
      "text/plain": [
       "0.2447382755964259"
      ]
     },
     "execution_count": 46,
     "metadata": {},
     "output_type": "execute_result"
    }
   ],
   "source": [
    "pd.set_option(\"display.max_rows\",None)\n",
    "test_df_list = list(test_data[LABEL])\n",
    "predict = np.expm1(pred_y.mean(axis=1))\n",
    "true = np.expm1(test_df_list)\n",
    "result = error_rate(true,predict)\n",
    "result"
   ]
  },
  {
   "cell_type": "code",
   "execution_count": 47,
   "id": "51d21b48",
   "metadata": {
    "execution": {
     "iopub.execute_input": "2022-06-27T04:55:28.009383Z",
     "iopub.status.busy": "2022-06-27T04:55:28.008750Z",
     "iopub.status.idle": "2022-06-27T04:55:28.159028Z",
     "shell.execute_reply": "2022-06-27T04:55:28.157334Z"
    },
    "papermill": {
     "duration": 0.174179,
     "end_time": "2022-06-27T04:55:28.161024",
     "exception": true,
     "start_time": "2022-06-27T04:55:27.986845",
     "status": "failed"
    },
    "tags": []
   },
   "outputs": [
    {
     "ename": "FileNotFoundError",
     "evalue": "[Errno 2] No such file or directory: './clear_train_jike_all_feature.csv'",
     "output_type": "error",
     "traceback": [
      "\u001b[0;31m---------------------------------------------------------------------------\u001b[0m",
      "\u001b[0;31mFileNotFoundError\u001b[0m                         Traceback (most recent call last)",
      "\u001b[0;32m/tmp/ipykernel_19/157357578.py\u001b[0m in \u001b[0;36m<module>\u001b[0;34m\u001b[0m\n\u001b[0;32m----> 1\u001b[0;31m \u001b[0mtrain_data\u001b[0m \u001b[0;34m=\u001b[0m \u001b[0mpd\u001b[0m\u001b[0;34m.\u001b[0m\u001b[0mread_csv\u001b[0m\u001b[0;34m(\u001b[0m\u001b[0;34m'./clear_train_jike_all_feature.csv'\u001b[0m\u001b[0;34m)\u001b[0m\u001b[0;34m\u001b[0m\u001b[0;34m\u001b[0m\u001b[0m\n\u001b[0m\u001b[1;32m      2\u001b[0m \u001b[0mtest_data\u001b[0m \u001b[0;34m=\u001b[0m \u001b[0mpd\u001b[0m\u001b[0;34m.\u001b[0m\u001b[0mread_csv\u001b[0m\u001b[0;34m(\u001b[0m\u001b[0;34m'./clear_test_jike_all_feature.csv'\u001b[0m\u001b[0;34m)\u001b[0m\u001b[0;34m\u001b[0m\u001b[0;34m\u001b[0m\u001b[0m\n\u001b[1;32m      3\u001b[0m \u001b[0mprint\u001b[0m\u001b[0;34m(\u001b[0m\u001b[0mtrain_data\u001b[0m\u001b[0;34m.\u001b[0m\u001b[0mcolumns\u001b[0m\u001b[0;34m)\u001b[0m\u001b[0;34m\u001b[0m\u001b[0;34m\u001b[0m\u001b[0m\n\u001b[1;32m      4\u001b[0m \u001b[0;31m# del train_data['报价编号']\u001b[0m\u001b[0;34m\u001b[0m\u001b[0;34m\u001b[0m\u001b[0;34m\u001b[0m\u001b[0m\n\u001b[1;32m      5\u001b[0m \u001b[0;31m# del train_data['起始城市']\u001b[0m\u001b[0;34m\u001b[0m\u001b[0;34m\u001b[0m\u001b[0;34m\u001b[0m\u001b[0m\n",
      "\u001b[0;32m/opt/conda/lib/python3.7/site-packages/pandas/util/_decorators.py\u001b[0m in \u001b[0;36mwrapper\u001b[0;34m(*args, **kwargs)\u001b[0m\n\u001b[1;32m    309\u001b[0m                     \u001b[0mstacklevel\u001b[0m\u001b[0;34m=\u001b[0m\u001b[0mstacklevel\u001b[0m\u001b[0;34m,\u001b[0m\u001b[0;34m\u001b[0m\u001b[0;34m\u001b[0m\u001b[0m\n\u001b[1;32m    310\u001b[0m                 )\n\u001b[0;32m--> 311\u001b[0;31m             \u001b[0;32mreturn\u001b[0m \u001b[0mfunc\u001b[0m\u001b[0;34m(\u001b[0m\u001b[0;34m*\u001b[0m\u001b[0margs\u001b[0m\u001b[0;34m,\u001b[0m \u001b[0;34m**\u001b[0m\u001b[0mkwargs\u001b[0m\u001b[0;34m)\u001b[0m\u001b[0;34m\u001b[0m\u001b[0;34m\u001b[0m\u001b[0m\n\u001b[0m\u001b[1;32m    312\u001b[0m \u001b[0;34m\u001b[0m\u001b[0m\n\u001b[1;32m    313\u001b[0m         \u001b[0;32mreturn\u001b[0m \u001b[0mwrapper\u001b[0m\u001b[0;34m\u001b[0m\u001b[0;34m\u001b[0m\u001b[0m\n",
      "\u001b[0;32m/opt/conda/lib/python3.7/site-packages/pandas/io/parsers/readers.py\u001b[0m in \u001b[0;36mread_csv\u001b[0;34m(filepath_or_buffer, sep, delimiter, header, names, index_col, usecols, squeeze, prefix, mangle_dupe_cols, dtype, engine, converters, true_values, false_values, skipinitialspace, skiprows, skipfooter, nrows, na_values, keep_default_na, na_filter, verbose, skip_blank_lines, parse_dates, infer_datetime_format, keep_date_col, date_parser, dayfirst, cache_dates, iterator, chunksize, compression, thousands, decimal, lineterminator, quotechar, quoting, doublequote, escapechar, comment, encoding, encoding_errors, dialect, error_bad_lines, warn_bad_lines, on_bad_lines, delim_whitespace, low_memory, memory_map, float_precision, storage_options)\u001b[0m\n\u001b[1;32m    584\u001b[0m     \u001b[0mkwds\u001b[0m\u001b[0;34m.\u001b[0m\u001b[0mupdate\u001b[0m\u001b[0;34m(\u001b[0m\u001b[0mkwds_defaults\u001b[0m\u001b[0;34m)\u001b[0m\u001b[0;34m\u001b[0m\u001b[0;34m\u001b[0m\u001b[0m\n\u001b[1;32m    585\u001b[0m \u001b[0;34m\u001b[0m\u001b[0m\n\u001b[0;32m--> 586\u001b[0;31m     \u001b[0;32mreturn\u001b[0m \u001b[0m_read\u001b[0m\u001b[0;34m(\u001b[0m\u001b[0mfilepath_or_buffer\u001b[0m\u001b[0;34m,\u001b[0m \u001b[0mkwds\u001b[0m\u001b[0;34m)\u001b[0m\u001b[0;34m\u001b[0m\u001b[0;34m\u001b[0m\u001b[0m\n\u001b[0m\u001b[1;32m    587\u001b[0m \u001b[0;34m\u001b[0m\u001b[0m\n\u001b[1;32m    588\u001b[0m \u001b[0;34m\u001b[0m\u001b[0m\n",
      "\u001b[0;32m/opt/conda/lib/python3.7/site-packages/pandas/io/parsers/readers.py\u001b[0m in \u001b[0;36m_read\u001b[0;34m(filepath_or_buffer, kwds)\u001b[0m\n\u001b[1;32m    480\u001b[0m \u001b[0;34m\u001b[0m\u001b[0m\n\u001b[1;32m    481\u001b[0m     \u001b[0;31m# Create the parser.\u001b[0m\u001b[0;34m\u001b[0m\u001b[0;34m\u001b[0m\u001b[0;34m\u001b[0m\u001b[0m\n\u001b[0;32m--> 482\u001b[0;31m     \u001b[0mparser\u001b[0m \u001b[0;34m=\u001b[0m \u001b[0mTextFileReader\u001b[0m\u001b[0;34m(\u001b[0m\u001b[0mfilepath_or_buffer\u001b[0m\u001b[0;34m,\u001b[0m \u001b[0;34m**\u001b[0m\u001b[0mkwds\u001b[0m\u001b[0;34m)\u001b[0m\u001b[0;34m\u001b[0m\u001b[0;34m\u001b[0m\u001b[0m\n\u001b[0m\u001b[1;32m    483\u001b[0m \u001b[0;34m\u001b[0m\u001b[0m\n\u001b[1;32m    484\u001b[0m     \u001b[0;32mif\u001b[0m \u001b[0mchunksize\u001b[0m \u001b[0;32mor\u001b[0m \u001b[0miterator\u001b[0m\u001b[0;34m:\u001b[0m\u001b[0;34m\u001b[0m\u001b[0;34m\u001b[0m\u001b[0m\n",
      "\u001b[0;32m/opt/conda/lib/python3.7/site-packages/pandas/io/parsers/readers.py\u001b[0m in \u001b[0;36m__init__\u001b[0;34m(self, f, engine, **kwds)\u001b[0m\n\u001b[1;32m    809\u001b[0m             \u001b[0mself\u001b[0m\u001b[0;34m.\u001b[0m\u001b[0moptions\u001b[0m\u001b[0;34m[\u001b[0m\u001b[0;34m\"has_index_names\"\u001b[0m\u001b[0;34m]\u001b[0m \u001b[0;34m=\u001b[0m \u001b[0mkwds\u001b[0m\u001b[0;34m[\u001b[0m\u001b[0;34m\"has_index_names\"\u001b[0m\u001b[0;34m]\u001b[0m\u001b[0;34m\u001b[0m\u001b[0;34m\u001b[0m\u001b[0m\n\u001b[1;32m    810\u001b[0m \u001b[0;34m\u001b[0m\u001b[0m\n\u001b[0;32m--> 811\u001b[0;31m         \u001b[0mself\u001b[0m\u001b[0;34m.\u001b[0m\u001b[0m_engine\u001b[0m \u001b[0;34m=\u001b[0m \u001b[0mself\u001b[0m\u001b[0;34m.\u001b[0m\u001b[0m_make_engine\u001b[0m\u001b[0;34m(\u001b[0m\u001b[0mself\u001b[0m\u001b[0;34m.\u001b[0m\u001b[0mengine\u001b[0m\u001b[0;34m)\u001b[0m\u001b[0;34m\u001b[0m\u001b[0;34m\u001b[0m\u001b[0m\n\u001b[0m\u001b[1;32m    812\u001b[0m \u001b[0;34m\u001b[0m\u001b[0m\n\u001b[1;32m    813\u001b[0m     \u001b[0;32mdef\u001b[0m \u001b[0mclose\u001b[0m\u001b[0;34m(\u001b[0m\u001b[0mself\u001b[0m\u001b[0;34m)\u001b[0m\u001b[0;34m:\u001b[0m\u001b[0;34m\u001b[0m\u001b[0;34m\u001b[0m\u001b[0m\n",
      "\u001b[0;32m/opt/conda/lib/python3.7/site-packages/pandas/io/parsers/readers.py\u001b[0m in \u001b[0;36m_make_engine\u001b[0;34m(self, engine)\u001b[0m\n\u001b[1;32m   1038\u001b[0m             )\n\u001b[1;32m   1039\u001b[0m         \u001b[0;31m# error: Too many arguments for \"ParserBase\"\u001b[0m\u001b[0;34m\u001b[0m\u001b[0;34m\u001b[0m\u001b[0;34m\u001b[0m\u001b[0m\n\u001b[0;32m-> 1040\u001b[0;31m         \u001b[0;32mreturn\u001b[0m \u001b[0mmapping\u001b[0m\u001b[0;34m[\u001b[0m\u001b[0mengine\u001b[0m\u001b[0;34m]\u001b[0m\u001b[0;34m(\u001b[0m\u001b[0mself\u001b[0m\u001b[0;34m.\u001b[0m\u001b[0mf\u001b[0m\u001b[0;34m,\u001b[0m \u001b[0;34m**\u001b[0m\u001b[0mself\u001b[0m\u001b[0;34m.\u001b[0m\u001b[0moptions\u001b[0m\u001b[0;34m)\u001b[0m  \u001b[0;31m# type: ignore[call-arg]\u001b[0m\u001b[0;34m\u001b[0m\u001b[0;34m\u001b[0m\u001b[0m\n\u001b[0m\u001b[1;32m   1041\u001b[0m \u001b[0;34m\u001b[0m\u001b[0m\n\u001b[1;32m   1042\u001b[0m     \u001b[0;32mdef\u001b[0m \u001b[0m_failover_to_python\u001b[0m\u001b[0;34m(\u001b[0m\u001b[0mself\u001b[0m\u001b[0;34m)\u001b[0m\u001b[0;34m:\u001b[0m\u001b[0;34m\u001b[0m\u001b[0;34m\u001b[0m\u001b[0m\n",
      "\u001b[0;32m/opt/conda/lib/python3.7/site-packages/pandas/io/parsers/c_parser_wrapper.py\u001b[0m in \u001b[0;36m__init__\u001b[0;34m(self, src, **kwds)\u001b[0m\n\u001b[1;32m     49\u001b[0m \u001b[0;34m\u001b[0m\u001b[0m\n\u001b[1;32m     50\u001b[0m         \u001b[0;31m# open handles\u001b[0m\u001b[0;34m\u001b[0m\u001b[0;34m\u001b[0m\u001b[0;34m\u001b[0m\u001b[0m\n\u001b[0;32m---> 51\u001b[0;31m         \u001b[0mself\u001b[0m\u001b[0;34m.\u001b[0m\u001b[0m_open_handles\u001b[0m\u001b[0;34m(\u001b[0m\u001b[0msrc\u001b[0m\u001b[0;34m,\u001b[0m \u001b[0mkwds\u001b[0m\u001b[0;34m)\u001b[0m\u001b[0;34m\u001b[0m\u001b[0;34m\u001b[0m\u001b[0m\n\u001b[0m\u001b[1;32m     52\u001b[0m         \u001b[0;32massert\u001b[0m \u001b[0mself\u001b[0m\u001b[0;34m.\u001b[0m\u001b[0mhandles\u001b[0m \u001b[0;32mis\u001b[0m \u001b[0;32mnot\u001b[0m \u001b[0;32mNone\u001b[0m\u001b[0;34m\u001b[0m\u001b[0;34m\u001b[0m\u001b[0m\n\u001b[1;32m     53\u001b[0m \u001b[0;34m\u001b[0m\u001b[0m\n",
      "\u001b[0;32m/opt/conda/lib/python3.7/site-packages/pandas/io/parsers/base_parser.py\u001b[0m in \u001b[0;36m_open_handles\u001b[0;34m(self, src, kwds)\u001b[0m\n\u001b[1;32m    227\u001b[0m             \u001b[0mmemory_map\u001b[0m\u001b[0;34m=\u001b[0m\u001b[0mkwds\u001b[0m\u001b[0;34m.\u001b[0m\u001b[0mget\u001b[0m\u001b[0;34m(\u001b[0m\u001b[0;34m\"memory_map\"\u001b[0m\u001b[0;34m,\u001b[0m \u001b[0;32mFalse\u001b[0m\u001b[0;34m)\u001b[0m\u001b[0;34m,\u001b[0m\u001b[0;34m\u001b[0m\u001b[0;34m\u001b[0m\u001b[0m\n\u001b[1;32m    228\u001b[0m             \u001b[0mstorage_options\u001b[0m\u001b[0;34m=\u001b[0m\u001b[0mkwds\u001b[0m\u001b[0;34m.\u001b[0m\u001b[0mget\u001b[0m\u001b[0;34m(\u001b[0m\u001b[0;34m\"storage_options\"\u001b[0m\u001b[0;34m,\u001b[0m \u001b[0;32mNone\u001b[0m\u001b[0;34m)\u001b[0m\u001b[0;34m,\u001b[0m\u001b[0;34m\u001b[0m\u001b[0;34m\u001b[0m\u001b[0m\n\u001b[0;32m--> 229\u001b[0;31m             \u001b[0merrors\u001b[0m\u001b[0;34m=\u001b[0m\u001b[0mkwds\u001b[0m\u001b[0;34m.\u001b[0m\u001b[0mget\u001b[0m\u001b[0;34m(\u001b[0m\u001b[0;34m\"encoding_errors\"\u001b[0m\u001b[0;34m,\u001b[0m \u001b[0;34m\"strict\"\u001b[0m\u001b[0;34m)\u001b[0m\u001b[0;34m,\u001b[0m\u001b[0;34m\u001b[0m\u001b[0;34m\u001b[0m\u001b[0m\n\u001b[0m\u001b[1;32m    230\u001b[0m         )\n\u001b[1;32m    231\u001b[0m \u001b[0;34m\u001b[0m\u001b[0m\n",
      "\u001b[0;32m/opt/conda/lib/python3.7/site-packages/pandas/io/common.py\u001b[0m in \u001b[0;36mget_handle\u001b[0;34m(path_or_buf, mode, encoding, compression, memory_map, is_text, errors, storage_options)\u001b[0m\n\u001b[1;32m    705\u001b[0m                 \u001b[0mencoding\u001b[0m\u001b[0;34m=\u001b[0m\u001b[0mioargs\u001b[0m\u001b[0;34m.\u001b[0m\u001b[0mencoding\u001b[0m\u001b[0;34m,\u001b[0m\u001b[0;34m\u001b[0m\u001b[0;34m\u001b[0m\u001b[0m\n\u001b[1;32m    706\u001b[0m                 \u001b[0merrors\u001b[0m\u001b[0;34m=\u001b[0m\u001b[0merrors\u001b[0m\u001b[0;34m,\u001b[0m\u001b[0;34m\u001b[0m\u001b[0;34m\u001b[0m\u001b[0m\n\u001b[0;32m--> 707\u001b[0;31m                 \u001b[0mnewline\u001b[0m\u001b[0;34m=\u001b[0m\u001b[0;34m\"\"\u001b[0m\u001b[0;34m,\u001b[0m\u001b[0;34m\u001b[0m\u001b[0;34m\u001b[0m\u001b[0m\n\u001b[0m\u001b[1;32m    708\u001b[0m             )\n\u001b[1;32m    709\u001b[0m         \u001b[0;32melse\u001b[0m\u001b[0;34m:\u001b[0m\u001b[0;34m\u001b[0m\u001b[0;34m\u001b[0m\u001b[0m\n",
      "\u001b[0;31mFileNotFoundError\u001b[0m: [Errno 2] No such file or directory: './clear_train_jike_all_feature.csv'"
     ]
    }
   ],
   "source": [
    "train_data = pd.read_csv('./clear_train_jike_all_feature.csv')\n",
    "test_data = pd.read_csv('./clear_test_jike_all_feature.csv')\n",
    "print(train_data.columns)\n",
    "# del train_data['报价编号']\n",
    "# del train_data['起始城市']\n",
    "# # del df['起始城市代码']\n",
    "# # del df['目的城市代码']\n",
    "# del train_data['目的城市']\n",
    "# del train_data['备注']\n",
    "# # del df['运输要求']\n",
    "# del train_data['translation']\n",
    "\n",
    "\n",
    "# # del test_data['报价编号']\n",
    "# # del test_data['起始城市']\n",
    "# # # del df['起始城市代码']\n",
    "# # # del df['目的城市代码']\n",
    "# # del test_data['目的城市']\n",
    "# # del test_data['备注']\n",
    "# # # del df['运输要求']\n",
    "# del test_data['translation']\n",
    "choosed_fea = ['车价','距离km']\n",
    "train_data = train_data[choosed_fea]\n",
    "test_data = test_data[choosed_fea]\n",
    "train_data.to_csv('./clear_train_jike_v3.csv',index=0)\n",
    "test_data.to_csv('./clear_test_jike_v3.csv', index=0)\n"
   ]
  },
  {
   "cell_type": "code",
   "execution_count": null,
   "id": "7d0baebb",
   "metadata": {
    "execution": {
     "iopub.execute_input": "2022-06-18T07:00:36.27903Z",
     "iopub.status.busy": "2022-06-18T07:00:36.278536Z",
     "iopub.status.idle": "2022-06-18T07:00:36.407414Z",
     "shell.execute_reply": "2022-06-18T07:00:36.406464Z",
     "shell.execute_reply.started": "2022-06-18T07:00:36.278974Z"
    },
    "papermill": {
     "duration": null,
     "end_time": null,
     "exception": null,
     "start_time": null,
     "status": "pending"
    },
    "tags": []
   },
   "outputs": [],
   "source": [
    "train_data = pd.read_csv('./clear_train_jike_all_feature.csv')\n",
    "test_data = pd.read_csv('./clear_test_jike_all_feature.csv')\n",
    "print(train_data.columns)\n",
    "# del train_data['报价编号']\n",
    "# del train_data['起始城市']\n",
    "# # del df['起始城市代码']\n",
    "# # del df['目的城市代码']\n",
    "# del train_data['目的城市']\n",
    "# del train_data['备注']\n",
    "# # del df['运输要求']\n",
    "# del train_data['translation']\n",
    "\n",
    "\n",
    "# # del test_data['报价编号']\n",
    "# # del test_data['起始城市']\n",
    "# # # del df['起始城市代码']\n",
    "# # # del df['目的城市代码']\n",
    "# # del test_data['目的城市']\n",
    "# # del test_data['备注']\n",
    "# # # del df['运输要求']\n",
    "# del test_data['translation']\n",
    "choosed_fea = ['车价','距离km','起始城市', '起始城市代码', '目的城市', '目的城市代码','车型','车长', '车宽', '车高',]\n",
    "train_data = train_data[choosed_fea]\n",
    "test_data = test_data[choosed_fea]\n",
    "train_data.to_csv('./clear_train_jike_v3.csv',index=0)\n",
    "test_data.to_csv('./clear_test_jike_v3.csv', index=0)\n"
   ]
  },
  {
   "cell_type": "code",
   "execution_count": null,
   "id": "fe5be1dd",
   "metadata": {
    "collapsed": true,
    "execution": {
     "iopub.execute_input": "2022-06-18T05:58:28.877627Z",
     "iopub.status.busy": "2022-06-18T05:58:28.877186Z",
     "iopub.status.idle": "2022-06-18T06:01:00.014516Z",
     "shell.execute_reply": "2022-06-18T06:01:00.013106Z",
     "shell.execute_reply.started": "2022-06-18T05:58:28.877589Z"
    },
    "jupyter": {
     "outputs_hidden": true,
     "source_hidden": true
    },
    "papermill": {
     "duration": null,
     "end_time": null,
     "exception": null,
     "start_time": null,
     "status": "pending"
    },
    "tags": []
   },
   "outputs": [],
   "source": [
    "!pip install -U \"mxnet<2.0.0\"\n",
    "!pip install autogluon"
   ]
  },
  {
   "cell_type": "code",
   "execution_count": null,
   "id": "9522de05",
   "metadata": {
    "collapsed": true,
    "execution": {
     "iopub.execute_input": "2022-06-18T05:58:18.104113Z",
     "iopub.status.busy": "2022-06-18T05:58:18.103676Z",
     "iopub.status.idle": "2022-06-18T05:58:18.176517Z",
     "shell.execute_reply": "2022-06-18T05:58:18.175504Z",
     "shell.execute_reply.started": "2022-06-18T05:58:18.10407Z"
    },
    "jupyter": {
     "outputs_hidden": true,
     "source_hidden": true
    },
    "papermill": {
     "duration": null,
     "end_time": null,
     "exception": null,
     "start_time": null,
     "status": "pending"
    },
    "tags": []
   },
   "outputs": [],
   "source": [
    "t = pd.read_csv('./clear_train_jike_v3.csv')\n",
    "t.columns"
   ]
  },
  {
   "cell_type": "code",
   "execution_count": null,
   "id": "369f1828",
   "metadata": {
    "execution": {
     "iopub.execute_input": "2022-06-17T15:12:41.773116Z",
     "iopub.status.busy": "2022-06-17T15:12:41.772659Z",
     "iopub.status.idle": "2022-06-17T15:12:41.77994Z",
     "shell.execute_reply": "2022-06-17T15:12:41.779307Z",
     "shell.execute_reply.started": "2022-06-17T15:12:41.773079Z"
    },
    "jupyter": {
     "source_hidden": true
    },
    "papermill": {
     "duration": null,
     "end_time": null,
     "exception": null,
     "start_time": null,
     "status": "pending"
    },
    "tags": []
   },
   "outputs": [],
   "source": [
    "train_data.columns"
   ]
  },
  {
   "cell_type": "code",
   "execution_count": null,
   "id": "a408ee98",
   "metadata": {
    "execution": {
     "iopub.execute_input": "2022-06-18T07:00:39.360894Z",
     "iopub.status.busy": "2022-06-18T07:00:39.360098Z",
     "iopub.status.idle": "2022-06-18T07:01:03.910487Z",
     "shell.execute_reply": "2022-06-18T07:01:03.909556Z",
     "shell.execute_reply.started": "2022-06-18T07:00:39.36085Z"
    },
    "papermill": {
     "duration": null,
     "end_time": null,
     "exception": null,
     "start_time": null,
     "status": "pending"
    },
    "tags": []
   },
   "outputs": [],
   "source": [
    "# from autogluon.tabular.configs.hyperparameter_configs import get_hyperparameter_config\n",
    "from autogluon.tabular import TabularDataset, TabularPredictor\n",
    "\n",
    "# hyperparameters = get_hyperparameter_config('multimodal')\n",
    "\n",
    "from autogluon.tabular import TabularPredictor\n",
    "\n",
    "train_data = TabularDataset('./clear_train_jike_v3.csv')\n",
    "label = '车价'\n",
    "\n",
    "predictor = TabularPredictor(label=label).fit(train_data\n",
    "                                              ,hyperparameters = 'multimodal'\n",
    "#                                               ,num_stack_levels = 1, num_bag_folds = 5\n",
    "                                             )\n",
    "test_data = TabularDataset('./clear_test_jike_v3.csv')\n",
    "preds = predictor.predict(test_data)\n",
    "preds.shape\n",
    "test_df = pd.read_csv('./clear_test_jike_v3.csv')\n",
    "test_df_list = list(test_df['车价'])\n",
    "true = np.expm1(test_df_list)\n",
    "predict = np.expm1(preds)\n",
    "def error_rate(true_label,pred_label):\n",
    "    res = abs(pred_label-true_label)/true_label\n",
    "#     print(res.shape())\n",
    "    return res.mean()\n",
    "\n",
    "# result = error_rate(true,preds)\n",
    "result = error_rate(true,predict)\n",
    "result"
   ]
  },
  {
   "cell_type": "code",
   "execution_count": null,
   "id": "e8aca16f",
   "metadata": {
    "execution": {
     "iopub.execute_input": "2022-06-18T06:08:53.752693Z",
     "iopub.status.busy": "2022-06-18T06:08:53.752301Z",
     "iopub.status.idle": "2022-06-18T06:08:53.805374Z",
     "shell.execute_reply": "2022-06-18T06:08:53.804409Z",
     "shell.execute_reply.started": "2022-06-18T06:08:53.752661Z"
    },
    "papermill": {
     "duration": null,
     "end_time": null,
     "exception": null,
     "start_time": null,
     "status": "pending"
    },
    "tags": []
   },
   "outputs": [],
   "source": [
    "test_data = TabularDataset('./clear_test_jike_v3.csv')\n",
    "preds = predictor.predict(test_data)\n",
    "preds.shape\n",
    "test_df = pd.read_csv('../input/cleardatav3/clear_test_jike_v3.csv')\n",
    "test_df_list = list(test_df['车价'])\n",
    "true = np.expm1(test_df_list)\n",
    "predict = np.expm1(preds)\n",
    "def error_rate(true_label,pred_label):\n",
    "    res = abs(pred_label-true_label)/true_label\n",
    "#     print(res.shape())\n",
    "    return res.mean()\n",
    "\n",
    "# result = error_rate(true,preds)\n",
    "result = error_rate(true,predict)\n",
    "result"
   ]
  },
  {
   "cell_type": "code",
   "execution_count": null,
   "id": "de656007",
   "metadata": {
    "execution": {
     "iopub.execute_input": "2022-06-18T06:08:58.128772Z",
     "iopub.status.busy": "2022-06-18T06:08:58.128361Z",
     "iopub.status.idle": "2022-06-18T06:08:58.152583Z",
     "shell.execute_reply": "2022-06-18T06:08:58.151694Z",
     "shell.execute_reply.started": "2022-06-18T06:08:58.128737Z"
    },
    "papermill": {
     "duration": null,
     "end_time": null,
     "exception": null,
     "start_time": null,
     "status": "pending"
    },
    "tags": []
   },
   "outputs": [],
   "source": [
    "test_df = pd.read_csv('../input/cleardatav3/clear_test_jike_v3.csv')\n",
    "test_df_list = list(test_df['车价'])\n",
    "true = np.expm1(test_df_list)\n",
    "predict = np.expm1(preds)\n",
    "def error_rate(true_label,pred_label):\n",
    "    res = abs(pred_label-true_label)/true_label\n",
    "#     print(res.shape())\n",
    "    return res.mean()\n",
    "\n",
    "# result = error_rate(true,preds)\n",
    "result = error_rate(true,predict)\n",
    "result"
   ]
  },
  {
   "cell_type": "code",
   "execution_count": null,
   "id": "59cd2d9c",
   "metadata": {
    "execution": {
     "iopub.execute_input": "2022-06-15T07:16:45.584863Z",
     "iopub.status.busy": "2022-06-15T07:16:45.584438Z",
     "iopub.status.idle": "2022-06-15T07:16:45.61406Z",
     "shell.execute_reply": "2022-06-15T07:16:45.61317Z",
     "shell.execute_reply.started": "2022-06-15T07:16:45.584834Z"
    },
    "papermill": {
     "duration": null,
     "end_time": null,
     "exception": null,
     "start_time": null,
     "status": "pending"
    },
    "tags": []
   },
   "outputs": [],
   "source": [
    "test_data.head()"
   ]
  },
  {
   "cell_type": "code",
   "execution_count": null,
   "id": "0d7a2ae0",
   "metadata": {
    "execution": {
     "iopub.execute_input": "2022-06-15T07:16:37.106884Z",
     "iopub.status.busy": "2022-06-15T07:16:37.105951Z",
     "iopub.status.idle": "2022-06-15T07:16:37.115564Z",
     "shell.execute_reply": "2022-06-15T07:16:37.114648Z",
     "shell.execute_reply.started": "2022-06-15T07:16:37.106839Z"
    },
    "papermill": {
     "duration": null,
     "end_time": null,
     "exception": null,
     "start_time": null,
     "status": "pending"
    },
    "tags": []
   },
   "outputs": [],
   "source": [
    "predict.to_csv('./result_v3.csv')"
   ]
  },
  {
   "cell_type": "markdown",
   "id": "e62005ff",
   "metadata": {
    "papermill": {
     "duration": null,
     "end_time": null,
     "exception": null,
     "start_time": null,
     "status": "pending"
    },
    "tags": []
   },
   "source": [
    "v1 0.1874  \n",
    "v2 0.195            \n",
    "v3  0.1915                   lgb 0.242"
   ]
  },
  {
   "cell_type": "markdown",
   "id": "94096fc6",
   "metadata": {
    "papermill": {
     "duration": null,
     "end_time": null,
     "exception": null,
     "start_time": null,
     "status": "pending"
    },
    "tags": []
   },
   "source": [
    "## 其他模型"
   ]
  },
  {
   "cell_type": "code",
   "execution_count": null,
   "id": "77393032",
   "metadata": {
    "execution": {
     "iopub.execute_input": "2022-06-17T15:38:27.714968Z",
     "iopub.status.busy": "2022-06-17T15:38:27.713938Z",
     "iopub.status.idle": "2022-06-17T15:38:27.72334Z",
     "shell.execute_reply": "2022-06-17T15:38:27.722798Z",
     "shell.execute_reply.started": "2022-06-17T15:38:27.714927Z"
    },
    "papermill": {
     "duration": null,
     "end_time": null,
     "exception": null,
     "start_time": null,
     "status": "pending"
    },
    "tags": []
   },
   "outputs": [],
   "source": [
    "#train_data = pd.read_csv('./clear_train_jike_all_feature.csv')\n",
    "y_train = train_data['车价']\n",
    "train = train_data[['距离km*车宽', '距离km*车高', '距离km*车长', '距离km*汽油', '柴油耗油价', '距离km*标准载重','距离km*车辆容积', '距离km*柴油']]\n",
    "train.columns"
   ]
  },
  {
   "cell_type": "code",
   "execution_count": null,
   "id": "f113ca7f",
   "metadata": {
    "execution": {
     "iopub.execute_input": "2022-06-17T15:38:32.124761Z",
     "iopub.status.busy": "2022-06-17T15:38:32.124417Z",
     "iopub.status.idle": "2022-06-17T15:38:32.130283Z",
     "shell.execute_reply": "2022-06-17T15:38:32.129626Z",
     "shell.execute_reply.started": "2022-06-17T15:38:32.124735Z"
    },
    "papermill": {
     "duration": null,
     "end_time": null,
     "exception": null,
     "start_time": null,
     "status": "pending"
    },
    "tags": []
   },
   "outputs": [],
   "source": [
    "y_train.values"
   ]
  },
  {
   "cell_type": "code",
   "execution_count": null,
   "id": "4aa26a5b",
   "metadata": {
    "execution": {
     "iopub.execute_input": "2022-06-17T14:32:28.993088Z",
     "iopub.status.busy": "2022-06-17T14:32:28.99272Z",
     "iopub.status.idle": "2022-06-17T14:32:28.998837Z",
     "shell.execute_reply": "2022-06-17T14:32:28.998056Z",
     "shell.execute_reply.started": "2022-06-17T14:32:28.99306Z"
    },
    "papermill": {
     "duration": null,
     "end_time": null,
     "exception": null,
     "start_time": null,
     "status": "pending"
    },
    "tags": []
   },
   "outputs": [],
   "source": [
    "del train['运输要求']\n",
    "del train['备注']\n",
    "del train['translation']"
   ]
  },
  {
   "cell_type": "code",
   "execution_count": null,
   "id": "3ccdc6a5",
   "metadata": {
    "execution": {
     "iopub.execute_input": "2022-06-17T15:38:36.392849Z",
     "iopub.status.busy": "2022-06-17T15:38:36.392453Z",
     "iopub.status.idle": "2022-06-17T15:38:36.398584Z",
     "shell.execute_reply": "2022-06-17T15:38:36.397755Z",
     "shell.execute_reply.started": "2022-06-17T15:38:36.392816Z"
    },
    "papermill": {
     "duration": null,
     "end_time": null,
     "exception": null,
     "start_time": null,
     "status": "pending"
    },
    "tags": []
   },
   "outputs": [],
   "source": [
    "from sklearn.linear_model import ElasticNet, Lasso,  BayesianRidge, LassoLarsIC\n",
    "from sklearn.ensemble import RandomForestRegressor,  GradientBoostingRegressor\n",
    "from sklearn.kernel_ridge import KernelRidge\n",
    "from sklearn.pipeline import make_pipeline\n",
    "from sklearn.preprocessing import RobustScaler\n",
    "from sklearn.base import BaseEstimator, TransformerMixin, RegressorMixin, clone\n",
    "from sklearn.model_selection import KFold, cross_val_score, train_test_split\n",
    "from sklearn.metrics import mean_squared_error\n",
    "import xgboost as xgb\n",
    "import lightgbm as lgb"
   ]
  },
  {
   "cell_type": "code",
   "execution_count": null,
   "id": "93bbe548",
   "metadata": {
    "execution": {
     "iopub.execute_input": "2022-06-17T15:38:37.494408Z",
     "iopub.status.busy": "2022-06-17T15:38:37.493389Z",
     "iopub.status.idle": "2022-06-17T15:38:37.499433Z",
     "shell.execute_reply": "2022-06-17T15:38:37.49852Z",
     "shell.execute_reply.started": "2022-06-17T15:38:37.494372Z"
    },
    "papermill": {
     "duration": null,
     "end_time": null,
     "exception": null,
     "start_time": null,
     "status": "pending"
    },
    "tags": []
   },
   "outputs": [],
   "source": [
    "#Validation function\n",
    "n_folds = 5\n",
    "\n",
    "def rmsle_cv(model):\n",
    "    kf = KFold(n_folds, shuffle=True, random_state=42).get_n_splits(train.values)\n",
    "    rmse= np.sqrt(-cross_val_score(model, train.values, y_train.values, scoring=\"neg_mean_squared_error\", cv = kf))\n",
    "    return(rmse)"
   ]
  },
  {
   "cell_type": "code",
   "execution_count": null,
   "id": "2474d7fd",
   "metadata": {
    "execution": {
     "iopub.execute_input": "2022-06-17T15:38:39.575604Z",
     "iopub.status.busy": "2022-06-17T15:38:39.574743Z",
     "iopub.status.idle": "2022-06-17T15:38:39.580892Z",
     "shell.execute_reply": "2022-06-17T15:38:39.579858Z",
     "shell.execute_reply.started": "2022-06-17T15:38:39.575547Z"
    },
    "papermill": {
     "duration": null,
     "end_time": null,
     "exception": null,
     "start_time": null,
     "status": "pending"
    },
    "tags": []
   },
   "outputs": [],
   "source": [
    "lasso = make_pipeline(RobustScaler(), Lasso(alpha =0.0005, random_state=1))"
   ]
  },
  {
   "cell_type": "code",
   "execution_count": null,
   "id": "fc19e194",
   "metadata": {
    "execution": {
     "iopub.execute_input": "2022-06-17T15:38:40.909985Z",
     "iopub.status.busy": "2022-06-17T15:38:40.909535Z",
     "iopub.status.idle": "2022-06-17T15:38:41.019259Z",
     "shell.execute_reply": "2022-06-17T15:38:41.018638Z",
     "shell.execute_reply.started": "2022-06-17T15:38:40.909949Z"
    },
    "papermill": {
     "duration": null,
     "end_time": null,
     "exception": null,
     "start_time": null,
     "status": "pending"
    },
    "tags": []
   },
   "outputs": [],
   "source": [
    "score = rmsle_cv(lasso)\n",
    "print(\"\\nLasso score: {:.4f} ({:.4f})\\n\".format(score.mean(), score.std()))"
   ]
  },
  {
   "cell_type": "code",
   "execution_count": null,
   "id": "a38abbfd",
   "metadata": {
    "execution": {
     "iopub.execute_input": "2022-06-15T06:37:19.551162Z",
     "iopub.status.busy": "2022-06-15T06:37:19.550741Z",
     "iopub.status.idle": "2022-06-15T06:37:19.556508Z",
     "shell.execute_reply": "2022-06-15T06:37:19.555449Z",
     "shell.execute_reply.started": "2022-06-15T06:37:19.551131Z"
    },
    "papermill": {
     "duration": null,
     "end_time": null,
     "exception": null,
     "start_time": null,
     "status": "pending"
    },
    "tags": []
   },
   "outputs": [],
   "source": [
    "ENet = make_pipeline(RobustScaler(), ElasticNet(alpha=0.0005, l1_ratio=.9, random_state=3))"
   ]
  },
  {
   "cell_type": "code",
   "execution_count": null,
   "id": "37910451",
   "metadata": {
    "execution": {
     "iopub.execute_input": "2022-06-15T06:41:53.431038Z",
     "iopub.status.busy": "2022-06-15T06:41:53.430586Z",
     "iopub.status.idle": "2022-06-15T06:41:53.436714Z",
     "shell.execute_reply": "2022-06-15T06:41:53.435754Z",
     "shell.execute_reply.started": "2022-06-15T06:41:53.431004Z"
    },
    "papermill": {
     "duration": null,
     "end_time": null,
     "exception": null,
     "start_time": null,
     "status": "pending"
    },
    "tags": []
   },
   "outputs": [],
   "source": [
    "KRR = KernelRidge(alpha=0.6, kernel='polynomial', degree=2, coef0=2.5)"
   ]
  },
  {
   "cell_type": "code",
   "execution_count": null,
   "id": "c3e5e59e",
   "metadata": {
    "execution": {
     "iopub.execute_input": "2022-06-15T06:32:00.161667Z",
     "iopub.status.busy": "2022-06-15T06:32:00.161248Z",
     "iopub.status.idle": "2022-06-15T06:32:00.167663Z",
     "shell.execute_reply": "2022-06-15T06:32:00.166605Z",
     "shell.execute_reply.started": "2022-06-15T06:32:00.161634Z"
    },
    "papermill": {
     "duration": null,
     "end_time": null,
     "exception": null,
     "start_time": null,
     "status": "pending"
    },
    "tags": []
   },
   "outputs": [],
   "source": [
    "GBoost = GradientBoostingRegressor(n_estimators=3000, learning_rate=0.05,\n",
    "                                   max_depth=4, max_features='sqrt',\n",
    "                                   min_samples_leaf=15, min_samples_split=10, \n",
    "                                   loss='huber', random_state =5)"
   ]
  },
  {
   "cell_type": "code",
   "execution_count": null,
   "id": "8bec155a",
   "metadata": {
    "execution": {
     "iopub.execute_input": "2022-06-15T06:32:01.983728Z",
     "iopub.status.busy": "2022-06-15T06:32:01.983306Z",
     "iopub.status.idle": "2022-06-15T06:32:01.989709Z",
     "shell.execute_reply": "2022-06-15T06:32:01.988688Z",
     "shell.execute_reply.started": "2022-06-15T06:32:01.983694Z"
    },
    "papermill": {
     "duration": null,
     "end_time": null,
     "exception": null,
     "start_time": null,
     "status": "pending"
    },
    "tags": []
   },
   "outputs": [],
   "source": [
    "model_xgb = xgb.XGBRegressor(colsample_bytree=0.4603, gamma=0.0468, \n",
    "                             learning_rate=0.05, max_depth=3, \n",
    "                             min_child_weight=1.7817, n_estimators=2200,\n",
    "                             reg_alpha=0.4640, reg_lambda=0.8571,\n",
    "                             subsample=0.5213, silent=1,\n",
    "                             random_state =7, nthread = -1)"
   ]
  },
  {
   "cell_type": "code",
   "execution_count": null,
   "id": "cdc03dcc",
   "metadata": {
    "execution": {
     "iopub.execute_input": "2022-06-15T06:42:40.67213Z",
     "iopub.status.busy": "2022-06-15T06:42:40.671041Z",
     "iopub.status.idle": "2022-06-15T06:42:40.678942Z",
     "shell.execute_reply": "2022-06-15T06:42:40.678008Z",
     "shell.execute_reply.started": "2022-06-15T06:42:40.672073Z"
    },
    "papermill": {
     "duration": null,
     "end_time": null,
     "exception": null,
     "start_time": null,
     "status": "pending"
    },
    "tags": []
   },
   "outputs": [],
   "source": [
    "model_lgb = lgb.LGBMRegressor(objective='regression',num_leaves=5,\n",
    "                              learning_rate=0.05, n_estimators=720,\n",
    "                              max_bin = 55, bagging_fraction = 0.8,\n",
    "                              bagging_freq = 5, feature_fraction = 0.2319,\n",
    "                              feature_fraction_seed=9, bagging_seed=9,\n",
    "                              min_data_in_leaf =6, min_sum_hessian_in_leaf = 11)"
   ]
  },
  {
   "cell_type": "code",
   "execution_count": null,
   "id": "9ce53178",
   "metadata": {
    "papermill": {
     "duration": null,
     "end_time": null,
     "exception": null,
     "start_time": null,
     "status": "pending"
    },
    "tags": []
   },
   "outputs": [],
   "source": []
  },
  {
   "cell_type": "code",
   "execution_count": null,
   "id": "d92edc86",
   "metadata": {
    "execution": {
     "iopub.execute_input": "2022-06-17T14:28:35.29364Z",
     "iopub.status.busy": "2022-06-17T14:28:35.292932Z",
     "iopub.status.idle": "2022-06-17T14:28:35.312373Z",
     "shell.execute_reply": "2022-06-17T14:28:35.311687Z",
     "shell.execute_reply.started": "2022-06-17T14:28:35.293606Z"
    },
    "papermill": {
     "duration": null,
     "end_time": null,
     "exception": null,
     "start_time": null,
     "status": "pending"
    },
    "tags": []
   },
   "outputs": [],
   "source": [
    "score = rmsle_cv(lasso)\n",
    "print(\"\\nLasso score: {:.4f} ({:.4f})\\n\".format(score.mean(), score.std()))"
   ]
  },
  {
   "cell_type": "code",
   "execution_count": null,
   "id": "5ff13ec9",
   "metadata": {
    "execution": {
     "iopub.execute_input": "2022-06-15T06:37:43.854894Z",
     "iopub.status.busy": "2022-06-15T06:37:43.854529Z",
     "iopub.status.idle": "2022-06-15T06:37:43.932163Z",
     "shell.execute_reply": "2022-06-15T06:37:43.931215Z",
     "shell.execute_reply.started": "2022-06-15T06:37:43.854866Z"
    },
    "papermill": {
     "duration": null,
     "end_time": null,
     "exception": null,
     "start_time": null,
     "status": "pending"
    },
    "tags": []
   },
   "outputs": [],
   "source": [
    "score = rmsle_cv(ENet)\n",
    "print(\"ElasticNet score: {:.4f} ({:.4f})\\n\".format(score.mean(), score.std()))"
   ]
  },
  {
   "cell_type": "code",
   "execution_count": null,
   "id": "29a1fff3",
   "metadata": {
    "execution": {
     "iopub.execute_input": "2022-06-14T10:46:47.891946Z",
     "iopub.status.busy": "2022-06-14T10:46:47.89127Z",
     "iopub.status.idle": "2022-06-14T10:46:47.911235Z",
     "shell.execute_reply": "2022-06-14T10:46:47.909574Z",
     "shell.execute_reply.started": "2022-06-14T10:46:47.89185Z"
    },
    "papermill": {
     "duration": null,
     "end_time": null,
     "exception": null,
     "start_time": null,
     "status": "pending"
    },
    "tags": []
   },
   "outputs": [],
   "source": [
    "score = rmsle_cv(KRR)\n",
    "print(\"Kernel Ridge score: {:.4f} ({:.4f})\\n\".format(score.mean(), score.std()))"
   ]
  },
  {
   "cell_type": "code",
   "execution_count": null,
   "id": "182d8fb1",
   "metadata": {
    "papermill": {
     "duration": null,
     "end_time": null,
     "exception": null,
     "start_time": null,
     "status": "pending"
    },
    "tags": []
   },
   "outputs": [],
   "source": [
    "score = rmsle_cv(GBoost)\n",
    "print(\"Gradient Boosting score: {:.4f} ({:.4f})\\n\".format(score.mean(), score.std()))"
   ]
  },
  {
   "cell_type": "code",
   "execution_count": null,
   "id": "e9dda830",
   "metadata": {
    "execution": {
     "iopub.execute_input": "2022-06-15T06:42:57.977817Z",
     "iopub.status.busy": "2022-06-15T06:42:57.97709Z",
     "iopub.status.idle": "2022-06-15T06:42:57.992463Z",
     "shell.execute_reply": "2022-06-15T06:42:57.991335Z",
     "shell.execute_reply.started": "2022-06-15T06:42:57.977757Z"
    },
    "papermill": {
     "duration": null,
     "end_time": null,
     "exception": null,
     "start_time": null,
     "status": "pending"
    },
    "tags": []
   },
   "outputs": [],
   "source": [
    "score = rmsle_cv(model_xgb)\n",
    "print(\"Xgboost score: {:.4f} ({:.4f})\\n\".format(score.mean(), score.std()))"
   ]
  },
  {
   "cell_type": "code",
   "execution_count": null,
   "id": "e2f90dd2",
   "metadata": {
    "execution": {
     "iopub.execute_input": "2022-06-15T06:51:14.458055Z",
     "iopub.status.busy": "2022-06-15T06:51:14.45765Z",
     "iopub.status.idle": "2022-06-15T06:51:14.509987Z",
     "shell.execute_reply": "2022-06-15T06:51:14.509046Z",
     "shell.execute_reply.started": "2022-06-15T06:51:14.458027Z"
    },
    "papermill": {
     "duration": null,
     "end_time": null,
     "exception": null,
     "start_time": null,
     "status": "pending"
    },
    "tags": []
   },
   "outputs": [],
   "source": [
    "score = rmsle_cv(model_lgb)\n",
    "print(\"LGBM score: {:.4f} ({:.4f})\\n\" .format(score.mean(), score.std()))"
   ]
  },
  {
   "cell_type": "code",
   "execution_count": null,
   "id": "57690a0d",
   "metadata": {
    "papermill": {
     "duration": null,
     "end_time": null,
     "exception": null,
     "start_time": null,
     "status": "pending"
    },
    "tags": []
   },
   "outputs": [],
   "source": [
    "class AveragingModels(BaseEstimator, RegressorMixin, TransformerMixin):\n",
    "    def __init__(self, models):\n",
    "        self.models = models\n",
    "        \n",
    "    # we define clones of the original models to fit the data in\n",
    "    def fit(self, X, y):\n",
    "        self.models_ = [clone(x) for x in self.models]\n",
    "        \n",
    "        # Train cloned base models\n",
    "        for model in self.models_:\n",
    "            model.fit(X, y)\n",
    "\n",
    "        return self\n",
    "    \n",
    "    #Now we do the predictions for cloned models and average them\n",
    "    def predict(self, X):\n",
    "        predictions = np.column_stack([\n",
    "            model.predict(X) for model in self.models_\n",
    "        ])\n",
    "        return np.mean(predictions, axis=1)   "
   ]
  },
  {
   "cell_type": "code",
   "execution_count": null,
   "id": "ba427ecd",
   "metadata": {
    "papermill": {
     "duration": null,
     "end_time": null,
     "exception": null,
     "start_time": null,
     "status": "pending"
    },
    "tags": []
   },
   "outputs": [],
   "source": [
    "averaged_models = AveragingModels(models = (ENet, GBoost, KRR, lasso))\n",
    "\n",
    "score = rmsle_cv(averaged_models)\n",
    "print(\" Averaged base models score: {:.4f} ({:.4f})\\n\".format(score.mean(), score.std()))"
   ]
  },
  {
   "cell_type": "code",
   "execution_count": null,
   "id": "bfabaa37",
   "metadata": {
    "papermill": {
     "duration": null,
     "end_time": null,
     "exception": null,
     "start_time": null,
     "status": "pending"
    },
    "tags": []
   },
   "outputs": [],
   "source": [
    "class StackingAveragedModels(BaseEstimator, RegressorMixin, TransformerMixin):\n",
    "    def __init__(self, base_models, meta_model, n_folds=5):\n",
    "        self.base_models = base_models\n",
    "        self.meta_model = meta_model\n",
    "        self.n_folds = n_folds\n",
    "   \n",
    "    # We again fit the data on clones of the original models\n",
    "    def fit(self, X, y):\n",
    "        self.base_models_ = [list() for x in self.base_models]\n",
    "        self.meta_model_ = clone(self.meta_model)\n",
    "        kfold = KFold(n_splits=self.n_folds, shuffle=True, random_state=156)\n",
    "        \n",
    "        # Train cloned base models then create out-of-fold predictions\n",
    "        # that are needed to train the cloned meta-model\n",
    "        out_of_fold_predictions = np.zeros((X.shape[0], len(self.base_models)))\n",
    "        for i, model in enumerate(self.base_models):\n",
    "            for train_index, holdout_index in kfold.split(X, y):\n",
    "                instance = clone(model)\n",
    "                self.base_models_[i].append(instance)\n",
    "                instance.fit(X[train_index], y[train_index])\n",
    "                y_pred = instance.predict(X[holdout_index])\n",
    "                out_of_fold_predictions[holdout_index, i] = y_pred\n",
    "                \n",
    "        # Now train the cloned  meta-model using the out-of-fold predictions as new feature\n",
    "        self.meta_model_.fit(out_of_fold_predictions, y)\n",
    "        return self\n",
    "   \n",
    "    #Do the predictions of all base models on the test data and use the averaged predictions as \n",
    "    #meta-features for the final prediction which is done by the meta-model\n",
    "    def predict(self, X):\n",
    "        meta_features = np.column_stack([\n",
    "            np.column_stack([model.predict(X) for model in base_models]).mean(axis=1)\n",
    "            for base_models in self.base_models_ ])\n",
    "        return self.meta_model_.predict(meta_features)"
   ]
  },
  {
   "cell_type": "code",
   "execution_count": null,
   "id": "63f2fd97",
   "metadata": {
    "papermill": {
     "duration": null,
     "end_time": null,
     "exception": null,
     "start_time": null,
     "status": "pending"
    },
    "tags": []
   },
   "outputs": [],
   "source": [
    "stacked_averaged_models = StackingAveragedModels(base_models = (ENet, GBoost, KRR),\n",
    "                                                 meta_model = lasso)\n",
    "\n",
    "score = rmsle_cv(stacked_averaged_models)\n",
    "print(\"Stacking Averaged models score: {:.4f} ({:.4f})\".format(score.mean(), score.std()))"
   ]
  },
  {
   "cell_type": "code",
   "execution_count": null,
   "id": "5c60b4d4",
   "metadata": {
    "papermill": {
     "duration": null,
     "end_time": null,
     "exception": null,
     "start_time": null,
     "status": "pending"
    },
    "tags": []
   },
   "outputs": [],
   "source": [
    "def rmsle(y, y_pred):\n",
    "    return np.sqrt(mean_squared_error(y, y_pred))"
   ]
  },
  {
   "cell_type": "code",
   "execution_count": null,
   "id": "d66e7de8",
   "metadata": {
    "papermill": {
     "duration": null,
     "end_time": null,
     "exception": null,
     "start_time": null,
     "status": "pending"
    },
    "tags": []
   },
   "outputs": [],
   "source": [
    "stacked_averaged_models.fit(train.values, y_train)\n",
    "stacked_train_pred = stacked_averaged_models.predict(train.values)\n",
    "stacked_pred = np.expm1(stacked_averaged_models.predict(test.values))\n",
    "print(rmsle(y_train, stacked_train_pred))"
   ]
  },
  {
   "cell_type": "code",
   "execution_count": null,
   "id": "8a4f87c5",
   "metadata": {
    "papermill": {
     "duration": null,
     "end_time": null,
     "exception": null,
     "start_time": null,
     "status": "pending"
    },
    "tags": []
   },
   "outputs": [],
   "source": [
    "model_xgb.fit(train, y_train)\n",
    "xgb_train_pred = model_xgb.predict(train)\n",
    "xgb_pred = np.expm1(model_xgb.predict(test))\n",
    "print(rmsle(y_train, xgb_train_pred)"
   ]
  },
  {
   "cell_type": "code",
   "execution_count": null,
   "id": "5e82f9c7",
   "metadata": {
    "papermill": {
     "duration": null,
     "end_time": null,
     "exception": null,
     "start_time": null,
     "status": "pending"
    },
    "tags": []
   },
   "outputs": [],
   "source": [
    "model_lgb.fit(train, y_train)\n",
    "lgb_train_pred = model_lgb.predict(train)\n",
    "lgb_pred = np.expm1(model_lgb.predict(test.values))\n",
    "print(rmsle(y_train, lgb_train_pred))"
   ]
  },
  {
   "cell_type": "code",
   "execution_count": null,
   "id": "78d4712e",
   "metadata": {
    "papermill": {
     "duration": null,
     "end_time": null,
     "exception": null,
     "start_time": null,
     "status": "pending"
    },
    "tags": []
   },
   "outputs": [],
   "source": [
    "'''RMSE on the entire Train data when averaging'''\n",
    "\n",
    "print('RMSLE score on train data:')\n",
    "print(rmsle(y_train,stacked_train_pred*0.70 +\n",
    "               xgb_train_pred*0.15 + lgb_train_pred*0.15 ))"
   ]
  },
  {
   "cell_type": "code",
   "execution_count": null,
   "id": "f2b30eeb",
   "metadata": {
    "papermill": {
     "duration": null,
     "end_time": null,
     "exception": null,
     "start_time": null,
     "status": "pending"
    },
    "tags": []
   },
   "outputs": [],
   "source": [
    "ensemble = stacked_pred*0.70 + xgb_pred*0.15 + lgb_pred*0.15"
   ]
  }
 ],
 "metadata": {
  "kernelspec": {
   "display_name": "Python 3",
   "language": "python",
   "name": "python3"
  },
  "language_info": {
   "codemirror_mode": {
    "name": "ipython",
    "version": 3
   },
   "file_extension": ".py",
   "mimetype": "text/x-python",
   "name": "python",
   "nbconvert_exporter": "python",
   "pygments_lexer": "ipython3",
   "version": "3.7.12"
  },
  "papermill": {
   "default_parameters": {},
   "duration": 46.658414,
   "end_time": "2022-06-27T04:55:29.105866",
   "environment_variables": {},
   "exception": true,
   "input_path": "__notebook__.ipynb",
   "output_path": "__notebook__.ipynb",
   "parameters": {},
   "start_time": "2022-06-27T04:54:42.447452",
   "version": "2.3.4"
  }
 },
 "nbformat": 4,
 "nbformat_minor": 5
}
